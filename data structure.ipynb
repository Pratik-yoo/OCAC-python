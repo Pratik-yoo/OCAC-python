{
 "cells": [
  {
   "cell_type": "code",
   "execution_count": 1,
   "id": "c71a8192-0086-4c73-a8e3-5a5e56c7892b",
   "metadata": {},
   "outputs": [
    {
     "data": {
      "text/plain": [
       "range(0, 50)"
      ]
     },
     "execution_count": 1,
     "metadata": {},
     "output_type": "execute_result"
    }
   ],
   "source": [
    "range(50)"
   ]
  },
  {
   "cell_type": "code",
   "execution_count": 2,
   "id": "3b42645a-a637-42cb-a3fb-573767fea09a",
   "metadata": {},
   "outputs": [
    {
     "data": {
      "text/plain": [
       "[0, 1, 2, 3, 4, 5, 6, 7, 8, 9, 10, 11, 12, 13, 14, 15, 16, 17, 18, 19]"
      ]
     },
     "execution_count": 2,
     "metadata": {},
     "output_type": "execute_result"
    }
   ],
   "source": [
    "list(range(20))"
   ]
  },
  {
   "cell_type": "code",
   "execution_count": 3,
   "id": "8ffd9cbc-0ff8-46df-88ef-a7e463dd8625",
   "metadata": {},
   "outputs": [
    {
     "data": {
      "text/plain": [
       "[1, 2, 3, 4, 5, 6, 7, 8, 9, 10, 11, 12, 13, 14, 15, 16, 17, 18, 19]"
      ]
     },
     "execution_count": 3,
     "metadata": {},
     "output_type": "execute_result"
    }
   ],
   "source": [
    "list(range(1,20))"
   ]
  },
  {
   "cell_type": "code",
   "execution_count": 17,
   "id": "4ee3306c-ec17-4127-bb68-8e8207c247a7",
   "metadata": {},
   "outputs": [
    {
     "name": "stdout",
     "output_type": "stream",
     "text": [
      "[1, 6, 11, 16]\n"
     ]
    }
   ],
   "source": [
    "print(list(range(1,20,5)))"
   ]
  },
  {
   "cell_type": "code",
   "execution_count": 7,
   "id": "943c12e2-7c7f-41af-a686-8958f1d22211",
   "metadata": {},
   "outputs": [
    {
     "name": "stdout",
     "output_type": "stream",
     "text": [
      "[1, 6, 11, 16]\n"
     ]
    }
   ],
   "source": [
    "print(list(range(1,20,5)))"
   ]
  },
  {
   "cell_type": "code",
   "execution_count": 12,
   "id": "ddc9ec19-70ed-416a-8217-d8d2268d4c90",
   "metadata": {},
   "outputs": [
    {
     "name": "stdout",
     "output_type": "stream",
     "text": [
      "[30, 28, 26, 24, 22, 20, 18, 16, 14, 12, 10, 8, 6, 4, 2]\n"
     ]
    }
   ],
   "source": [
    "print(list(range(30,1,-2)))"
   ]
  },
  {
   "cell_type": "code",
   "execution_count": 16,
   "id": "a49361b0-b2df-4201-90a3-534355916077",
   "metadata": {},
   "outputs": [
    {
     "name": "stdout",
     "output_type": "stream",
     "text": [
      "[90, 89, 88, 87, 86, 85, 84, 83, 82, 81, 80, 79, 78, 77, 76, 75, 74, 73, 72, 71, 70, 69, 68, 67, 66, 65, 64, 63, 62, 61, 60, 59, 58, 57, 56, 55, 54, 53, 52, 51, 50, 49, 48, 47, 46, 45, 44, 43, 42, 41, 40, 39, 38, 37, 36, 35, 34, 33, 32, 31, 30, 29, 28, 27, 26, 25, 24, 23, 22, 21, 20, 19, 18, 17, 16, 15, 14, 13, 12, 11, 10, 9, 8, 7, 6, 5, 4, 3, 2, 1]\n"
     ]
    }
   ],
   "source": [
    "print(list(range(90,0,-1)))"
   ]
  },
  {
   "cell_type": "code",
   "execution_count": 20,
   "id": "19ed85d8-54dd-420f-a5a0-fdd1056f638a",
   "metadata": {},
   "outputs": [
    {
     "data": {
      "text/plain": [
       "[]"
      ]
     },
     "execution_count": 20,
     "metadata": {},
     "output_type": "execute_result"
    }
   ],
   "source": [
    "# empty list\n",
    "l = []\n",
    "l"
   ]
  },
  {
   "cell_type": "code",
   "execution_count": 21,
   "id": "a9aa59f6-b83c-478f-9c24-021ae7cea4aa",
   "metadata": {},
   "outputs": [
    {
     "data": {
      "text/plain": [
       "[]"
      ]
     },
     "execution_count": 21,
     "metadata": {},
     "output_type": "execute_result"
    }
   ],
   "source": [
    "l = list()\n",
    "l"
   ]
  },
  {
   "cell_type": "code",
   "execution_count": 22,
   "id": "2a51720f-7757-4b43-ab2a-ea2098d9487d",
   "metadata": {},
   "outputs": [
    {
     "data": {
      "text/plain": [
       "[1, 2, 3]"
      ]
     },
     "execution_count": 22,
     "metadata": {},
     "output_type": "execute_result"
    }
   ],
   "source": [
    "# list creation\n",
    "l=[1,2,3]\n",
    "l"
   ]
  },
  {
   "cell_type": "code",
   "execution_count": 23,
   "id": "9a120f96-6f69-4d44-a238-badb1fc2224f",
   "metadata": {},
   "outputs": [
    {
     "data": {
      "text/plain": [
       "list"
      ]
     },
     "execution_count": 23,
     "metadata": {},
     "output_type": "execute_result"
    }
   ],
   "source": [
    "type(l)"
   ]
  },
  {
   "cell_type": "code",
   "execution_count": 24,
   "id": "13141069-b92c-47f7-b87e-06f4b8162cd2",
   "metadata": {},
   "outputs": [
    {
     "data": {
      "text/plain": [
       "[1, 0.2, (1+4j), True, '4', 'rew']"
      ]
     },
     "execution_count": 24,
     "metadata": {},
     "output_type": "execute_result"
    }
   ],
   "source": [
    "li=[1,0.2,1+4j,True,'4','rew']\n",
    "li"
   ]
  },
  {
   "cell_type": "code",
   "execution_count": 25,
   "id": "01ae9e07-03d8-49b0-a6a7-11d483c9069d",
   "metadata": {},
   "outputs": [
    {
     "name": "stdout",
     "output_type": "stream",
     "text": [
      "[[1, 5], [8, 4], 4, 5]\n"
     ]
    }
   ],
   "source": [
    "lst3=[[1,5],[8,4],4,5]\n",
    "print(lst3)"
   ]
  },
  {
   "cell_type": "code",
   "execution_count": 26,
   "id": "e4b27846-a316-49aa-8933-c106776c4135",
   "metadata": {},
   "outputs": [
    {
     "name": "stdout",
     "output_type": "stream",
     "text": [
      "8\n"
     ]
    }
   ],
   "source": [
    "lst=['one','two','three','four',[1,2,4,5],9,10,[1,3]]\n",
    "print(len(lst))"
   ]
  },
  {
   "cell_type": "code",
   "execution_count": 6,
   "id": "675c187b-2737-4401-91cf-a2cb0662ea78",
   "metadata": {},
   "outputs": [
    {
     "name": "stdout",
     "output_type": "stream",
     "text": [
      "12.3\n"
     ]
    }
   ],
   "source": [
    "my_list = [11,12.3,\"hello\"]\n",
    "my_list[0]\n",
    "print(my_list[-2])"
   ]
  },
  {
   "cell_type": "code",
   "execution_count": 7,
   "id": "ca50be92-eb60-4b48-936b-2ee6683fb13e",
   "metadata": {},
   "outputs": [
    {
     "data": {
      "text/plain": [
       "['new', 12.3, 'hello']"
      ]
     },
     "execution_count": 7,
     "metadata": {},
     "output_type": "execute_result"
    }
   ],
   "source": [
    "my_list[0] = 'new'\n",
    "my_list"
   ]
  },
  {
   "cell_type": "code",
   "execution_count": 11,
   "id": "4c27f773-6966-4b0a-b019-e288601c5746",
   "metadata": {},
   "outputs": [
    {
     "name": "stdout",
     "output_type": "stream",
     "text": [
      "[11, 12, 13, 14, 15, 16, 17, 18, 19, 20]\n",
      "[11, 12, 13, 14, 15, 16, 17, 18, 19, 20]\n",
      "[11, 12, 13, 14]\n",
      "[11, 12, 13, 14, 15, 16, 17, 18, 19, 20]\n",
      "[13, 15, 17, 19]\n",
      "[19, 18, 17, 16, 15, 14, 13, 12, 11]\n"
     ]
    }
   ],
   "source": [
    "number = [11,12,13,14,15,16,17,18,19,20]\n",
    "print(number[:])\n",
    "print(number[0:])\n",
    "print(number[:4])\n",
    "print(number[::1])\n",
    "print(number[2::2])\n",
    "print(number[-2::-1])"
   ]
  },
  {
   "cell_type": "code",
   "execution_count": 12,
   "id": "ccd970fb-76df-42d3-8266-eccc32ae4f96",
   "metadata": {},
   "outputs": [
    {
     "data": {
      "text/plain": [
       "4"
      ]
     },
     "execution_count": 12,
     "metadata": {},
     "output_type": "execute_result"
    }
   ],
   "source": [
    "nest = [1,2,3,[44,55,['target',3,46]]]\n",
    "len(nest)"
   ]
  },
  {
   "cell_type": "code",
   "execution_count": 14,
   "id": "b1230e3d-84c1-4784-b2c9-ac8b02074b0e",
   "metadata": {},
   "outputs": [
    {
     "data": {
      "text/plain": [
       "'target'"
      ]
     },
     "execution_count": 14,
     "metadata": {},
     "output_type": "execute_result"
    }
   ],
   "source": [
    "nest[3][2][0]"
   ]
  },
  {
   "cell_type": "code",
   "execution_count": 3,
   "id": "b9992d18-4412-4a57-8eb1-113b24d78fc4",
   "metadata": {},
   "outputs": [],
   "source": [
    "lst = [11,22,[33,44], [55, [500, 200, ['mobile'], 33,21],1,8]] "
   ]
  },
  {
   "cell_type": "code",
   "execution_count": 4,
   "id": "bb524eec-70e5-42de-8963-26c6c7a9a457",
   "metadata": {},
   "outputs": [
    {
     "data": {
      "text/plain": [
       "'mobile'"
      ]
     },
     "execution_count": 4,
     "metadata": {},
     "output_type": "execute_result"
    }
   ],
   "source": [
    "lst[3][1][2][0]"
   ]
  },
  {
   "cell_type": "code",
   "execution_count": 6,
   "id": "e372413d-117a-4fcb-a688-969175d25de3",
   "metadata": {},
   "outputs": [
    {
     "data": {
      "text/plain": [
       "[11, 22, [33, 44], [55, [500, 200, ['mobile'], 33, 21], 0.33333, 8]]"
      ]
     },
     "execution_count": 6,
     "metadata": {},
     "output_type": "execute_result"
    }
   ],
   "source": [
    "lst[3][2]=0.33333\n",
    "lst"
   ]
  },
  {
   "cell_type": "code",
   "execution_count": 9,
   "id": "5c34c0ce-c982-4857-b431-8618dfe7a9b0",
   "metadata": {},
   "outputs": [
    {
     "data": {
      "text/plain": [
       "30"
      ]
     },
     "execution_count": 9,
     "metadata": {},
     "output_type": "execute_result"
    }
   ],
   "source": [
    "10==[\"bsad\",'b','c']\n",
    "20==['a',6,4.0]\n",
    "10+20"
   ]
  },
  {
   "cell_type": "code",
   "execution_count": 10,
   "id": "4e6654d6-fc2a-4714-86ae-0c78cc5bf76a",
   "metadata": {},
   "outputs": [
    {
     "ename": "SyntaxError",
     "evalue": "cannot assign to literal here. Maybe you meant '==' instead of '='? (1132883036.py, line 1)",
     "output_type": "error",
     "traceback": [
      "\u001b[1;36m  Cell \u001b[1;32mIn[10], line 1\u001b[1;36m\u001b[0m\n\u001b[1;33m    10=[\"bsad\",'b','c']\u001b[0m\n\u001b[1;37m    ^\u001b[0m\n\u001b[1;31mSyntaxError\u001b[0m\u001b[1;31m:\u001b[0m cannot assign to literal here. Maybe you meant '==' instead of '='?\n"
     ]
    }
   ],
   "source": [
    "10=[\"bsad\",'b','c']\n",
    "20=['a',6,4.0]\n",
    "10+20"
   ]
  },
  {
   "cell_type": "code",
   "execution_count": 11,
   "id": "b82beb7a-475f-4b8b-b1cb-91d4778c499b",
   "metadata": {},
   "outputs": [
    {
     "data": {
      "text/plain": [
       "['a', 'b', 'c', 'd', 'e', '10']"
      ]
     },
     "execution_count": 11,
     "metadata": {},
     "output_type": "execute_result"
    }
   ],
   "source": [
    "list = ['a','b','c','d','e']\n",
    "list.append('10')\n",
    "list"
   ]
  },
  {
   "cell_type": "code",
   "execution_count": 12,
   "id": "6b7144d4-15cf-4259-88e1-df4ab7ebe6dd",
   "metadata": {},
   "outputs": [
    {
     "data": {
      "text/plain": [
       "[1, 2, 3, 4, 5, 6, 7, [8, 9, 10]]"
      ]
     },
     "execution_count": 12,
     "metadata": {},
     "output_type": "execute_result"
    }
   ],
   "source": [
    "list = [1,2,3,4,5,6,7,]\n",
    "list.append([8,9,10])\n",
    "list"
   ]
  },
  {
   "cell_type": "code",
   "execution_count": 14,
   "id": "cd8982b1-142f-4f8f-b741-765030391b00",
   "metadata": {},
   "outputs": [
    {
     "data": {
      "text/plain": [
       "[10, 11, 12, 13, 14, 15, 16, 17, 18, 19, 20]"
      ]
     },
     "execution_count": 14,
     "metadata": {},
     "output_type": "execute_result"
    }
   ],
   "source": [
    "lst=[10,11,12,13,14,15]\n",
    "lst.extend([16,17,18,19,20])\n",
    "lst"
   ]
  },
  {
   "cell_type": "code",
   "execution_count": 15,
   "id": "d383cf03-c7c6-452f-b0c4-6b3a03e06001",
   "metadata": {},
   "outputs": [
    {
     "data": {
      "text/plain": [
       "['one', 'two', 6, 'three', 'four']"
      ]
     },
     "execution_count": 15,
     "metadata": {},
     "output_type": "execute_result"
    }
   ],
   "source": [
    "lst = ['one','two','three','four']\n",
    "lst.insert(2,6)\n",
    "lst"
   ]
  },
  {
   "cell_type": "code",
   "execution_count": 16,
   "id": "169b87ad-51c2-4cf2-956b-e1d558fdcfc2",
   "metadata": {},
   "outputs": [
    {
     "name": "stdout",
     "output_type": "stream",
     "text": [
      "['one', 'two', 6, 'three', 'four']\n"
     ]
    }
   ],
   "source": [
    "lst = ['one','two','three','four']\n",
    "lst.insert(2,6)\n",
    "print(lst)"
   ]
  },
  {
   "cell_type": "code",
   "execution_count": 17,
   "id": "6528268e-b762-4b43-943a-eeec5365ba42",
   "metadata": {},
   "outputs": [
    {
     "data": {
      "text/plain": [
       "[20, 30, 4, 5, 6, 10, 7, 8, 9, 10, 11, 12, 13, 14, 15]"
      ]
     },
     "execution_count": 17,
     "metadata": {},
     "output_type": "execute_result"
    }
   ],
   "source": [
    "marks =  [20, 30, 10,4, 5, 6,10, 7, 8, 9, 10, 11, 12, 13, 14, 15] \n",
    "marks.remove(10)\n",
    "marks"
   ]
  },
  {
   "cell_type": "code",
   "execution_count": 18,
   "id": "362d2d58-e6e1-4e82-969b-c42c97d84257",
   "metadata": {},
   "outputs": [
    {
     "data": {
      "text/plain": [
       "[20, 30, 10, 4, 5, 6, 10, 7, 8, 9, 10, 11, 12, 13, 14]"
      ]
     },
     "execution_count": 18,
     "metadata": {},
     "output_type": "execute_result"
    }
   ],
   "source": [
    "dell =  [20, 30, 10,4, 5, 6,10, 7, 8, 9, 10, 11, 12, 13, 14, 15] \n",
    "dell.remove(15)\n",
    "dell"
   ]
  },
  {
   "cell_type": "code",
   "execution_count": 22,
   "id": "75ce87ff-4934-4c6f-9568-fbf35c75e9da",
   "metadata": {},
   "outputs": [
    {
     "data": {
      "text/plain": [
       "['one', 'three', 'four', 'two']"
      ]
     },
     "execution_count": 22,
     "metadata": {},
     "output_type": "execute_result"
    }
   ],
   "source": [
    "lst=['one', [1,2, 'two'], 'three', 'four', 'two'] \n",
    "lst.remove(lst[1])\n",
    "lst"
   ]
  },
  {
   "cell_type": "code",
   "execution_count": 23,
   "id": "f3343504-f7bb-4640-ae11-d8dc5e30b51a",
   "metadata": {},
   "outputs": [
    {
     "data": {
      "text/plain": [
       "[]"
      ]
     },
     "execution_count": 23,
     "metadata": {},
     "output_type": "execute_result"
    }
   ],
   "source": [
    "c=[1,2,3,4,5,]\n",
    "c.clear()\n",
    "c"
   ]
  },
  {
   "cell_type": "code",
   "execution_count": 26,
   "id": "cc026c1c-a60e-4b63-bc51-3184effda695",
   "metadata": {},
   "outputs": [
    {
     "data": {
      "text/plain": [
       "[1, 2, 3, 4, 6, 7, 8, 9]"
      ]
     },
     "execution_count": 26,
     "metadata": {},
     "output_type": "execute_result"
    }
   ],
   "source": [
    "lst=[1,2,3,4,6,7,8,9,15] \n",
    "lst.pop() \n",
    "lst"
   ]
  },
  {
   "cell_type": "code",
   "execution_count": 28,
   "id": "0a6e30a7-3d5d-4ae1-ad55-d2dd75f72674",
   "metadata": {},
   "outputs": [
    {
     "data": {
      "text/plain": [
       "['one', 'two', 'four']"
      ]
     },
     "execution_count": 28,
     "metadata": {},
     "output_type": "execute_result"
    }
   ],
   "source": [
    "lst = ['one','two','three','four']\n",
    "lst.pop(2)\n",
    "lst"
   ]
  },
  {
   "cell_type": "code",
   "execution_count": 29,
   "id": "e25029d9-29d2-4bbc-a7d6-22443a88bc1a",
   "metadata": {},
   "outputs": [
    {
     "data": {
      "text/plain": [
       "['two', ['three', 'four'], 'five', 'six']"
      ]
     },
     "execution_count": 29,
     "metadata": {},
     "output_type": "execute_result"
    }
   ],
   "source": [
    "lst = ['one','two',['three','four'],'five','six']\n",
    "del lst[0]\n",
    "lst"
   ]
  },
  {
   "cell_type": "code",
   "execution_count": 31,
   "id": "16333584-df36-42d6-ac33-d8e144899906",
   "metadata": {},
   "outputs": [
    {
     "data": {
      "text/plain": [
       "[13, 14, 15, 16, 17, 18, 19, 20]"
      ]
     },
     "execution_count": 31,
     "metadata": {},
     "output_type": "execute_result"
    }
   ],
   "source": [
    "hp=[1,2,3,4,5,6,7,8,9,10,11,12,13,14,15,16,17,18,19,20]\n",
    "del hp[0:12]\n",
    "hp"
   ]
  },
  {
   "cell_type": "code",
   "execution_count": 32,
   "id": "09119ffb-af8e-4f96-803f-c82c69d3bce4",
   "metadata": {},
   "outputs": [
    {
     "data": {
      "text/plain": [
       "['six', 'five', ['three', 'four'], 'two', 'one']"
      ]
     },
     "execution_count": 32,
     "metadata": {},
     "output_type": "execute_result"
    }
   ],
   "source": [
    "lst = ['one','two',['three','four'],'five','six']\n",
    "lst.reverse()\n",
    "lst"
   ]
  },
  {
   "cell_type": "code",
   "execution_count": 33,
   "id": "51ecbee3-885c-4fd1-9dac-d711d4c74a06",
   "metadata": {},
   "outputs": [
    {
     "data": {
      "text/plain": [
       "[0, 1, 1, 2, 3, 4, 5, 5, 6, 8, 9]"
      ]
     },
     "execution_count": 33,
     "metadata": {},
     "output_type": "execute_result"
    }
   ],
   "source": [
    "num=[9,8,5,4,6,1,2,3,0,1,5,]\n",
    "sorted(num)"
   ]
  },
  {
   "cell_type": "code",
   "execution_count": 34,
   "id": "06170643-9520-4f4d-bb40-6971613d5984",
   "metadata": {},
   "outputs": [
    {
     "data": {
      "text/plain": [
       "[9, 8, 6, 5, 5, 4, 3, 2, 1, 1, 0]"
      ]
     },
     "execution_count": 34,
     "metadata": {},
     "output_type": "execute_result"
    }
   ],
   "source": [
    "sorted(num,reverse=True)"
   ]
  },
  {
   "cell_type": "code",
   "execution_count": 36,
   "id": "0005343f-f192-4b0d-a16b-518657deab45",
   "metadata": {},
   "outputs": [
    {
     "data": {
      "text/plain": [
       "[1, 4.2, 5, 5, 20.3, 50, 70, 90]"
      ]
     },
     "execution_count": 36,
     "metadata": {},
     "output_type": "execute_result"
    }
   ],
   "source": [
    "lst = [1, 20.30,50,5,90,5,70,4.2] \n",
    "lst.sort() \n",
    "lst \n"
   ]
  },
  {
   "cell_type": "code",
   "execution_count": 38,
   "id": "915b8794-7da0-4da4-87e3-2e1e213f507c",
   "metadata": {},
   "outputs": [
    {
     "ename": "TypeError",
     "evalue": "'<' not supported between instances of 'str' and 'int'",
     "output_type": "error",
     "traceback": [
      "\u001b[1;31m---------------------------------------------------------------------------\u001b[0m",
      "\u001b[1;31mTypeError\u001b[0m                                 Traceback (most recent call last)",
      "Cell \u001b[1;32mIn[38], line 2\u001b[0m\n\u001b[0;32m      1\u001b[0m lst \u001b[38;5;241m=\u001b[39m [\u001b[38;5;241m1\u001b[39m,\u001b[38;5;241m20\u001b[39m,\u001b[38;5;124m'\u001b[39m\u001b[38;5;124mb\u001b[39m\u001b[38;5;124m'\u001b[39m,\u001b[38;5;241m5\u001b[39m,\u001b[38;5;124m'\u001b[39m\u001b[38;5;124ma\u001b[39m\u001b[38;5;124m'\u001b[39m]\n\u001b[1;32m----> 2\u001b[0m \u001b[38;5;28mprint\u001b[39m(lst\u001b[38;5;241m.\u001b[39msort())\n",
      "\u001b[1;31mTypeError\u001b[0m: '<' not supported between instances of 'str' and 'int'"
     ]
    }
   ],
   "source": [
    "lst = [1,20,'b',5,'a']\n",
    "print(lst.sort())"
   ]
  },
  {
   "cell_type": "code",
   "execution_count": 39,
   "id": "0bfa1198-d2b9-48ae-8f64-b8b950150b36",
   "metadata": {},
   "outputs": [
    {
     "name": "stdout",
     "output_type": "stream",
     "text": [
      "2\n",
      "2\n"
     ]
    }
   ],
   "source": [
    "num=[1,2,3,4,5,1,70,50,0,6,9,0,5,8,7,6,8]\n",
    "print(num.count(6))\n",
    "print(num.count(5))"
   ]
  },
  {
   "cell_type": "code",
   "execution_count": 40,
   "id": "516d0c83-01d6-4fc2-b7ec-c7bb1a480d2d",
   "metadata": {},
   "outputs": [
    {
     "name": "stdout",
     "output_type": "stream",
     "text": [
      "[1, 1.0, 1.2, 1.3, 10]\n",
      "[1, 1.0, 1.2, 1.3, 10]\n"
     ]
    }
   ],
   "source": [
    "la=[1,1.0,1.2,1.3]\n",
    "lb=la\n",
    "lb.append(10)\n",
    "print(la)\n",
    "print(lb)"
   ]
  },
  {
   "cell_type": "code",
   "execution_count": 41,
   "id": "bb166c4c-c558-477b-9c2d-09dc277ee63a",
   "metadata": {},
   "outputs": [
    {
     "name": "stdout",
     "output_type": "stream",
     "text": [
      "[1, 1.0, 1.2, 1.3]\n",
      "[1, 1.0, 1.2, 1.3, 10]\n"
     ]
    }
   ],
   "source": [
    "la=[1,1.0,1.2,1.3]\n",
    "lb=la.copy()\n",
    "lb.append(10)\n",
    "print(la)\n",
    "print(lb)"
   ]
  },
  {
   "cell_type": "code",
   "execution_count": 42,
   "id": "3d9ec11a-a43d-4dd3-805f-765b5a400be4",
   "metadata": {},
   "outputs": [
    {
     "data": {
      "text/plain": [
       "2"
      ]
     },
     "execution_count": 42,
     "metadata": {},
     "output_type": "execute_result"
    }
   ],
   "source": [
    "lst =[1,2,20]\n",
    "lst.index(20)"
   ]
  },
  {
   "cell_type": "code",
   "execution_count": 43,
   "id": "48d1afd6-6c5f-46f6-8859-f875c6dc0bd2",
   "metadata": {},
   "outputs": [
    {
     "data": {
      "text/plain": [
       "1"
      ]
     },
     "execution_count": 43,
     "metadata": {},
     "output_type": "execute_result"
    }
   ],
   "source": [
    "min(lst)"
   ]
  },
  {
   "cell_type": "code",
   "execution_count": 44,
   "id": "97ba42d7-8a6e-43ce-ae7c-8c9cbe4f0295",
   "metadata": {},
   "outputs": [
    {
     "data": {
      "text/plain": [
       "20"
      ]
     },
     "execution_count": 44,
     "metadata": {},
     "output_type": "execute_result"
    }
   ],
   "source": [
    "max(lst)"
   ]
  },
  {
   "cell_type": "code",
   "execution_count": 45,
   "id": "9853ccb1-618e-474b-bb10-93fd70908404",
   "metadata": {},
   "outputs": [
    {
     "data": {
      "text/plain": [
       "23"
      ]
     },
     "execution_count": 45,
     "metadata": {},
     "output_type": "execute_result"
    }
   ],
   "source": [
    "lst =[1,2,20]\n",
    "sum(lst)"
   ]
  },
  {
   "cell_type": "code",
   "execution_count": null,
   "id": "366b651a-6b55-436c-9696-80441808b082",
   "metadata": {},
   "outputs": [],
   "source": []
  }
 ],
 "metadata": {
  "kernelspec": {
   "display_name": "Python 3 (ipykernel)",
   "language": "python",
   "name": "python3"
  },
  "language_info": {
   "codemirror_mode": {
    "name": "ipython",
    "version": 3
   },
   "file_extension": ".py",
   "mimetype": "text/x-python",
   "name": "python",
   "nbconvert_exporter": "python",
   "pygments_lexer": "ipython3",
   "version": "3.11.7"
  }
 },
 "nbformat": 4,
 "nbformat_minor": 5
}
