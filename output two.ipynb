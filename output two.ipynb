{
 "cells": [
  {
   "cell_type": "code",
   "execution_count": 1,
   "id": "b9de52c0-5eff-404b-9b54-e4e12389fed1",
   "metadata": {},
   "outputs": [
    {
     "name": "stdin",
     "output_type": "stream",
     "text": [
      "Enter the value of a:  2\n",
      "Enter the value of b:  5\n"
     ]
    },
    {
     "name": "stdout",
     "output_type": "stream",
     "text": [
      "ADD: 7\n",
      "Sum: 7, Diff: -3, Mult:10, Div:0.4, Mod: 2\n"
     ]
    }
   ],
   "source": [
    "a = int(input(\"Enter the value of a: \")) \n",
    "b=int(input(\"Enter the value of b: \")) \n",
    "add=a+b \n",
    "sub=a-b \n",
    "mult=a*b \n",
    "div=a/b \n",
    "mod=a%b \n",
    "print(\"ADD:\", add) \n",
    "print(\"Sum: {0}, Diff: {1}, Mult:{2}, Div:{3}, Mod: {4}\".format(add, sub,mult,div,mod))"
   ]
  },
  {
   "cell_type": "code",
   "execution_count": 3,
   "id": "60bef90e-5034-48c4-ac25-c10938e60ce2",
   "metadata": {},
   "outputs": [
    {
     "name": "stdout",
     "output_type": "stream",
     "text": [
      "Sum:7,Diff:-3,Mult:10,Div:0.4,Mod:2\n"
     ]
    }
   ],
   "source": [
    "print(\"Sum:{},Diff:{},Mult:{},Div:{},Mod:{}\".format(add,sub,mult,div,mod))"
   ]
  },
  {
   "cell_type": "code",
   "execution_count": 5,
   "id": "f1a84fa4-1aaf-40ee-9993-bcd125dc547a",
   "metadata": {},
   "outputs": [
    {
     "name": "stdout",
     "output_type": "stream",
     "text": [
      "Sum: 7, Diff: -3, Mult: 10, Div:        0.400000, Mod:2\n"
     ]
    }
   ],
   "source": [
    "print(\"Sum: %d, Diff: %d, Mult: %d, Div: %15.6f, Mod:%d\" % (add, sub, mult, div, mod))"
   ]
  },
  {
   "cell_type": "code",
   "execution_count": 7,
   "id": "787d8284-9d2b-446a-bce9-c18677ff75b5",
   "metadata": {},
   "outputs": [
    {
     "name": "stdout",
     "output_type": "stream",
     "text": [
      "Sum: 7, Diff: -3,Mult: 10, Div:      0.40, Mod: 2\n"
     ]
    }
   ],
   "source": [
    "print(\"Sum: %d, Diff: %d,Mult: %d, Div: %9.2f, Mod: %d\" % (add,sub,mult,div,mod))"
   ]
  },
  {
   "cell_type": "code",
   "execution_count": 9,
   "id": "99605317-b7c3-44ae-b6b0-adc358a7e9e5",
   "metadata": {},
   "outputs": [
    {
     "name": "stdout",
     "output_type": "stream",
     "text": [
      "sum  | Mult | Diff |  div\n",
      "7    |  10  |  -3  |  0.4\n"
     ]
    }
   ],
   "source": [
    "print('{0: <4} | {2:^4} | {1:^4} | {3:>4}' .format('sum','Diff', 'Mult','div'))\n",
    "print('{0:<4} | {2:^4} | {1:^4} | {3:>4}'.format(add,sub,mult,div))"
   ]
  },
  {
   "cell_type": "code",
   "execution_count": 11,
   "id": "3dd536e7-630a-4c62-afb0-19bb4f9f0feb",
   "metadata": {},
   "outputs": [
    {
     "name": "stdout",
     "output_type": "stream",
     "text": [
      "welcome to python Master Class !\n"
     ]
    }
   ],
   "source": [
    "a=\"Master Class\"\n",
    "print(f\"welcome to python {a} !\") #Formating string literals"
   ]
  },
  {
   "cell_type": "code",
   "execution_count": 13,
   "id": "dab6f8c7-ed7b-462b-9637-ff6fda32cca0",
   "metadata": {},
   "outputs": [
    {
     "name": "stdin",
     "output_type": "stream",
     "text": [
      "Enter a company name -  ocac\n",
      " enter the number of employee -  20\n"
     ]
    },
    {
     "name": "stdout",
     "output_type": "stream",
     "text": [
      "The name of the company is and the number of employee are  ocac 20\n"
     ]
    }
   ],
   "source": [
    "f = input(\"Enter a company name - \")\n",
    "g = input (\" enter the number of employee - \")\n",
    "print(\"The name of the company is and the number of employee are \",f,g)"
   ]
  },
  {
   "cell_type": "code",
   "execution_count": 15,
   "id": "5da18476-d077-4eb3-b18b-a23fef6e5b1e",
   "metadata": {},
   "outputs": [
    {
     "name": "stdout",
     "output_type": "stream",
     "text": [
      " The name of the compaany is ocac and the number of employees are  20\n"
     ]
    }
   ],
   "source": [
    "print(\" The name of the compaany is\" ,f,\"and the number of employees are \",g,)"
   ]
  },
  {
   "cell_type": "code",
   "execution_count": 17,
   "id": "59c03d53-9541-442e-8bb8-0b3d9cfc2b02",
   "metadata": {},
   "outputs": [
    {
     "name": "stdout",
     "output_type": "stream",
     "text": [
      "The name of the company isocac and the number of employee are20\n"
     ]
    }
   ],
   "source": [
    "print(f\"The name of the company is{f} and the number of employee are{g}\")"
   ]
  },
  {
   "cell_type": "code",
   "execution_count": null,
   "id": "804f4397-1494-413e-b404-dba3fbd08d20",
   "metadata": {},
   "outputs": [],
   "source": []
  }
 ],
 "metadata": {
  "kernelspec": {
   "display_name": "Python 3 (ipykernel)",
   "language": "python",
   "name": "python3"
  },
  "language_info": {
   "codemirror_mode": {
    "name": "ipython",
    "version": 3
   },
   "file_extension": ".py",
   "mimetype": "text/x-python",
   "name": "python",
   "nbconvert_exporter": "python",
   "pygments_lexer": "ipython3",
   "version": "3.11.7"
  }
 },
 "nbformat": 4,
 "nbformat_minor": 5
}
