{
 "cells": [
  {
   "cell_type": "code",
   "execution_count": 1,
   "id": "c402b2be-2d0c-4c56-aeb4-006df736bbba",
   "metadata": {},
   "outputs": [
    {
     "data": {
      "text/plain": [
       "tuple"
      ]
     },
     "execution_count": 1,
     "metadata": {},
     "output_type": "execute_result"
    }
   ],
   "source": [
    " tup1 = () \n",
    "type(tup1) "
   ]
  },
  {
   "cell_type": "code",
   "execution_count": 2,
   "id": "b6c23ccb-40f8-456c-8a85-316cd91c602c",
   "metadata": {},
   "outputs": [
    {
     "data": {
      "text/plain": [
       "tuple"
      ]
     },
     "execution_count": 2,
     "metadata": {},
     "output_type": "execute_result"
    }
   ],
   "source": [
    "tup2=tuple() \n",
    "type(tup2)"
   ]
  },
  {
   "cell_type": "code",
   "execution_count": 3,
   "id": "32b423fc-88f6-45d4-98db-95ad03c1b535",
   "metadata": {},
   "outputs": [
    {
     "data": {
      "text/plain": [
       "(100, 'siva', 17.765)"
      ]
     },
     "execution_count": 3,
     "metadata": {},
     "output_type": "execute_result"
    }
   ],
   "source": [
    "tup3=(100, 'siva', 17.765)\n",
    "tup3"
   ]
  },
  {
   "cell_type": "code",
   "execution_count": 32,
   "id": "310c066a-dedf-47ba-bc46-0cea84a34aaf",
   "metadata": {},
   "outputs": [
    {
     "data": {
      "text/plain": [
       "'28'"
      ]
     },
     "execution_count": 32,
     "metadata": {},
     "output_type": "execute_result"
    }
   ],
   "source": [
    "b=(1,2,3,\"pratik\",[4,5,6],[28,31],'ok')\n",
    "len(b)\n",
    "str(28)"
   ]
  },
  {
   "cell_type": "code",
   "execution_count": 33,
   "id": "17abfe4a-02eb-4d74-8a73-4a5cc87f5048",
   "metadata": {},
   "outputs": [
    {
     "name": "stdout",
     "output_type": "stream",
     "text": [
      "(1, 2, 3, 'pratik', [4, 5, 6], [28, 31], 'ok')\n"
     ]
    }
   ],
   "source": [
    "print(b)"
   ]
  },
  {
   "cell_type": "code",
   "execution_count": 34,
   "id": "0929fa1a-2e69-4311-a64b-c354631bb767",
   "metadata": {},
   "outputs": [
    {
     "data": {
      "text/plain": [
       "(1, 2, 3, 'pratik', [4, 5, 6], ['28', 31], 'ok')"
      ]
     },
     "execution_count": 34,
     "metadata": {},
     "output_type": "execute_result"
    }
   ],
   "source": [
    "b[5][0]=str(28)\n",
    "b"
   ]
  },
  {
   "cell_type": "code",
   "execution_count": 36,
   "id": "6bfa5b8b-df18-440a-b77a-3e17cd29ffeb",
   "metadata": {},
   "outputs": [
    {
     "data": {
      "text/plain": [
       "str"
      ]
     },
     "execution_count": 36,
     "metadata": {},
     "output_type": "execute_result"
    }
   ],
   "source": [
    "type('28')"
   ]
  },
  {
   "cell_type": "code",
   "execution_count": 7,
   "id": "14682694-62ea-46d8-aef6-b7eb5fe0b8dd",
   "metadata": {},
   "outputs": [
    {
     "data": {
      "text/plain": [
       "str"
      ]
     },
     "execution_count": 7,
     "metadata": {},
     "output_type": "execute_result"
    }
   ],
   "source": [
    "type('pratik')"
   ]
  },
  {
   "cell_type": "code",
   "execution_count": 24,
   "id": "8775b3f4-cad2-4d10-925d-67d9c719f832",
   "metadata": {},
   "outputs": [
    {
     "name": "stdout",
     "output_type": "stream",
     "text": [
      "[1, 2, 3, 'pratik', [4, 5, 6], (28, 31), 'ok']\n"
     ]
    }
   ],
   "source": [
    "print(b)"
   ]
  },
  {
   "cell_type": "code",
   "execution_count": 10,
   "id": "a4728bb8-dced-48b9-8edd-a4e40b2d0d9a",
   "metadata": {},
   "outputs": [
    {
     "data": {
      "text/plain": [
       "tuple"
      ]
     },
     "execution_count": 10,
     "metadata": {},
     "output_type": "execute_result"
    }
   ],
   "source": [
    "type(b)"
   ]
  },
  {
   "cell_type": "code",
   "execution_count": 1,
   "id": "dc43547d-c817-4b7d-a773-9e6881387332",
   "metadata": {},
   "outputs": [],
   "source": [
    "mytuple1 = (54,78,88,23,7,81,78)"
   ]
  },
  {
   "cell_type": "code",
   "execution_count": 2,
   "id": "f3b87c29-a7cd-4f54-be07-31e1cc84732e",
   "metadata": {},
   "outputs": [
    {
     "data": {
      "text/plain": [
       "[7, 23, 54, 78, 78, 81, 88]"
      ]
     },
     "execution_count": 2,
     "metadata": {},
     "output_type": "execute_result"
    }
   ],
   "source": [
    "sorted(mytuple1)"
   ]
  },
  {
   "cell_type": "code",
   "execution_count": 3,
   "id": "498bac66-4ea5-41d3-a3e6-1f859cf09fef",
   "metadata": {},
   "outputs": [
    {
     "data": {
      "text/plain": [
       "[88, 81, 78, 78, 54, 23, 7]"
      ]
     },
     "execution_count": 3,
     "metadata": {},
     "output_type": "execute_result"
    }
   ],
   "source": [
    "sorted(mytuple1, reverse=True)"
   ]
  },
  {
   "cell_type": "code",
   "execution_count": 4,
   "id": "65577bc4-d51b-43c1-9aac-31872b2cecac",
   "metadata": {},
   "outputs": [
    {
     "data": {
      "text/plain": [
       "(54, 78, 88, 23, 7, 81, 78)"
      ]
     },
     "execution_count": 4,
     "metadata": {},
     "output_type": "execute_result"
    }
   ],
   "source": [
    "mytuple1"
   ]
  },
  {
   "cell_type": "code",
   "execution_count": 4,
   "id": "ea9084ea-ebaa-4c46-84fa-117b70b4a543",
   "metadata": {},
   "outputs": [
    {
     "ename": "NameError",
     "evalue": "name 'tup' is not defined",
     "output_type": "error",
     "traceback": [
      "\u001b[1;31m---------------------------------------------------------------------------\u001b[0m",
      "\u001b[1;31mNameError\u001b[0m                                 Traceback (most recent call last)",
      "Cell \u001b[1;32mIn[4], line 2\u001b[0m\n\u001b[0;32m      1\u001b[0m tup1\u001b[38;5;241m=\u001b[39m(\u001b[38;5;241m1\u001b[39m,\u001b[38;5;241m2\u001b[39m,\u001b[38;5;241m3\u001b[39m,\u001b[38;5;124m\"\u001b[39m\u001b[38;5;124mpratik\u001b[39m\u001b[38;5;124m\"\u001b[39m,[\u001b[38;5;241m4\u001b[39m,\u001b[38;5;241m5\u001b[39m,\u001b[38;5;241m6\u001b[39m],[\u001b[38;5;241m28\u001b[39m,\u001b[38;5;241m31\u001b[39m],\u001b[38;5;124m'\u001b[39m\u001b[38;5;124mok\u001b[39m\u001b[38;5;124m'\u001b[39m)\n\u001b[1;32m----> 2\u001b[0m tup[\u001b[38;5;241m0\u001b[39m]\n",
      "\u001b[1;31mNameError\u001b[0m: name 'tup' is not defined"
     ]
    }
   ],
   "source": [
    "tup1=(1,2,3,\"pratik\",[4,5,6],[28,31],'ok')\n",
    "tup[0]"
   ]
  },
  {
   "cell_type": "code",
   "execution_count": 5,
   "id": "06d0c24a-f1ef-48c2-8b4c-2c96f7e04fe3",
   "metadata": {},
   "outputs": [
    {
     "data": {
      "text/plain": [
       "tuple"
      ]
     },
     "execution_count": 5,
     "metadata": {},
     "output_type": "execute_result"
    }
   ],
   "source": [
    "tup1=()\n",
    "type(tup1)"
   ]
  },
  {
   "cell_type": "code",
   "execution_count": 6,
   "id": "8f21bfbc-f3b2-414e-b333-479e7570897e",
   "metadata": {},
   "outputs": [
    {
     "data": {
      "text/plain": [
       "tuple"
      ]
     },
     "execution_count": 6,
     "metadata": {},
     "output_type": "execute_result"
    }
   ],
   "source": [
    "tup11=tuple()\n",
    "type(tup11)"
   ]
  },
  {
   "cell_type": "code",
   "execution_count": 7,
   "id": "3b99c451-a596-4028-a651-324059328a96",
   "metadata": {},
   "outputs": [
    {
     "data": {
      "text/plain": [
       "(111, 'pratik', 14.223)"
      ]
     },
     "execution_count": 7,
     "metadata": {},
     "output_type": "execute_result"
    }
   ],
   "source": [
    "tup12=(111,'pratik',14.223)\n",
    "tup12"
   ]
  },
  {
   "cell_type": "code",
   "execution_count": 8,
   "id": "a66e6482-284e-44e5-9ebe-eaff52cdfb9e",
   "metadata": {},
   "outputs": [],
   "source": [
    "tup13=('pratik',45,(60,170),(1080,94))"
   ]
  },
  {
   "cell_type": "code",
   "execution_count": 13,
   "id": "413fbdcb-b8ac-4286-baac-f45da2a3e980",
   "metadata": {},
   "outputs": [],
   "source": [
    "tup14=(\"pratik\",25,[59,120],[140,80,],{'dell','hp'},(81,33,48))"
   ]
  },
  {
   "cell_type": "code",
   "execution_count": 15,
   "id": "1cf5201a-1284-4b2e-9a9d-ea6c603129ea",
   "metadata": {},
   "outputs": [],
   "source": [
    "tup14[3][0]=8079"
   ]
  },
  {
   "cell_type": "code",
   "execution_count": 16,
   "id": "ec44099c-3ee6-4dc3-898f-8bca36677e21",
   "metadata": {},
   "outputs": [
    {
     "data": {
      "text/plain": [
       "('pratik', 25, [59, 120], [8079, 80], {'dell', 'hp'}, (81, 33, 48))"
      ]
     },
     "execution_count": 16,
     "metadata": {},
     "output_type": "execute_result"
    }
   ],
   "source": [
    "tup14"
   ]
  },
  {
   "cell_type": "code",
   "execution_count": 17,
   "id": "7b92eb8c-5cd2-43c1-819a-36e2d0b331e8",
   "metadata": {},
   "outputs": [
    {
     "data": {
      "text/plain": [
       "6"
      ]
     },
     "execution_count": 17,
     "metadata": {},
     "output_type": "execute_result"
    }
   ],
   "source": [
    "len(tup14)"
   ]
  },
  {
   "cell_type": "code",
   "execution_count": 18,
   "id": "7048d05d-5e42-44d4-8404-877ce730416c",
   "metadata": {},
   "outputs": [
    {
     "data": {
      "text/plain": [
       "'pratik'"
      ]
     },
     "execution_count": 18,
     "metadata": {},
     "output_type": "execute_result"
    }
   ],
   "source": [
    "tup14[0]"
   ]
  },
  {
   "cell_type": "code",
   "execution_count": 19,
   "id": "811e560c-fcce-4e1a-81a8-f0e1e4340f22",
   "metadata": {},
   "outputs": [
    {
     "data": {
      "text/plain": [
       "59"
      ]
     },
     "execution_count": 19,
     "metadata": {},
     "output_type": "execute_result"
    }
   ],
   "source": [
    "tup14[2][0]"
   ]
  },
  {
   "cell_type": "code",
   "execution_count": 20,
   "id": "ea9af25b-4e30-4aee-8d65-4537ee8782af",
   "metadata": {},
   "outputs": [
    {
     "data": {
      "text/plain": [
       "(81, 33, 48)"
      ]
     },
     "execution_count": 20,
     "metadata": {},
     "output_type": "execute_result"
    }
   ],
   "source": [
    "tup14[-1]"
   ]
  },
  {
   "cell_type": "code",
   "execution_count": 21,
   "id": "6aa40f46-dc3c-4635-bc5e-f2f8e411603f",
   "metadata": {},
   "outputs": [],
   "source": [
    "mytup=('one','two','three','four','five','six','seven','eight')"
   ]
  },
  {
   "cell_type": "code",
   "execution_count": 22,
   "id": "ce5e433f-23d4-47f1-aca2-b4310f6dedf5",
   "metadata": {},
   "outputs": [
    {
     "data": {
      "text/plain": [
       "('one', 'two', 'three')"
      ]
     },
     "execution_count": 22,
     "metadata": {},
     "output_type": "execute_result"
    }
   ],
   "source": [
    "mytup[0:3]"
   ]
  },
  {
   "cell_type": "code",
   "execution_count": 23,
   "id": "ca99f801-eb6f-40f5-9ffa-3dde6af8a8a5",
   "metadata": {},
   "outputs": [
    {
     "data": {
      "text/plain": [
       "('three', 'four', 'five')"
      ]
     },
     "execution_count": 23,
     "metadata": {},
     "output_type": "execute_result"
    }
   ],
   "source": [
    "mytup[2:5]"
   ]
  },
  {
   "cell_type": "code",
   "execution_count": 24,
   "id": "e34f5d46-ae9e-49e3-81f6-9036c376563c",
   "metadata": {},
   "outputs": [
    {
     "data": {
      "text/plain": [
       "('one', 'two', 'three')"
      ]
     },
     "execution_count": 24,
     "metadata": {},
     "output_type": "execute_result"
    }
   ],
   "source": [
    "mytup[:3]"
   ]
  },
  {
   "cell_type": "code",
   "execution_count": 25,
   "id": "4495d6aa-8963-4e36-b007-0f9646189b82",
   "metadata": {},
   "outputs": [
    {
     "data": {
      "text/plain": [
       "('one', 'two', 'three', 'four', 'five')"
      ]
     },
     "execution_count": 25,
     "metadata": {},
     "output_type": "execute_result"
    }
   ],
   "source": [
    "mytup[:-3]"
   ]
  },
  {
   "cell_type": "code",
   "execution_count": 26,
   "id": "2ce07859-fa44-4a9b-89d4-a66727021d9e",
   "metadata": {},
   "outputs": [
    {
     "data": {
      "text/plain": [
       "('six', 'five', 'four', 'three', 'two', 'one')"
      ]
     },
     "execution_count": 26,
     "metadata": {},
     "output_type": "execute_result"
    }
   ],
   "source": [
    "mytup[-3::-1]"
   ]
  },
  {
   "cell_type": "code",
   "execution_count": 27,
   "id": "efa7baf7-9b3e-4a95-9e95-0c8a72a8a28a",
   "metadata": {},
   "outputs": [
    {
     "data": {
      "text/plain": [
       "('one', 'two')"
      ]
     },
     "execution_count": 27,
     "metadata": {},
     "output_type": "execute_result"
    }
   ],
   "source": [
    "mytup[:2]"
   ]
  },
  {
   "cell_type": "code",
   "execution_count": 28,
   "id": "b0c62a4f-ca9d-428c-b266-49cdecb601bd",
   "metadata": {},
   "outputs": [
    {
     "data": {
      "text/plain": [
       "('one', 'two', 'three', 'four', 'five', 'six')"
      ]
     },
     "execution_count": 28,
     "metadata": {},
     "output_type": "execute_result"
    }
   ],
   "source": [
    "mytup[:-2]"
   ]
  },
  {
   "cell_type": "code",
   "execution_count": 29,
   "id": "125faabf-7db3-48c0-8aca-1adefebab184",
   "metadata": {},
   "outputs": [
    {
     "data": {
      "text/plain": [
       "('one', 'two', 'three', 'four', 'five', 'six', 'seven', 'eight')"
      ]
     },
     "execution_count": 29,
     "metadata": {},
     "output_type": "execute_result"
    }
   ],
   "source": [
    "mytup"
   ]
  },
  {
   "cell_type": "code",
   "execution_count": 30,
   "id": "aa20c7f2-c9d2-46af-bc2e-a3e0bba95541",
   "metadata": {},
   "outputs": [],
   "source": [
    "del mytup"
   ]
  },
  {
   "cell_type": "code",
   "execution_count": 31,
   "id": "975f8cb9-7a49-4d02-b275-cc2deead9525",
   "metadata": {},
   "outputs": [],
   "source": [
    "mytup=('one','two','three','four','five','four','three','one')"
   ]
  },
  {
   "cell_type": "code",
   "execution_count": 32,
   "id": "8514606a-439e-469c-810a-4312e286b3e9",
   "metadata": {},
   "outputs": [
    {
     "data": {
      "text/plain": [
       "2"
      ]
     },
     "execution_count": 32,
     "metadata": {},
     "output_type": "execute_result"
    }
   ],
   "source": [
    "mytup.count('one')"
   ]
  },
  {
   "cell_type": "code",
   "execution_count": 33,
   "id": "26f79620-c360-4ec7-b9a5-ea076ed2bde8",
   "metadata": {},
   "outputs": [
    {
     "data": {
      "text/plain": [
       "2"
      ]
     },
     "execution_count": 33,
     "metadata": {},
     "output_type": "execute_result"
    }
   ],
   "source": [
    "mytup.count('four')"
   ]
  },
  {
   "cell_type": "code",
   "execution_count": 35,
   "id": "32c19839-e1f4-4f78-b098-2a3c26b52a91",
   "metadata": {},
   "outputs": [
    {
     "data": {
      "text/plain": [
       "0"
      ]
     },
     "execution_count": 35,
     "metadata": {},
     "output_type": "execute_result"
    }
   ],
   "source": [
    "mytup.index('one')"
   ]
  },
  {
   "cell_type": "code",
   "execution_count": 36,
   "id": "29e533e1-d8d9-4969-94e1-82a064805167",
   "metadata": {},
   "outputs": [
    {
     "ename": "ValueError",
     "evalue": "tuple.index(x): x not in tuple",
     "output_type": "error",
     "traceback": [
      "\u001b[1;31m---------------------------------------------------------------------------\u001b[0m",
      "\u001b[1;31mValueError\u001b[0m                                Traceback (most recent call last)",
      "Cell \u001b[1;32mIn[36], line 1\u001b[0m\n\u001b[1;32m----> 1\u001b[0m mytup\u001b[38;5;241m.\u001b[39mindex(\u001b[38;5;124m'\u001b[39m\u001b[38;5;124mten\u001b[39m\u001b[38;5;124m'\u001b[39m)\n",
      "\u001b[1;31mValueError\u001b[0m: tuple.index(x): x not in tuple"
     ]
    }
   ],
   "source": [
    "mytup.index('ten')"
   ]
  },
  {
   "cell_type": "code",
   "execution_count": 38,
   "id": "209e30d0-ac0b-4f9f-b69b-050cd0649ef3",
   "metadata": {},
   "outputs": [],
   "source": [
    "mytup1=(1,2,3,6,4,5,7,9,7,8)\n"
   ]
  },
  {
   "cell_type": "code",
   "execution_count": 40,
   "id": "ec6815f5-026b-43ed-94db-c186cc4c2436",
   "metadata": {},
   "outputs": [
    {
     "data": {
      "text/plain": [
       "[1, 2, 3, 4, 5, 6, 7, 7, 8, 9]"
      ]
     },
     "execution_count": 40,
     "metadata": {},
     "output_type": "execute_result"
    }
   ],
   "source": [
    "sorted(mytup1)\n"
   ]
  },
  {
   "cell_type": "code",
   "execution_count": 41,
   "id": "08b5ad01-3fb1-4482-acad-0c0a8998e528",
   "metadata": {},
   "outputs": [
    {
     "data": {
      "text/plain": [
       "[9, 8, 7, 7, 6, 5, 4, 3, 2, 1]"
      ]
     },
     "execution_count": 41,
     "metadata": {},
     "output_type": "execute_result"
    }
   ],
   "source": [
    "sorted(mytup1,reverse=True)\n"
   ]
  },
  {
   "cell_type": "code",
   "execution_count": 42,
   "id": "8a600955-dbd4-4ca3-9263-07a291136bf5",
   "metadata": {},
   "outputs": [
    {
     "data": {
      "text/plain": [
       "(1, 2, 3, 6, 4, 5, 7, 9, 7, 8)"
      ]
     },
     "execution_count": 42,
     "metadata": {},
     "output_type": "execute_result"
    }
   ],
   "source": [
    "mytup1"
   ]
  },
  {
   "cell_type": "code",
   "execution_count": 43,
   "id": "16024bd6-a7c6-4f24-8246-6cfaed1c073e",
   "metadata": {},
   "outputs": [],
   "source": [
    "mytup9=('one','two','three','four','five','four','three','one')"
   ]
  },
  {
   "cell_type": "code",
   "execution_count": 44,
   "id": "47960034-0643-4481-a221-f28282973357",
   "metadata": {},
   "outputs": [
    {
     "data": {
      "text/plain": [
       "True"
      ]
     },
     "execution_count": 44,
     "metadata": {},
     "output_type": "execute_result"
    }
   ],
   "source": [
    "'one' in mytup9"
   ]
  },
  {
   "cell_type": "code",
   "execution_count": 45,
   "id": "8ecd01f8-0cf0-4a42-b8c0-ec9e345d3763",
   "metadata": {},
   "outputs": [
    {
     "data": {
      "text/plain": [
       "False"
      ]
     },
     "execution_count": 45,
     "metadata": {},
     "output_type": "execute_result"
    }
   ],
   "source": [
    "'ten' in mytup9"
   ]
  },
  {
   "cell_type": "code",
   "execution_count": null,
   "id": "a808043a-3bca-47bb-8707-fb2ac901462f",
   "metadata": {},
   "outputs": [],
   "source": []
  }
 ],
 "metadata": {
  "kernelspec": {
   "display_name": "Python 3 (ipykernel)",
   "language": "python",
   "name": "python3"
  },
  "language_info": {
   "codemirror_mode": {
    "name": "ipython",
    "version": 3
   },
   "file_extension": ".py",
   "mimetype": "text/x-python",
   "name": "python",
   "nbconvert_exporter": "python",
   "pygments_lexer": "ipython3",
   "version": "3.11.7"
  }
 },
 "nbformat": 4,
 "nbformat_minor": 5
}
