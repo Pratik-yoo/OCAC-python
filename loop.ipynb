{
 "cells": [
  {
   "cell_type": "code",
   "execution_count": 1,
   "id": "6174016c-821e-4776-95cc-63ffc9cac4a1",
   "metadata": {},
   "outputs": [
    {
     "name": "stdout",
     "output_type": "stream",
     "text": [
      "7\n",
      "8\n",
      "9\n",
      "10\n",
      "11\n",
      "12\n"
     ]
    }
   ],
   "source": [
    "seq = [7,8,9,10,11,12]\n",
    "for i in seq:\n",
    "    print(i)"
   ]
  },
  {
   "cell_type": "code",
   "execution_count": 2,
   "id": "cd971b71-8d1d-45e8-8596-beb25f85f1e8",
   "metadata": {},
   "outputs": [
    {
     "name": "stdout",
     "output_type": "stream",
     "text": [
      "7\n",
      "8\n",
      "9\n",
      "10\n",
      "11\n",
      "12\n"
     ]
    }
   ],
   "source": [
    "seq = [7,8,9,10,11,12]\n",
    "for item in seq:\n",
    "    print(item)"
   ]
  },
  {
   "cell_type": "code",
   "execution_count": 4,
   "id": "4ced9622-c4ce-474d-8b95-331b6b66b021",
   "metadata": {},
   "outputs": [
    {
     "name": "stdout",
     "output_type": "stream",
     "text": [
      "apple\n",
      "banana\n",
      "mango\n",
      "orange\n"
     ]
    }
   ],
   "source": [
    "fruits=['apple','banana','mango','orange']\n",
    "for x in fruits:\n",
    "    print(x)"
   ]
  },
  {
   "cell_type": "code",
   "execution_count": 5,
   "id": "5c15a0a2-8cef-4b34-8d88-1a3856fc1042",
   "metadata": {},
   "outputs": [
    {
     "name": "stdout",
     "output_type": "stream",
     "text": [
      "123456"
     ]
    }
   ],
   "source": [
    "list1=[1,2,3,4,5,6]\n",
    "for i in list1:\n",
    "    print(i,end='')"
   ]
  },
  {
   "cell_type": "code",
   "execution_count": 7,
   "id": "9a541ab2-472d-4762-a434-30e1f8c79d5b",
   "metadata": {},
   "outputs": [
    {
     "name": "stdout",
     "output_type": "stream",
     "text": [
      "123"
     ]
    }
   ],
   "source": [
    "a=\"123\"\n",
    "for char in a:\n",
    "    print(char,end='')"
   ]
  },
  {
   "cell_type": "code",
   "execution_count": 8,
   "id": "4231c542-801a-4c96-b5a4-eacaabe68e07",
   "metadata": {},
   "outputs": [
    {
     "name": "stdout",
     "output_type": "stream",
     "text": [
      "0 pratik\n",
      "1 pratik\n",
      "2 pratik\n",
      "3 pratik\n",
      "4 pratik\n",
      "5 pratik\n",
      "6 pratik\n",
      "7 pratik\n",
      "8 pratik\n",
      "9 pratik\n"
     ]
    }
   ],
   "source": [
    "for x in range(10):\n",
    "    print(x,\"pratik\")"
   ]
  },
  {
   "cell_type": "code",
   "execution_count": 9,
   "id": "ce53bb7b-3fd7-44f5-8cf9-68282e342219",
   "metadata": {},
   "outputs": [
    {
     "name": "stdout",
     "output_type": "stream",
     "text": [
      "1 2 3 4 5 6 7 8 9 10 "
     ]
    }
   ],
   "source": [
    "for i in range(1,11):\n",
    "    print(i,end=\" \")"
   ]
  },
  {
   "cell_type": "code",
   "execution_count": 11,
   "id": "e7687210-d97b-42cb-9735-3c4546cb99b2",
   "metadata": {},
   "outputs": [
    {
     "name": "stdout",
     "output_type": "stream",
     "text": [
      "30\n",
      "31\n",
      "32\n",
      "33\n",
      "34\n",
      "35\n",
      "36\n",
      "37\n",
      "38\n",
      "39\n",
      "40\n",
      "41\n",
      "42\n",
      "43\n",
      "44\n"
     ]
    }
   ],
   "source": [
    "for i in range(30,45):\n",
    "    print(i)"
   ]
  },
  {
   "cell_type": "code",
   "execution_count": 13,
   "id": "46977ecf-b6f3-49ca-9275-a6cf84e41167",
   "metadata": {},
   "outputs": [
    {
     "name": "stdout",
     "output_type": "stream",
     "text": [
      "100 98 96 94 92 90 88 86 84 82 80 78 76 74 72 70 68 66 64 62 60 58 56 54 52 50 48 46 44 42 40 38 36 34 32 30 28 26 24 22 20 18 16 14 12 10 8 6 4 2 "
     ]
    }
   ],
   "source": [
    "for i in range(100,1,-2):\n",
    "    print(i,end=' ')"
   ]
  },
  {
   "cell_type": "code",
   "execution_count": 14,
   "id": "d61983fe-a0b1-426b-874e-a5fa95cae865",
   "metadata": {},
   "outputs": [
    {
     "name": "stdout",
     "output_type": "stream",
     "text": [
      "12\n",
      "14\n",
      "16\n",
      "18\n",
      "20\n",
      "22\n",
      "24\n",
      "26\n",
      "28\n",
      "30\n",
      "32\n",
      "34\n",
      "36\n",
      "38\n",
      "40\n",
      "42\n",
      "44\n",
      "46\n",
      "48\n"
     ]
    }
   ],
   "source": [
    "for i in range(12,50,2):\n",
    "    print(i)"
   ]
  },
  {
   "cell_type": "code",
   "execution_count": 15,
   "id": "222c2c30-1b3a-4df2-8a34-234be3c5d56d",
   "metadata": {},
   "outputs": [
    {
     "name": "stdout",
     "output_type": "stream",
     "text": [
      "item at index 0 is: item1\n",
      "item at index 1 is: item2\n",
      "item at index 2 is: item3\n",
      "item at index 3 is: item4\n"
     ]
    }
   ],
   "source": [
    "items = ['item1','item2','item3','item4']\n",
    "for i in range(len(items)):\n",
    "    print(\"item at index\",i,\"is:\",items[i])"
   ]
  },
  {
   "cell_type": "code",
   "execution_count": 16,
   "id": "4e858a7a-989c-4763-a754-31d0c3b0697c",
   "metadata": {},
   "outputs": [
    {
     "name": "stdout",
     "output_type": "stream",
     "text": [
      "sum: 10\n"
     ]
    }
   ],
   "source": [
    "a=[1,2,3,4]\n",
    "sum1=0\n",
    "for i in a:\n",
    "    sum1=sum1+i\n",
    "\n",
    "print(\"sum:\",sum1)"
   ]
  },
  {
   "cell_type": "code",
   "execution_count": 17,
   "id": "58dcf990-fe7a-4f48-8009-e1b998a65bb2",
   "metadata": {},
   "outputs": [
    {
     "name": "stdout",
     "output_type": "stream",
     "text": [
      "after 1 iteration the sum: 1\n",
      "after 2 iteration the sum: 3\n",
      "after 3 iteration the sum: 6\n",
      "after 4 iteration the sum: 10\n"
     ]
    }
   ],
   "source": [
    "a=[1,2,3,4]\n",
    "sum1=0\n",
    "for i in a:\n",
    "    sum1=sum1+i\n",
    "    print(\"after\",i,\"iteration the sum:\",sum1)"
   ]
  },
  {
   "cell_type": "code",
   "execution_count": 18,
   "id": "8cbfe531-1a66-4356-ba85-e466e06d4fec",
   "metadata": {},
   "outputs": [
    {
     "name": "stdout",
     "output_type": "stream",
     "text": [
      "I like pop\n"
     ]
    }
   ],
   "source": [
    "genre=['pop','rock','jazz','sapna']\n",
    "for i in range(1):\n",
    "    print(\"I like\",genre[i])"
   ]
  },
  {
   "cell_type": "code",
   "execution_count": 1,
   "id": "f9ad27b4-84ee-4743-b206-dfeb98f23548",
   "metadata": {},
   "outputs": [
    {
     "name": "stdin",
     "output_type": "stream",
     "text": [
      "enter lower bound values: 50\n",
      "enter upper bound values: 90\n"
     ]
    },
    {
     "name": "stdout",
     "output_type": "stream",
     "text": [
      "50,52,54,56,58,60,62,64,66,68,70,72,74,76,78,80,82,84,86,88,90,"
     ]
    }
   ],
   "source": [
    "lb=int(input('enter lower bound values:'))\n",
    "ub=int(input('enter upper bound values:'))\n",
    "for i in range(lb,ub+1):\n",
    "    if i%2==0:\n",
    "        print(i,end=',')"
   ]
  },
  {
   "cell_type": "code",
   "execution_count": 2,
   "id": "e1430643-6359-4f37-9405-62740c8df830",
   "metadata": {},
   "outputs": [
    {
     "name": "stdin",
     "output_type": "stream",
     "text": [
      "enter the number: 6\n"
     ]
    },
    {
     "name": "stdout",
     "output_type": "stream",
     "text": [
      "* * * * * * "
     ]
    }
   ],
   "source": [
    "n=int (input(\"enter the number:\"))\n",
    "for i in range(n):\n",
    "    print(\"*\",end=\" \")"
   ]
  },
  {
   "cell_type": "code",
   "execution_count": 5,
   "id": "461ffea6-b732-4f36-ad60-8e237dfd4d39",
   "metadata": {},
   "outputs": [
    {
     "name": "stdin",
     "output_type": "stream",
     "text": [
      " 6\n",
      " 36\n"
     ]
    },
    {
     "name": "stdout",
     "output_type": "stream",
     "text": [
      "6 8 10 12 14 16 18 20 22 24 26 28 30 32 34 36 \n",
      "sum is 336\n"
     ]
    }
   ],
   "source": [
    "lb=int(input())\n",
    "ub=int(input())\n",
    "s=0\n",
    "\n",
    "for i in range(lb,ub+1):\n",
    "    if(i%2==0):\n",
    "        s=s+i\n",
    "        print(i,end=' ')\n",
    "\n",
    "print('\\nsum is',s)"
   ]
  },
  {
   "cell_type": "code",
   "execution_count": 7,
   "id": "cf8eff10-bcae-4998-ac3c-53c1dc7a2ea3",
   "metadata": {},
   "outputs": [
    {
     "name": "stdout",
     "output_type": "stream",
     "text": [
      "6\n",
      "12\n",
      "18\n",
      "30\n",
      "36\n",
      "42\n",
      "54\n",
      "60\n",
      "66\n",
      "78\n",
      "84\n",
      "90\n"
     ]
    }
   ],
   "source": [
    "for num in range(1,101):\n",
    "    if num%6==0 and num%8!=0:\n",
    "        print(num)"
   ]
  },
  {
   "cell_type": "code",
   "execution_count": 8,
   "id": "87cd3c32-cf13-410d-895e-49a37421a07e",
   "metadata": {},
   "outputs": [
    {
     "name": "stdin",
     "output_type": "stream",
     "text": [
      "enter multiplication table: 23\n"
     ]
    },
    {
     "name": "stdout",
     "output_type": "stream",
     "text": [
      "23 * 1 = 23\n",
      "23 * 2 = 23\n",
      "23 * 3 = 23\n",
      "23 * 4 = 23\n",
      "23 * 5 = 23\n",
      "23 * 6 = 23\n",
      "23 * 7 = 23\n",
      "23 * 8 = 23\n",
      "23 * 9 = 23\n",
      "23 * 10 = 23\n"
     ]
    }
   ],
   "source": [
    "a=int(input('enter multiplication table:'))\n",
    "for i in range(1,11):\n",
    "    print(a,'*',i,'=',a*1)"
   ]
  },
  {
   "cell_type": "code",
   "execution_count": 9,
   "id": "085d889b-4b60-478b-a1a7-b6907936470c",
   "metadata": {},
   "outputs": [
    {
     "name": "stdin",
     "output_type": "stream",
     "text": [
      "enter the number: 8\n"
     ]
    },
    {
     "name": "stdout",
     "output_type": "stream",
     "text": [
      "* * * * * * * * * * * * * * * * * * * * * * * * * * * * * * * * * * * * * * * * * * * * * * * * * * * * * * * * * * * * * * * * * * * * * * * * "
     ]
    }
   ],
   "source": [
    "n=int(input(\"enter the number:\"))\n",
    "for i in range(n):\n",
    "    for j in range(n+1,):\n",
    "        print(\"*\",end=\" \")"
   ]
  },
  {
   "cell_type": "code",
   "execution_count": 13,
   "id": "27c9ac4b-8a7d-414b-943e-fd65fce0a509",
   "metadata": {},
   "outputs": [
    {
     "name": "stdout",
     "output_type": "stream",
     "text": [
      "[0, 1, 8, 27, 64, 125, 216, 343, 512, 729, 1000, 1331, 1728, 2197, 2744, 3375, 4096, 4913, 5832, 6859]\n"
     ]
    }
   ],
   "source": [
    "cubes=[]\n",
    "for i in range(20):\n",
    "    cubes.append(i**3)\n",
    "\n",
    "print(cubes)"
   ]
  },
  {
   "cell_type": "code",
   "execution_count": 1,
   "id": "384bf827-a197-470e-896d-ca9e432ec368",
   "metadata": {},
   "outputs": [
    {
     "name": "stdout",
     "output_type": "stream",
     "text": [
      "[0, 1, 4, 9, 16, 25, 36, 49, 64, 81]\n"
     ]
    }
   ],
   "source": [
    "squares =[i**2 for i in range(10)]\n",
    "print(squares)"
   ]
  },
  {
   "cell_type": "code",
   "execution_count": 3,
   "id": "c7100582-d8c0-4dd8-9484-b4c0f00edaad",
   "metadata": {},
   "outputs": [
    {
     "data": {
      "text/plain": [
       "[2, 4, 5, 8, 3, 8, 7]"
      ]
     },
     "execution_count": 3,
     "metadata": {},
     "output_type": "execute_result"
    }
   ],
   "source": [
    "list=[-2,-4,-5,-8,3,8,7]\n",
    "absv=[abs(x) for x in list]\n",
    "absv"
   ]
  },
  {
   "cell_type": "code",
   "execution_count": 4,
   "id": "f22ebfd2-3d92-4704-b65c-05fe8a43648e",
   "metadata": {},
   "outputs": [
    {
     "data": {
      "text/plain": [
       "[2, 4, 5, 8, 27, 512, 343]"
      ]
     },
     "execution_count": 4,
     "metadata": {},
     "output_type": "execute_result"
    }
   ],
   "source": [
    "list=[-2,-4,-5,-8,3,8,7]\n",
    "both=[]\n",
    "for x in list:\n",
    "    if x<0:\n",
    "        both.append(abs(x))\n",
    "    else:\n",
    "        both.append(x**3)\n",
    "both"
   ]
  },
  {
   "cell_type": "code",
   "execution_count": 5,
   "id": "4e409da4-e951-4e85-b051-d93c6ea94668",
   "metadata": {},
   "outputs": [
    {
     "data": {
      "text/plain": [
       "[2, 4, 5, 8, 27, 512, 343]"
      ]
     },
     "execution_count": 5,
     "metadata": {},
     "output_type": "execute_result"
    }
   ],
   "source": [
    "[abs(x) if x<0 else x**3 for x in list]"
   ]
  },
  {
   "cell_type": "code",
   "execution_count": 6,
   "id": "2815ec98-e020-4da0-9524-edd33e947b2e",
   "metadata": {},
   "outputs": [
    {
     "data": {
      "text/plain": [
       "{4, 6, 7, 8}"
      ]
     },
     "execution_count": 6,
     "metadata": {},
     "output_type": "execute_result"
    }
   ],
   "source": [
    "movies = ['Departed', 'Titanic', 'Aviator', 'Avatar', '2012']\n",
    "a=set() \n",
    "for i in movies:\n",
    "    a.add(len(i)) \n",
    "a\n"
   ]
  },
  {
   "cell_type": "code",
   "execution_count": 7,
   "id": "156f8f79-ebcc-456c-903d-940deae3f7c3",
   "metadata": {},
   "outputs": [
    {
     "data": {
      "text/plain": [
       "{4, 6, 7, 8}"
      ]
     },
     "execution_count": 7,
     "metadata": {},
     "output_type": "execute_result"
    }
   ],
   "source": [
    "movies = ['Departed', 'Titanic', 'Aviator', 'Avatar', '2012'] \n",
    "{len(i) for i in movies}"
   ]
  },
  {
   "cell_type": "code",
   "execution_count": 9,
   "id": "7c79e09a-61d7-4c86-822e-9c4883e55a43",
   "metadata": {},
   "outputs": [
    {
     "data": {
      "text/plain": [
       "{0: 'Departed', 1: 'Titanic', 2: 'Aviator', 3: 'Avatar', 4: '2012'}"
      ]
     },
     "execution_count": 9,
     "metadata": {},
     "output_type": "execute_result"
    }
   ],
   "source": [
    "movies={'Departed':9, 'Titanic':9.2, 'Aviator': 8.7, 'Avatar': 9.1, '2012':8.6}\n",
    "{movie:rating for movie, rating in enumerate (movies)}"
   ]
  },
  {
   "cell_type": "code",
   "execution_count": 15,
   "id": "84f3ece7-5a0f-4a77-8e20-575c159033cf",
   "metadata": {},
   "outputs": [],
   "source": [
    "numbers = [1, 2, 3, 4]\n",
    "for num in numbers:\n",
    "    if num == 4:\n",
    "        break\n",
    "        print(num)"
   ]
  },
  {
   "cell_type": "code",
   "execution_count": 17,
   "id": "6e24052b-fa5e-4873-a17e-4467a740abc0",
   "metadata": {},
   "outputs": [],
   "source": [
    "numbers = [1, 2, 3, 4]\n",
    "\n",
    "for num in numbers:\n",
    "    if num %2==0:\n",
    "        continue\n",
    "        print(num)"
   ]
  },
  {
   "cell_type": "code",
   "execution_count": 18,
   "id": "30cb3340-6245-4cf7-abbe-51a660f2c86c",
   "metadata": {},
   "outputs": [
    {
     "name": "stdout",
     "output_type": "stream",
     "text": [
      "1\n",
      "2\n",
      "3\n",
      "4\n",
      "no item left in the list\n"
     ]
    }
   ],
   "source": [
    "number=[1,2,3,4]\n",
    "for item in numbers:\n",
    "    print(item)\n",
    "else:\n",
    "    print(\"no item left in the list\")"
   ]
  },
  {
   "cell_type": "code",
   "execution_count": 19,
   "id": "92f089d8-cf4f-4f89-bb07-fcf106300c95",
   "metadata": {},
   "outputs": [
    {
     "name": "stdout",
     "output_type": "stream",
     "text": [
      "2\n",
      "4\n"
     ]
    }
   ],
   "source": [
    "numbers=[1,2,3,4]\n",
    "for item in numbers:\n",
    "    if item%2==0:\n",
    "        print(item)"
   ]
  },
  {
   "cell_type": "code",
   "execution_count": 20,
   "id": "d01ce46f-d70e-41b2-a958-602edf76a843",
   "metadata": {},
   "outputs": [
    {
     "name": "stdout",
     "output_type": "stream",
     "text": [
      "2\n"
     ]
    }
   ],
   "source": [
    "numbers=[1,2,3,4]\n",
    "for item in numbers:\n",
    "    if item%2==0:\n",
    "        print(item)\n",
    "        break"
   ]
  },
  {
   "cell_type": "code",
   "execution_count": 21,
   "id": "9e9abeba-28d7-4246-ae83-6eff22915c49",
   "metadata": {},
   "outputs": [
    {
     "name": "stdout",
     "output_type": "stream",
     "text": [
      "1\n",
      "2\n",
      "3\n",
      "4\n",
      "5\n",
      "6\n"
     ]
    }
   ],
   "source": [
    "x=0\n",
    "while x<6:\n",
    "    x=x+1\n",
    "    print(x)"
   ]
  },
  {
   "cell_type": "code",
   "execution_count": 22,
   "id": "8ffeff0f-ddf6-4f52-b313-9ac82a0f4c86",
   "metadata": {},
   "outputs": [
    {
     "name": "stdout",
     "output_type": "stream",
     "text": [
      "x is  0\n",
      "x is  1\n",
      "x is  2\n",
      "x is  3\n",
      "x is  4\n",
      "x is  5\n"
     ]
    }
   ],
   "source": [
    "x=0\n",
    "while x<6:\n",
    "    print(\"x is \",x)\n",
    "    x=x+1"
   ]
  },
  {
   "cell_type": "code",
   "execution_count": 23,
   "id": "420c2cbf-c32f-480b-8a67-429a7f24e9c2",
   "metadata": {},
   "outputs": [
    {
     "name": "stdout",
     "output_type": "stream",
     "text": [
      "x is 8\n",
      "x is 7\n",
      "x is 6\n",
      "x is 5\n",
      "x is 4\n",
      "x is 3\n",
      "x is 2\n"
     ]
    }
   ],
   "source": [
    "x=8\n",
    "while x>1:\n",
    "    print(\"x is {}\".format(x))\n",
    "    x-=1"
   ]
  },
  {
   "cell_type": "code",
   "execution_count": 25,
   "id": "72edcab4-07f0-4efe-be6e-e5d40d98419c",
   "metadata": {},
   "outputs": [
    {
     "name": "stdout",
     "output_type": "stream",
     "text": [
      "1020\n"
     ]
    }
   ],
   "source": [
    "i=100\n",
    "s=20\n",
    "while i<500:\n",
    "    s=s+i\n",
    "    i=i+100\n",
    "print(s)\n"
   ]
  },
  {
   "cell_type": "code",
   "execution_count": 26,
   "id": "52d0a92d-ea00-4f05-a1b7-aae5b8714e43",
   "metadata": {},
   "outputs": [
    {
     "name": "stdout",
     "output_type": "stream",
     "text": [
      "6\n"
     ]
    }
   ],
   "source": [
    "i=0\n",
    "s=0\n",
    "while (i<+5):\n",
    "    s=s+i\n",
    "    i+=2\n",
    "print(s)"
   ]
  },
  {
   "cell_type": "code",
   "execution_count": 28,
   "id": "05996c51-4e95-439b-9c13-d9c0f9e3c519",
   "metadata": {},
   "outputs": [
    {
     "name": "stdout",
     "output_type": "stream",
     "text": [
      "0\n",
      "5\n"
     ]
    }
   ],
   "source": [
    "x=0\n",
    "print(x)\n",
    "while x<5:\n",
    "    x=x+1\n",
    "print(x)"
   ]
  },
  {
   "cell_type": "code",
   "execution_count": 29,
   "id": "fd2e0470-810b-488c-a8ac-d59b25800b23",
   "metadata": {},
   "outputs": [
    {
     "name": "stdout",
     "output_type": "stream",
     "text": [
      "30\n"
     ]
    }
   ],
   "source": [
    "i=0\n",
    "s=0\n",
    "while (i<=10):\n",
    "    s=s+i\n",
    "    i+=2\n",
    "print(s)"
   ]
  },
  {
   "cell_type": "code",
   "execution_count": 30,
   "id": "8780e972-756b-41b8-84d9-0bb95a87cd84",
   "metadata": {},
   "outputs": [
    {
     "name": "stdout",
     "output_type": "stream",
     "text": [
      "0 1 2 3 4 5 6 7 8 9 10 11 12 13 14 15 16 17 18 19 20 21 22 23 24 25 26 27 28 29 30 31 32 33 34 35 36 37 38 39 40 41 42 43 44 45 46 47 48 49 50 51 52 53 54 55 56 57 58 59 60 61 62 63 64 65 66 67 68 69 70 71 72 73 74 75 76 77 78 79 80 81 82 83 84 85 86 87 88 89 90 91 92 93 94 95 96 97 98 99 100 "
     ]
    }
   ],
   "source": [
    "i=0\n",
    "while(i<=100):\n",
    "    print(i,end=' ')\n",
    "    i=i+1"
   ]
  },
  {
   "cell_type": "code",
   "execution_count": 31,
   "id": "534ebe3e-d193-47b9-ae2c-a458b7924f71",
   "metadata": {},
   "outputs": [
    {
     "name": "stdin",
     "output_type": "stream",
     "text": [
      "Enter n: 9\n"
     ]
    },
    {
     "name": "stdout",
     "output_type": "stream",
     "text": [
      "the sum is 45\n"
     ]
    }
   ],
   "source": [
    "n=int(input(\"Enter n:\"))\n",
    "sum=0\n",
    "i=1\n",
    "while i <=n:\n",
    "    sum=sum+i\n",
    "    i=i+1\n",
    "print(\"the sum is\",sum)"
   ]
  },
  {
   "cell_type": "code",
   "execution_count": 32,
   "id": "b006b72b-e992-452e-9b21-1088c7dcf123",
   "metadata": {},
   "outputs": [
    {
     "name": "stdin",
     "output_type": "stream",
     "text": [
      "enter a value: 85\n",
      "enter a value: 60\n",
      "enter a value: done\n"
     ]
    },
    {
     "name": "stdout",
     "output_type": "stream",
     "text": [
      "145\n"
     ]
    }
   ],
   "source": [
    "s=0\n",
    "while True:\n",
    "    a=input('enter a value:')\n",
    "    if (a=='done'):\n",
    "        break\n",
    "    s=s+int(a)\n",
    "print(s)"
   ]
  },
  {
   "cell_type": "code",
   "execution_count": 46,
   "id": "18c213d5-d0c0-4470-8517-e92da1718f36",
   "metadata": {},
   "outputs": [
    {
     "name": "stdout",
     "output_type": "stream",
     "text": [
      "x is 8\n",
      "x is 7\n",
      "x is 6\n",
      "x is 5\n",
      "x is 4\n",
      "x is 3\n",
      "x is 2\n",
      "x is no longer greater than 1\n"
     ]
    }
   ],
   "source": [
    "x = 8 \n",
    "while x > 1:\n",
    "    print(\"x is {}\".format(x))\n",
    "    x -= 1\n",
    "    if x==9:\n",
    "        break\n",
    "else:\n",
    "    print(\"x is no longer greater than 1\") "
   ]
  },
  {
   "cell_type": "code",
   "execution_count": 47,
   "id": "3c2989e5-1d10-47bc-a424-4a6a9ea8ed71",
   "metadata": {},
   "outputs": [
    {
     "name": "stdout",
     "output_type": "stream",
     "text": [
      "x is 0\n",
      "x is 1\n",
      "x is 2\n",
      "x is 3\n",
      "x is 4\n",
      "x is 5\n",
      "x is 6\n",
      "x is 7\n",
      "x is no longer <8\n"
     ]
    }
   ],
   "source": [
    "x=0\n",
    "while x<8:\n",
    "    print(\"x is {}\".format(x))\n",
    "    x+=1\n",
    "else:\n",
    "    print(\"x is no longer <8\")"
   ]
  },
  {
   "cell_type": "code",
   "execution_count": 48,
   "id": "e9290b9a-8f6c-4196-af45-6258677b2a88",
   "metadata": {},
   "outputs": [
    {
     "name": "stdout",
     "output_type": "stream",
     "text": [
      "1\n",
      "2\n",
      "3\n",
      "4\n",
      "5\n",
      "6\n",
      "7\n",
      "no item left in list\n"
     ]
    }
   ],
   "source": [
    "number =[1,2,3,4,5,6,7]\n",
    "index=0\n",
    "while index < len(number):\n",
    "    print(number[index])\n",
    "    index+=1\n",
    "else:\n",
    "    print(\"no item left in list\")"
   ]
  },
  {
   "cell_type": "code",
   "execution_count": 50,
   "id": "61bd8fba-2b1f-488d-a891-a99688999826",
   "metadata": {},
   "outputs": [
    {
     "name": "stdin",
     "output_type": "stream",
     "text": [
      " 5\n"
     ]
    },
    {
     "name": "stdout",
     "output_type": "stream",
     "text": [
      "5\n",
      "20\n",
      "60\n",
      "120\n",
      "120\n"
     ]
    }
   ],
   "source": [
    "a=int(input())\n",
    "fact=1\n",
    "for i in range(a,0,-1):\n",
    "    fact=fact*i\n",
    "    print(fact)"
   ]
  },
  {
   "cell_type": "code",
   "execution_count": 51,
   "id": "fa07cd03-f33c-4aaa-aa97-59473fec5ed0",
   "metadata": {},
   "outputs": [
    {
     "name": "stdin",
     "output_type": "stream",
     "text": [
      " 5\n"
     ]
    },
    {
     "name": "stdout",
     "output_type": "stream",
     "text": [
      "120\n"
     ]
    }
   ],
   "source": [
    "a=int(input())\n",
    "fact=1\n",
    "for i in range(a,0,-1):\n",
    "    fact=fact*i\n",
    "print(fact)"
   ]
  },
  {
   "cell_type": "code",
   "execution_count": 52,
   "id": "b1e125f6-0140-4608-9931-52312fa3b4a1",
   "metadata": {},
   "outputs": [
    {
     "name": "stdin",
     "output_type": "stream",
     "text": [
      " 9\n"
     ]
    },
    {
     "name": "stdout",
     "output_type": "stream",
     "text": [
      "after 1 iteration the factorial value is: 1\n",
      "after 2 iteration the factorial value is: 2\n",
      "after 3 iteration the factorial value is: 6\n",
      "after 4 iteration the factorial value is: 24\n",
      "after 5 iteration the factorial value is: 120\n",
      "after 6 iteration the factorial value is: 720\n",
      "after 7 iteration the factorial value is: 5040\n",
      "after 8 iteration the factorial value is: 40320\n",
      "after 9 iteration the factorial value is: 362880\n"
     ]
    }
   ],
   "source": [
    "a=int(input())\n",
    "fact=1\n",
    "for i in range(1,a+1):\n",
    "    fact=fact*i\n",
    "    print(\"after\",i,\"iteration the factorial value is:\",fact)"
   ]
  },
  {
   "cell_type": "code",
   "execution_count": null,
   "id": "ac9b9844-1ad0-4b17-8c6e-064bb8d58d37",
   "metadata": {},
   "outputs": [],
   "source": []
  }
 ],
 "metadata": {
  "kernelspec": {
   "display_name": "Python 3 (ipykernel)",
   "language": "python",
   "name": "python3"
  },
  "language_info": {
   "codemirror_mode": {
    "name": "ipython",
    "version": 3
   },
   "file_extension": ".py",
   "mimetype": "text/x-python",
   "name": "python",
   "nbconvert_exporter": "python",
   "pygments_lexer": "ipython3",
   "version": "3.11.7"
  }
 },
 "nbformat": 4,
 "nbformat_minor": 5
}
