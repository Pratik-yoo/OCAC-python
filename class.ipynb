{
 "cells": [
  {
   "cell_type": "code",
   "execution_count": 2,
   "id": "2e7ff17c-0d6a-4f3d-a7c4-53fe25ba91c7",
   "metadata": {},
   "outputs": [
    {
     "name": "stdout",
     "output_type": "stream",
     "text": [
      "hello pratik 15\n"
     ]
    }
   ],
   "source": [
    "class myclass:\n",
    "    a = 15\n",
    "    print(\"hello pratik\",a)"
   ]
  },
  {
   "cell_type": "code",
   "execution_count": 3,
   "id": "55f325cb-cde5-4472-868c-838015448ab6",
   "metadata": {},
   "outputs": [
    {
     "name": "stdout",
     "output_type": "stream",
     "text": [
      "15\n"
     ]
    }
   ],
   "source": [
    "p1 = myclass()\n",
    "print(p1.a)"
   ]
  },
  {
   "cell_type": "code",
   "execution_count": 5,
   "id": "e48b7af3-40c8-430a-8009-fe2b9adf68d9",
   "metadata": {},
   "outputs": [
    {
     "name": "stdout",
     "output_type": "stream",
     "text": [
      "15\n",
      "<class '__main__.myclass'>\n"
     ]
    }
   ],
   "source": [
    "y=myclass()\n",
    "print(y.a)\n",
    "print(type(y))"
   ]
  },
  {
   "cell_type": "code",
   "execution_count": 7,
   "id": "41581c16-10ca-40fe-93c8-988ad99663d8",
   "metadata": {},
   "outputs": [
    {
     "name": "stdout",
     "output_type": "stream",
     "text": [
      "hello Amit\n",
      "<class '__main__.students'>\n"
     ]
    }
   ],
   "source": [
    "class students:\n",
    "    print(\"hello Amit\")\n",
    "\n",
    "z=students()\n",
    "print(type(z))"
   ]
  },
  {
   "cell_type": "code",
   "execution_count": 10,
   "id": "bdd256b3-5d07-4511-b572-fea77db7a60f",
   "metadata": {},
   "outputs": [
    {
     "name": "stdout",
     "output_type": "stream",
     "text": [
      "hello,welome to ocac 2021\n"
     ]
    }
   ],
   "source": [
    "class student:\n",
    "    year=2021\n",
    "    def func(self):\n",
    "        print(\"hello,welome to ocac\",self.year)\n",
    "x = student()\n",
    "x.func()"
   ]
  },
  {
   "cell_type": "code",
   "execution_count": 11,
   "id": "cb42e5a3-1f08-47bd-b43e-d6634df742c9",
   "metadata": {},
   "outputs": [
    {
     "ename": "NameError",
     "evalue": "name 'func' is not defined",
     "output_type": "error",
     "traceback": [
      "\u001b[1;31m---------------------------------------------------------------------------\u001b[0m",
      "\u001b[1;31mNameError\u001b[0m                                 Traceback (most recent call last)",
      "Cell \u001b[1;32mIn[11], line 1\u001b[0m\n\u001b[1;32m----> 1\u001b[0m student,func()\n",
      "\u001b[1;31mNameError\u001b[0m: name 'func' is not defined"
     ]
    }
   ],
   "source": [
    "student,func()"
   ]
  },
  {
   "cell_type": "code",
   "execution_count": 13,
   "id": "d0ef1eb4-2201-4c73-870c-4e253dbb7e85",
   "metadata": {},
   "outputs": [
    {
     "name": "stdout",
     "output_type": "stream",
     "text": [
      "hello my name is pratik\n"
     ]
    }
   ],
   "source": [
    "class person:\n",
    "    def __init__(self,name,age):\n",
    "        self.name = name\n",
    "        self.age = age\n",
    "\n",
    "    def myfunc(self):\n",
    "        print(\"hello my name is \" + self.name)\n",
    "\n",
    "p1 = person(\"pratik\",36)\n",
    "p1.myfunc()"
   ]
  },
  {
   "cell_type": "code",
   "execution_count": 14,
   "id": "7e2c1c81-01b7-4614-9c22-474e6ec3d02b",
   "metadata": {},
   "outputs": [
    {
     "name": "stdout",
     "output_type": "stream",
     "text": [
      "Pratik Swain!\n"
     ]
    }
   ],
   "source": [
    "class student:\n",
    "    def __init__(self,name):\n",
    "        self.name = name\n",
    "\n",
    "elon = student(name=\"Pratik Swain!\")\n",
    "print(elon.name)"
   ]
  },
  {
   "cell_type": "code",
   "execution_count": 15,
   "id": "f84897bb-afb2-4a08-b574-0588870189cd",
   "metadata": {},
   "outputs": [
    {
     "name": "stdout",
     "output_type": "stream",
     "text": [
      "Pratik Swain!\n",
      "Aryan Das!\n"
     ]
    }
   ],
   "source": [
    "class student:\n",
    "    def __init__(self,name):\n",
    "        self.name = name\n",
    "\n",
    "elon = student(name=\"Pratik Swain!\")\n",
    "champ = student(name=\"Aryan Das!\")\n",
    "\n",
    "print(elon.name)\n",
    "print(champ.name)"
   ]
  },
  {
   "cell_type": "code",
   "execution_count": 4,
   "id": "091ccbea-5a4c-4813-b09a-e6c6172349aa",
   "metadata": {},
   "outputs": [
    {
     "name": "stdout",
     "output_type": "stream",
     "text": [
      "pratik\n",
      "21\n"
     ]
    }
   ],
   "source": [
    "class person:\n",
    "    def __init__(self,name,age):\n",
    "        self.name = name\n",
    "        self.age = age\n",
    "\n",
    "p1 =person(\"pratik\",21)\n",
    "print(p1.name)\n",
    "print(p1.age)"
   ]
  },
  {
   "cell_type": "code",
   "execution_count": 10,
   "id": "aa21a7f4-2cdf-434c-8e2d-1c56a6fa2b82",
   "metadata": {},
   "outputs": [],
   "source": [
    "class Student:\n",
    "    Total = 500\n",
    "    \n",
    "    def __init__(self, marks):\n",
    "        self.marks = marks\n",
    "        print(\"Initialized...\")\n",
    "        \n",
    "    def findLoss(self):\n",
    "        return self.Total - self.marks\n",
    "        \n",
    "    def findPercentage(self):\n",
    "        return (self.marks / self.Total)"
   ]
  },
  {
   "cell_type": "code",
   "execution_count": 14,
   "id": "aee7ea2c-7a86-4037-86bb-6c59b7e26218",
   "metadata": {},
   "outputs": [
    {
     "name": "stdout",
     "output_type": "stream",
     "text": [
      "Initialized...\n",
      "Total Marks: 500\n",
      "Lost Marks: 38\n",
      "Percentage is: 0.924\n",
      "Percentage is: 0.92%\n"
     ]
    }
   ],
   "source": [
    "a = Student(marks=462)\n",
    "print(\"Total Marks:\", a.Total)\n",
    "print('Lost Marks:', a.findLoss())\n",
    "print('Percentage is:', a.findPercentage())\n",
    "print('Percentage is: {:.2f}%'.format(a.findPercentage()))"
   ]
  },
  {
   "cell_type": "code",
   "execution_count": 16,
   "id": "c54beab9-0c31-4323-9125-79c0bc814a52",
   "metadata": {},
   "outputs": [],
   "source": [
    "def __init__(self, marks):\n",
    "    self.marks = marks\n",
    "    print(\"Initialized...\")"
   ]
  },
  {
   "cell_type": "code",
   "execution_count": 18,
   "id": "596f0d69-c8f1-4cc0-b1af-dbb47bfccbd4",
   "metadata": {},
   "outputs": [],
   "source": [
    "class Student:\n",
    "    def __init__(self, marks):\n",
    "        self.marks = marks\n",
    "        print(\"Initialized...\")"
   ]
  },
  {
   "cell_type": "code",
   "execution_count": 28,
   "id": "92100f67-7348-4d79-8ddf-cf80e60681eb",
   "metadata": {},
   "outputs": [],
   "source": [
    "class Student:\n",
    "    Total = 500\n",
    "    def __init__(self, name, marks,gender):\n",
    "        self.name=name\n",
    "        self.marks=marks\n",
    "        self.gender=gender\n",
    "        print(\"Initialized...\")\n",
    "    def __len__(self):\n",
    "        return self.marks\n",
    "    def __str__(self):\n",
    "        return \"Name: %s | Marks: %s | Gender: %s\" %(self.name,self.marks,self.gender)\n",
    "    def __del__(self):\n",
    "        print(\"Student Database is Deleted\")"
   ]
  },
  {
   "cell_type": "code",
   "execution_count": 30,
   "id": "9ff20b1d-29b3-4924-8ed2-6ba05688b666",
   "metadata": {},
   "outputs": [
    {
     "name": "stdout",
     "output_type": "stream",
     "text": [
      "Initialized...\n",
      "Student Database is Deleted\n",
      "Initialized...\n",
      "Student Database is Deleted\n"
     ]
    }
   ],
   "source": [
    "a = Student('pratik', '450', 'male')\n",
    "b = Student('aryan', 456, 'male')"
   ]
  },
  {
   "cell_type": "raw",
   "id": "8422f949-4c13-4b23-8643-f6e08580c8ad",
   "metadata": {},
   "source": [
    "print(b)"
   ]
  },
  {
   "cell_type": "code",
   "execution_count": 32,
   "id": "0da70bb5-b2ff-49dd-8dd5-bd5f684d9f28",
   "metadata": {},
   "outputs": [
    {
     "ename": "TypeError",
     "evalue": "'str' object cannot be interpreted as an integer",
     "output_type": "error",
     "traceback": [
      "\u001b[1;31m---------------------------------------------------------------------------\u001b[0m",
      "\u001b[1;31mTypeError\u001b[0m                                 Traceback (most recent call last)",
      "Cell \u001b[1;32mIn[32], line 1\u001b[0m\n\u001b[1;32m----> 1\u001b[0m \u001b[38;5;28mprint\u001b[39m(\u001b[38;5;124m'\u001b[39m\u001b[38;5;124mMarks: \u001b[39m\u001b[38;5;124m'\u001b[39m,\u001b[38;5;28mlen\u001b[39m(a))\n\u001b[0;32m      2\u001b[0m \u001b[38;5;28;01mdel\u001b[39;00m a\n",
      "\u001b[1;31mTypeError\u001b[0m: 'str' object cannot be interpreted as an integer"
     ]
    }
   ],
   "source": [
    "print('Marks: ',len(a))\n",
    "del a"
   ]
  },
  {
   "cell_type": "code",
   "execution_count": 34,
   "id": "68d030ac-85d3-4349-8c9d-fef356cb20bb",
   "metadata": {},
   "outputs": [
    {
     "name": "stdout",
     "output_type": "stream",
     "text": [
      "Name: pratik | Marks: 450 | Gender: male\n"
     ]
    }
   ],
   "source": [
    "print(a)"
   ]
  },
  {
   "cell_type": "code",
   "execution_count": 36,
   "id": "646cabf6-1baf-4fff-b030-f9062997bcf7",
   "metadata": {},
   "outputs": [
    {
     "name": "stdout",
     "output_type": "stream",
     "text": [
      "Initialized...\n"
     ]
    },
    {
     "data": {
      "text/plain": [
       "150000"
      ]
     },
     "execution_count": 36,
     "metadata": {},
     "output_type": "execute_result"
    }
   ],
   "source": [
    "class Student:\n",
    "    Total = 500\n",
    "    \n",
    "    def __init__(a,marks):\n",
    "        a.marks=marks\n",
    "        print(\"Initialized...\")\n",
    "    def mul(self):\n",
    "        return self.marks * self.Total\n",
    "p1 = Student(300)\n",
    "p1.mul()"
   ]
  },
  {
   "cell_type": "code",
   "execution_count": 40,
   "id": "e9deb7d8-4028-41e2-a20a-d93d1ff95969",
   "metadata": {},
   "outputs": [
    {
     "name": "stdout",
     "output_type": "stream",
     "text": [
      "Initialized...\n",
      "<__main__.Student object at 0x0000029CF97C68D0>\n",
      "Marks:  450\n"
     ]
    }
   ],
   "source": [
    "class Student:\n",
    "    Total = 500\n",
    "    def __init__(self, name, marks,gender):\n",
    "        self.name=name\n",
    "        self.marks=marks\n",
    "        self.gender=gender\n",
    "        print(\"Initialized...\")\n",
    "        \n",
    "    def __len__(b):\n",
    "        return b.marks\n",
    "a = Student('diljit', 450, 'male')\n",
    "print(a)\n",
    "print('Marks: ',len(a))"
   ]
  },
  {
   "cell_type": "code",
   "execution_count": 44,
   "id": "5e72c56b-e017-4659-90af-29646c3b52b5",
   "metadata": {},
   "outputs": [],
   "source": [
    "def __init__(self, name, marks, gender):\n",
    "    self.name = name\n",
    "    self.marks = marks\n",
    "    self.gender = gender\n",
    "    print(\"Initialized...\")"
   ]
  },
  {
   "cell_type": "code",
   "execution_count": 46,
   "id": "e0fbbaa0-b746-4c5a-89d9-93ed6011aabd",
   "metadata": {},
   "outputs": [],
   "source": [
    "def __len__(self):\n",
    "    return self.marks"
   ]
  },
  {
   "cell_type": "code",
   "execution_count": 54,
   "id": "5f8e5d2f-4bef-4e12-a1ae-f83c9a1d6de7",
   "metadata": {},
   "outputs": [
    {
     "ename": "IndentationError",
     "evalue": "expected an indented block after function definition on line 1 (2454359991.py, line 2)",
     "output_type": "error",
     "traceback": [
      "\u001b[1;36m  Cell \u001b[1;32mIn[54], line 2\u001b[1;36m\u001b[0m\n\u001b[1;33m    return \"Name: %s | Marks: %s | Gender: %s\" % (self.name, self.marks,self.gender)\u001b[0m\n\u001b[1;37m    ^\u001b[0m\n\u001b[1;31mIndentationError\u001b[0m\u001b[1;31m:\u001b[0m expected an indented block after function definition on line 1\n"
     ]
    }
   ],
   "source": [
    "def __str__(self):\n",
    "return \"Name: %s | Marks: %s | Gender: %s\" % (self.name, self.marks,self.gender)"
   ]
  },
  {
   "cell_type": "code",
   "execution_count": 3,
   "id": "ae80ee92-596c-49ae-b46e-1b08e9c09dfa",
   "metadata": {},
   "outputs": [],
   "source": [
    "def __del__(self):\n",
    "    print(\"Student Database is Deleted\")"
   ]
  },
  {
   "cell_type": "code",
   "execution_count": 7,
   "id": "49262bce-b8ec-458e-ace6-38b279d099a8",
   "metadata": {},
   "outputs": [
    {
     "ename": "NameError",
     "evalue": "name 'Student' is not defined",
     "output_type": "error",
     "traceback": [
      "\u001b[1;31m---------------------------------------------------------------------------\u001b[0m",
      "\u001b[1;31mNameError\u001b[0m                                 Traceback (most recent call last)",
      "Cell \u001b[1;32mIn[7], line 1\u001b[0m\n\u001b[1;32m----> 1\u001b[0m a \u001b[38;5;241m=\u001b[39m Student(\u001b[38;5;124m'\u001b[39m\u001b[38;5;124mchamp\u001b[39m\u001b[38;5;124m'\u001b[39m, \u001b[38;5;241m450\u001b[39m, \u001b[38;5;124m'\u001b[39m\u001b[38;5;124mmale\u001b[39m\u001b[38;5;124m'\u001b[39m)\n\u001b[0;32m      2\u001b[0m \u001b[38;5;28mprint\u001b[39m(a)\n",
      "\u001b[1;31mNameError\u001b[0m: name 'Student' is not defined"
     ]
    }
   ],
   "source": [
    "a = Student('champ', 450, 'male')\n",
    "print(a)\n"
   ]
  },
  {
   "cell_type": "code",
   "execution_count": 9,
   "id": "630c3e08-f01f-4cf1-9052-6cec8a05195b",
   "metadata": {},
   "outputs": [
    {
     "ename": "NameError",
     "evalue": "name 'a' is not defined",
     "output_type": "error",
     "traceback": [
      "\u001b[1;31m---------------------------------------------------------------------------\u001b[0m",
      "\u001b[1;31mNameError\u001b[0m                                 Traceback (most recent call last)",
      "Cell \u001b[1;32mIn[9], line 1\u001b[0m\n\u001b[1;32m----> 1\u001b[0m \u001b[38;5;28mprint\u001b[39m(\u001b[38;5;124m'\u001b[39m\u001b[38;5;124mMarks: \u001b[39m\u001b[38;5;124m'\u001b[39m, \u001b[38;5;28mlen\u001b[39m(a))\n",
      "\u001b[1;31mNameError\u001b[0m: name 'a' is not defined"
     ]
    }
   ],
   "source": [
    "print('Marks: ', len(a))"
   ]
  },
  {
   "cell_type": "code",
   "execution_count": 11,
   "id": "3b346f39-17b0-4abb-973f-bbecc8eef350",
   "metadata": {},
   "outputs": [
    {
     "name": "stdout",
     "output_type": "stream",
     "text": [
      "Hello my name is John 36\n"
     ]
    }
   ],
   "source": [
    "class Person:\n",
    "    def __init__(mysillyobject, name, age):\n",
    "        mysillyobject.name = name\n",
    "        mysillyobject.age = age\n",
    "        \n",
    "    def myfunc(abc):\n",
    "        print(\"Hello my name is \" + abc.name, + abc.age )\n",
    "        \n",
    "p1 = Person(\"John\", 36)\n",
    "p1.myfunc()"
   ]
  },
  {
   "cell_type": "code",
   "execution_count": 13,
   "id": "3934aeef-0e71-4142-97ae-d267f5c45f5f",
   "metadata": {},
   "outputs": [
    {
     "name": "stdout",
     "output_type": "stream",
     "text": [
      "Hello my name is John 40\n"
     ]
    }
   ],
   "source": [
    "p1.age = 40\n",
    "p1.myfunc()"
   ]
  },
  {
   "cell_type": "code",
   "execution_count": 15,
   "id": "9d7ab82f-88d0-4dcd-a0d0-f08679b36176",
   "metadata": {},
   "outputs": [
    {
     "ename": "AttributeError",
     "evalue": "'Person' object has no attribute 'age'",
     "output_type": "error",
     "traceback": [
      "\u001b[1;31m---------------------------------------------------------------------------\u001b[0m",
      "\u001b[1;31mAttributeError\u001b[0m                            Traceback (most recent call last)",
      "Cell \u001b[1;32mIn[15], line 2\u001b[0m\n\u001b[0;32m      1\u001b[0m \u001b[38;5;28;01mdel\u001b[39;00m p1\u001b[38;5;241m.\u001b[39mage\n\u001b[1;32m----> 2\u001b[0m p1\u001b[38;5;241m.\u001b[39mmyfunc()\n",
      "Cell \u001b[1;32mIn[11], line 7\u001b[0m, in \u001b[0;36mPerson.myfunc\u001b[1;34m(abc)\u001b[0m\n\u001b[0;32m      6\u001b[0m \u001b[38;5;28;01mdef\u001b[39;00m \u001b[38;5;21mmyfunc\u001b[39m(abc):\n\u001b[1;32m----> 7\u001b[0m     \u001b[38;5;28mprint\u001b[39m(\u001b[38;5;124m\"\u001b[39m\u001b[38;5;124mHello my name is \u001b[39m\u001b[38;5;124m\"\u001b[39m \u001b[38;5;241m+\u001b[39m abc\u001b[38;5;241m.\u001b[39mname, \u001b[38;5;241m+\u001b[39m abc\u001b[38;5;241m.\u001b[39mage )\n",
      "\u001b[1;31mAttributeError\u001b[0m: 'Person' object has no attribute 'age'"
     ]
    }
   ],
   "source": [
    "del p1.age\n",
    "p1.myfunc()"
   ]
  },
  {
   "cell_type": "code",
   "execution_count": 17,
   "id": "17cf3a2e-bb1c-4e57-b66a-8296ade2388f",
   "metadata": {},
   "outputs": [
    {
     "ename": "NameError",
     "evalue": "name 'p1' is not defined",
     "output_type": "error",
     "traceback": [
      "\u001b[1;31m---------------------------------------------------------------------------\u001b[0m",
      "\u001b[1;31mNameError\u001b[0m                                 Traceback (most recent call last)",
      "Cell \u001b[1;32mIn[17], line 2\u001b[0m\n\u001b[0;32m      1\u001b[0m \u001b[38;5;28;01mdel\u001b[39;00m p1\n\u001b[1;32m----> 2\u001b[0m p1\u001b[38;5;241m.\u001b[39mmyfunc()\n",
      "\u001b[1;31mNameError\u001b[0m: name 'p1' is not defined"
     ]
    }
   ],
   "source": [
    "del p1\n",
    "p1.myfunc()"
   ]
  },
  {
   "cell_type": "code",
   "execution_count": 19,
   "id": "0f5bf2ab-8a9c-48e3-8531-75f8df7b3b2b",
   "metadata": {},
   "outputs": [
    {
     "ename": "IndentationError",
     "evalue": "expected an indented block after class definition on line 1 (2495997816.py, line 2)",
     "output_type": "error",
     "traceback": [
      "\u001b[1;36m  Cell \u001b[1;32mIn[19], line 2\u001b[1;36m\u001b[0m\n\u001b[1;33m    pass\u001b[0m\n\u001b[1;37m    ^\u001b[0m\n\u001b[1;31mIndentationError\u001b[0m\u001b[1;31m:\u001b[0m expected an indented block after class definition on line 1\n"
     ]
    }
   ],
   "source": [
    "class Person:\n",
    "pass"
   ]
  },
  {
   "cell_type": "code",
   "execution_count": 21,
   "id": "8cf3af15-92af-473d-8699-fe0f5c1f2806",
   "metadata": {},
   "outputs": [
    {
     "ename": "SyntaxError",
     "evalue": "incomplete input (3523702532.py, line 1)",
     "output_type": "error",
     "traceback": [
      "\u001b[1;36m  Cell \u001b[1;32mIn[21], line 1\u001b[1;36m\u001b[0m\n\u001b[1;33m    class Person:\u001b[0m\n\u001b[1;37m                 ^\u001b[0m\n\u001b[1;31mSyntaxError\u001b[0m\u001b[1;31m:\u001b[0m incomplete input\n"
     ]
    }
   ],
   "source": [
    "class Person:"
   ]
  },
  {
   "cell_type": "code",
   "execution_count": 25,
   "id": "c5412145-682b-4490-8e44-d64761ac6a03",
   "metadata": {},
   "outputs": [
    {
     "name": "stdout",
     "output_type": "stream",
     "text": [
      "pratik ayan\n"
     ]
    }
   ],
   "source": [
    "class Person:\n",
    "    def __init__(self, fname, lname):\n",
    "        self.firstname = fname\n",
    "        self.lastname = lname\n",
    "    def printname(self):\n",
    "        print(self.firstname, self.lastname)\n",
    "        \n",
    "x = Person(\"pratik\", \"ayan\")\n",
    "x.printname()"
   ]
  },
  {
   "cell_type": "code",
   "execution_count": 51,
   "id": "1f545686-3a02-4f77-9204-2a929a1dfbcd",
   "metadata": {},
   "outputs": [],
   "source": [
    "class Student(Person):\n",
    "    pass"
   ]
  },
  {
   "cell_type": "code",
   "execution_count": 53,
   "id": "15ec004b-8a12-4f82-94d8-3aa11d7ac458",
   "metadata": {},
   "outputs": [
    {
     "name": "stdout",
     "output_type": "stream",
     "text": [
      "Ritik Pratik\n"
     ]
    }
   ],
   "source": [
    "x = Student(\"Ritik\", \"Pratik\")\n",
    "x.printname()"
   ]
  },
  {
   "cell_type": "code",
   "execution_count": 55,
   "id": "136a9fb8-77f1-4e0a-8d46-016bf42e4fa8",
   "metadata": {},
   "outputs": [],
   "source": [
    "class Student(Person):\n",
    "    def __init__(self, fname, lname):\n",
    "        pass"
   ]
  },
  {
   "cell_type": "code",
   "execution_count": 57,
   "id": "5dfa8402-256d-4a64-bd46-d98a17cdf7ec",
   "metadata": {},
   "outputs": [
    {
     "name": "stdout",
     "output_type": "stream",
     "text": [
      "Ritik Pratik\n"
     ]
    }
   ],
   "source": [
    "class Student(Person):\n",
    "    def __init__(self, fname, lname):\n",
    "        Person.__init__(self, fname, lname)\n",
    "        x = Student(\"ritik\", \"pratik\")\n",
    "x.printname()"
   ]
  },
  {
   "cell_type": "code",
   "execution_count": 59,
   "id": "74b6d58f-529b-490b-96b2-ad484dd7006c",
   "metadata": {},
   "outputs": [],
   "source": [
    "class Student(Person):\n",
    "    def __init__(self, fname, lname):\n",
    "        super().__init__(fname, lname)"
   ]
  },
  {
   "cell_type": "code",
   "execution_count": 63,
   "id": "554f00c0-a33d-47fa-8ce6-b0c715929939",
   "metadata": {},
   "outputs": [
    {
     "name": "stdout",
     "output_type": "stream",
     "text": [
      "2019\n",
      "Pratik Suman\n"
     ]
    }
   ],
   "source": [
    "class Person:\n",
    "    def __init__(self, fname, lname):\n",
    "        self.firstname = fname\n",
    "        self.lastname = lname\n",
    "    def printname(self):\n",
    "        print(self.firstname, self.lastname)\n",
    "class Student(Person):\n",
    "    def __init__(self, fname, lname):\n",
    "        super().__init__(fname, lname)\n",
    "        self.graduationyear = 2019\n",
    "        \n",
    "x = Student(\"Pratik\", \"Suman\")\n",
    "print(x.graduationyear)\n",
    "x.printname()"
   ]
  },
  {
   "cell_type": "code",
   "execution_count": 65,
   "id": "bbc18824-8077-4fa7-9324-81e068f3be51",
   "metadata": {},
   "outputs": [
    {
     "name": "stdout",
     "output_type": "stream",
     "text": [
      "2019\n"
     ]
    }
   ],
   "source": [
    "class Person:\n",
    "    def __init__(self, fname, lname):\n",
    "        self.firstname = fname\n",
    "        self.lastname = lname\n",
    "        \n",
    "    def printname(self):\n",
    "        print(self.firstname, self.lastname)\n",
    "class Student(Person):\n",
    "    def __init__(self, fname, lname, year):\n",
    "        super().__init__(fname, lname)\n",
    "        self.graduationyear = year\n",
    "        \n",
    "x = Student(\"Naruto\", \"Sakura\", 2019)\n",
    "print(x.graduationyear)"
   ]
  },
  {
   "cell_type": "code",
   "execution_count": 73,
   "id": "7314df80-1e61-4839-a10a-4c04191d9135",
   "metadata": {},
   "outputs": [
    {
     "name": "stdout",
     "output_type": "stream",
     "text": [
      "Welcome Mike Olsen to the class of 2019\n"
     ]
    }
   ],
   "source": [
    "class Person:\n",
    "    def __init__(self, fname, lname):\n",
    "        self.firstname = fname\n",
    "        self.lastname = lname\n",
    "        \n",
    "    def printname(self):\n",
    "        print(self.firstname, self.lastname)\n",
    "        \n",
    "class Student(Person):\n",
    "    def __init__(self, fname, lname, year):\n",
    "        super().__init__(fname, lname)\n",
    "        self.graduationyear = year\n",
    "\n",
    "    def welcome(self):\n",
    "        print(\"Welcome\", self.firstname, self.lastname, \"to the class of\", self.graduationyear)\n",
    "          \n",
    "x = Student(\"Mike\", \"Olsen\", 2019)\n",
    "x.welcome()\n"
   ]
  },
  {
   "cell_type": "code",
   "execution_count": 76,
   "id": "39508674-45a6-4b5b-bea7-e5242bfb84ac",
   "metadata": {},
   "outputs": [],
   "source": [
    "class Elon:\n",
    "    def __init__(self):\n",
    "        print(\"Profile created\")\n",
    "        \n",
    "    def name(self):\n",
    "        print(\"Elon Musk\")\n",
    "    def age(self):\n",
    "        print(\"40\")"
   ]
  },
  {
   "cell_type": "code",
   "execution_count": 78,
   "id": "847ab28d-0782-4aba-9f35-912d22020128",
   "metadata": {},
   "outputs": [],
   "source": [
    "class SpaceX(Elon):\n",
    "    def __init__(self):\n",
    "        super().__init__()\n",
    "        print(\"Company Profile created\")\n",
    "    def name(self):\n",
    "        print(\"SpaceX\")\n",
    "    def type(self):\n",
    "        print(\"Private Space travel\")"
   ]
  },
  {
   "cell_type": "code",
   "execution_count": 80,
   "id": "bdfcf2ae-5263-4a88-b519-493d9d4a06a4",
   "metadata": {},
   "outputs": [
    {
     "name": "stdout",
     "output_type": "stream",
     "text": [
      "Profile created\n",
      "Company Profile created\n"
     ]
    }
   ],
   "source": [
    "spacex_profile = SpaceX()"
   ]
  },
  {
   "cell_type": "code",
   "execution_count": 82,
   "id": "bd906c9c-72ae-47bd-9448-e7c7d377f361",
   "metadata": {},
   "outputs": [
    {
     "name": "stdout",
     "output_type": "stream",
     "text": [
      "SpaceX\n",
      "40\n",
      "Private Space travel\n"
     ]
    }
   ],
   "source": [
    "spacex_profile.name()\n",
    "spacex_profile.age()\n",
    "spacex_profile.type()"
   ]
  },
  {
   "cell_type": "code",
   "execution_count": 84,
   "id": "07fc7db9-2bf1-4fd1-8b00-7cd3beedddde",
   "metadata": {},
   "outputs": [
    {
     "name": "stdout",
     "output_type": "stream",
     "text": [
      "Profile created\n",
      "Company Profile created\n"
     ]
    }
   ],
   "source": [
    "a = SpaceX()"
   ]
  },
  {
   "cell_type": "code",
   "execution_count": 86,
   "id": "9054c317-e242-498d-8107-4a067065fece",
   "metadata": {},
   "outputs": [],
   "source": [
    "class Elon:\n",
    "    def __init__(self):\n",
    "        print(\"Profile created\")\n",
    "    def name(self):\n",
    "        print(\"Elon Musk\")\n",
    "    def age(self):\n",
    "        print(\"40\")"
   ]
  },
  {
   "cell_type": "code",
   "execution_count": 88,
   "id": "d8c86fc7-01d5-4dcd-84e2-2d877b90bf29",
   "metadata": {},
   "outputs": [],
   "source": [
    "class SpaceX(Elon):\n",
    "    def __init__(self):\n",
    "        super().__init__()\n",
    "        \n",
    "        print(\"Company Profile created\")\n",
    "    def name(self):\n",
    "        print(\"SpaceX\")\n",
    "    def type(self):\n",
    "        print(\"Private Space travel\")"
   ]
  },
  {
   "cell_type": "code",
   "execution_count": 90,
   "id": "de4d1e91-125b-4a66-864c-8eabede6aa73",
   "metadata": {},
   "outputs": [],
   "source": [
    "class Elon:\n",
    "    def __init__(self):\n",
    "        print(\"Profile created\")\n",
    "    def name(self):\n",
    "        print(\"Elon Musk\")\n",
    "    def age(self):\n",
    "        print(\"40\")\n",
    "class SpaceX(Elon):\n",
    "    def __init__(self):\n",
    "        super().__init__() \n",
    "\n",
    "        print(\"Company Profile created\")\n",
    "    def name(self):\n",
    "        print(\"SpaceX\")\n",
    "    def type(self):\n",
    "        print(\"Private Space travel\")"
   ]
  },
  {
   "cell_type": "code",
   "execution_count": 92,
   "id": "71b4cb06-9d38-4aa1-bf99-ed81dbe46e13",
   "metadata": {},
   "outputs": [
    {
     "ename": "IndentationError",
     "evalue": "expected an indented block after function definition on line 9 (4165676531.py, line 10)",
     "output_type": "error",
     "traceback": [
      "\u001b[1;36m  Cell \u001b[1;32mIn[92], line 10\u001b[1;36m\u001b[0m\n\u001b[1;33m    return \"CEO\"\u001b[0m\n\u001b[1;37m    ^\u001b[0m\n\u001b[1;31mIndentationError\u001b[0m\u001b[1;31m:\u001b[0m expected an indented block after function definition on line 9\n"
     ]
    }
   ],
   "source": [
    "class Elon:\n",
    "    def __init__(self, name):\n",
    "        self.name = name\n",
    "    def type(self):\n",
    "        return \"Entrepreneur\"\n",
    "class Sundar:\n",
    "    def __init__(self, name):\n",
    "        self.name = name\n",
    "    def type(self):\n",
    "    return \"CEO\""
   ]
  },
  {
   "cell_type": "code",
   "execution_count": 3,
   "id": "4ce37775-a722-4dd2-9c67-ab1bf668c070",
   "metadata": {},
   "outputs": [
    {
     "ename": "NameError",
     "evalue": "name 'Elon' is not defined",
     "output_type": "error",
     "traceback": [
      "\u001b[1;31m---------------------------------------------------------------------------\u001b[0m",
      "\u001b[1;31mNameError\u001b[0m                                 Traceback (most recent call last)",
      "Cell \u001b[1;32mIn[3], line 1\u001b[0m\n\u001b[1;32m----> 1\u001b[0m person1 \u001b[38;5;241m=\u001b[39m Elon(\u001b[38;5;124m'\u001b[39m\u001b[38;5;124mElon Musk\u001b[39m\u001b[38;5;124m'\u001b[39m)\n\u001b[0;32m      2\u001b[0m person2 \u001b[38;5;241m=\u001b[39m Sundar(\u001b[38;5;124m'\u001b[39m\u001b[38;5;124mSundar Pichai\u001b[39m\u001b[38;5;124m'\u001b[39m)\n\u001b[0;32m      4\u001b[0m \u001b[38;5;28;01mdef\u001b[39;00m \u001b[38;5;21mprint_person_type\u001b[39m(person):\n",
      "\u001b[1;31mNameError\u001b[0m: name 'Elon' is not defined"
     ]
    }
   ],
   "source": [
    "person1 = Elon('Elon Musk')\n",
    "person2 = Sundar('Sundar Pichai')\n",
    "\n",
    "def print_person_type(person):\n",
    "    print(f\"{person.name} is a {person.type()}\")\n",
    "    \n",
    "print_person_type(person1)\n",
    "print_person_type(person2)"
   ]
  },
  {
   "cell_type": "code",
   "execution_count": 21,
   "id": "021da602-2fed-434b-9aec-74ee7fbfd814",
   "metadata": {},
   "outputs": [
    {
     "name": "stdout",
     "output_type": "stream",
     "text": [
      "Elon Musk is a Entrepreneur\n",
      "Sundar Pichai is a CEO\n"
     ]
    }
   ],
   "source": [
    "\n",
    "\n",
    "person1 = Elon('Elon Musk')\n",
    "person2 = Sundar('Sundar Pichai')\n",
    "\n",
    "def print_person_type(person):\n",
    "    print(f\"{person.name} is a {person.type()}\")\n",
    "\n",
    "print_person_type(person1)\n",
    "print_person_type(person2)\n"
   ]
  },
  {
   "cell_type": "code",
   "execution_count": 19,
   "id": "4f6332a7-6a40-4c2e-a1e5-34dc7982b657",
   "metadata": {},
   "outputs": [],
   "source": [
    "class Elon:\n",
    "    def __init__(self, name):\n",
    "        self.name = name\n",
    "    def type(self):\n",
    "        return \"Entrepreneur\"\n",
    "class Sundar:\n",
    "    def __init__(self, name):\n",
    "        self.name = name\n",
    "    def type(self):\n",
    "        return \"CEO\""
   ]
  },
  {
   "cell_type": "code",
   "execution_count": 31,
   "id": "6d300e24-4fbc-41fe-af5a-e3dda9060df4",
   "metadata": {},
   "outputs": [
    {
     "name": "stdout",
     "output_type": "stream",
     "text": [
      "3\n"
     ]
    }
   ],
   "source": [
    "class myClass:\n",
    "    def my_function(arg1,arg2):\n",
    "        return arg1 + arg2\n",
    "\n",
    "result = myClass.my_function(1,2)\n",
    "print(result)"
   ]
  },
  {
   "cell_type": "code",
   "execution_count": 41,
   "id": "38563232-682e-4fec-867f-ea81d49d1e4b",
   "metadata": {},
   "outputs": [
    {
     "name": "stdout",
     "output_type": "stream",
     "text": [
      "3\n"
     ]
    }
   ],
   "source": [
    "class myclass:\n",
    "    def my_function(arg1,arg2):\n",
    "        return arg1+arg2\n",
    "\n",
    "result = myclass.my_function(1,2)\n",
    "print(result)"
   ]
  },
  {
   "cell_type": "code",
   "execution_count": 53,
   "id": "9b757c67-2d07-4364-b450-64676f06d1d7",
   "metadata": {},
   "outputs": [
    {
     "name": "stdout",
     "output_type": "stream",
     "text": [
      "15\n"
     ]
    }
   ],
   "source": [
    "class myclass:\n",
    "    class_variable = 10\n",
    "    @classmethod\n",
    "    def my_function(cls, arg1):\n",
    "        return cls.class_variable + arg1\n",
    "\n",
    "result = myclass.my_function(5)\n",
    "print(result)"
   ]
  },
  {
   "cell_type": "code",
   "execution_count": 49,
   "id": "03ac88ab-16d3-4681-aa5e-cb4aa4573c46",
   "metadata": {},
   "outputs": [
    {
     "name": "stdout",
     "output_type": "stream",
     "text": [
      "15\n"
     ]
    }
   ],
   "source": [
    "class myclass:\n",
    "    def __init__(self,value):\n",
    "        self.value = value\n",
    "\n",
    "    def my_function(self,arg1):\n",
    "        return self.value + arg1\n",
    "\n",
    "instance = myclass(10)\n",
    "\n",
    "result = instance.my_function(5)\n",
    "print(result)"
   ]
  },
  {
   "cell_type": "code",
   "execution_count": 69,
   "id": "476415ce-51ef-449e-b43a-5feb5fc3cad0",
   "metadata": {},
   "outputs": [
    {
     "name": "stdout",
     "output_type": "stream",
     "text": [
      "10\n"
     ]
    }
   ],
   "source": [
    "class myclass:\n",
    "    def __init__(self, value):\n",
    "        self._value = value\n",
    "    \n",
    "    def _protected_method(self):\n",
    "        return self._value\n",
    "\n",
    "obj = myclass(10)\n",
    "print(obj._value)"
   ]
  },
  {
   "cell_type": "code",
   "execution_count": 71,
   "id": "60d7e327-27e7-4291-b1e4-21126e4efcfc",
   "metadata": {},
   "outputs": [
    {
     "data": {
      "text/plain": [
       "10"
      ]
     },
     "execution_count": 71,
     "metadata": {},
     "output_type": "execute_result"
    }
   ],
   "source": [
    "obj._protected_method()"
   ]
  },
  {
   "cell_type": "code",
   "execution_count": 75,
   "id": "2604f3f1-5196-4ec7-b6df-bc0887c27459",
   "metadata": {},
   "outputs": [
    {
     "name": "stdout",
     "output_type": "stream",
     "text": [
      "10\n"
     ]
    }
   ],
   "source": [
    "class myclass:\n",
    "    def __init__(self,value):\n",
    "        self.__value=value\n",
    "\n",
    "    def get_value(self):\n",
    "        return self.__value\n",
    "\n",
    "obj= myclass(10)\n",
    "print(obj.get_value())"
   ]
  },
  {
   "cell_type": "code",
   "execution_count": 78,
   "id": "40208c9a-df5f-4909-a50a-9553664e94d4",
   "metadata": {},
   "outputs": [
    {
     "ename": "SyntaxError",
     "evalue": "incomplete input (741167606.py, line 2)",
     "output_type": "error",
     "traceback": [
      "\u001b[1;36m  Cell \u001b[1;32mIn[78], line 2\u001b[1;36m\u001b[0m\n\u001b[1;33m    \u001b[0m\n\u001b[1;37m    ^\u001b[0m\n\u001b[1;31mSyntaxError\u001b[0m\u001b[1;31m:\u001b[0m incomplete input\n"
     ]
    }
   ],
   "source": [
    "print(obj.__value\n",
    "    "
   ]
  },
  {
   "cell_type": "code",
   "execution_count": 80,
   "id": "6e8a6428-118d-41fe-aa9b-5bf1b963012f",
   "metadata": {},
   "outputs": [
    {
     "name": "stdout",
     "output_type": "stream",
     "text": [
      "10\n"
     ]
    }
   ],
   "source": [
    "print(obj._myclass__value)"
   ]
  },
  {
   "cell_type": "code",
   "execution_count": 84,
   "id": "6ed2d5a6-b7ba-4e1f-b166-27ad5e492996",
   "metadata": {},
   "outputs": [
    {
     "name": "stdout",
     "output_type": "stream",
     "text": [
      "10\n",
      "20\n"
     ]
    }
   ],
   "source": [
    "class myclass:\n",
    "    def __init__(self,value):\n",
    "        self.__value =value\n",
    "\n",
    "    def get_value(self):\n",
    "        return self.__value\n",
    "\n",
    "    def set_value(self,value):\n",
    "        self.__value=value\n",
    "\n",
    "obj= myclass(10)\n",
    "print(obj.get_value())\n",
    "obj.set_value(20)\n",
    "print(obj.get_value())"
   ]
  },
  {
   "cell_type": "code",
   "execution_count": 88,
   "id": "444b6460-4d33-455a-a100-72e741be1e0c",
   "metadata": {},
   "outputs": [
    {
     "name": "stdout",
     "output_type": "stream",
     "text": [
      "10\n",
      "20\n"
     ]
    }
   ],
   "source": [
    "class myclass:\n",
    "    def __init__(self,value):\n",
    "        self.__value = value\n",
    "\n",
    "    @property\n",
    "    def value(self):\n",
    "        return self.__value\n",
    "\n",
    "    @value.setter\n",
    "    def value(self,value):\n",
    "        self.__value = value\n",
    "\n",
    "obj =myclass(10)\n",
    "print(obj.value)\n",
    "obj.value = 20\n",
    "print(obj.value)"
   ]
  },
  {
   "cell_type": "code",
   "execution_count": null,
   "id": "4c3f867b-6486-4d78-b653-ce69601cc99d",
   "metadata": {},
   "outputs": [],
   "source": []
  }
 ],
 "metadata": {
  "kernelspec": {
   "display_name": "Python 3 (ipykernel)",
   "language": "python",
   "name": "python3"
  },
  "language_info": {
   "codemirror_mode": {
    "name": "ipython",
    "version": 3
   },
   "file_extension": ".py",
   "mimetype": "text/x-python",
   "name": "python",
   "nbconvert_exporter": "python",
   "pygments_lexer": "ipython3",
   "version": "3.11.7"
  }
 },
 "nbformat": 4,
 "nbformat_minor": 5
}
