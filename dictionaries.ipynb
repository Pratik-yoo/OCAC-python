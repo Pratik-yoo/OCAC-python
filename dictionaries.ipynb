{
 "cells": [
  {
   "cell_type": "code",
   "execution_count": 3,
   "id": "5c8c3894-7abe-45d9-9501-d06714c1ca3e",
   "metadata": {},
   "outputs": [],
   "source": [
    "dic={}"
   ]
  },
  {
   "cell_type": "code",
   "execution_count": 4,
   "id": "2d211f65-a766-4f34-b03e-31c7b998102e",
   "metadata": {},
   "outputs": [
    {
     "data": {
      "text/plain": [
       "dict"
      ]
     },
     "execution_count": 4,
     "metadata": {},
     "output_type": "execute_result"
    }
   ],
   "source": [
    "type(dic)"
   ]
  },
  {
   "cell_type": "code",
   "execution_count": 5,
   "id": "5ae8ad48-8ae6-48d1-ac84-a9e650a00f64",
   "metadata": {},
   "outputs": [
    {
     "data": {
      "text/plain": [
       "{}"
      ]
     },
     "execution_count": 5,
     "metadata": {},
     "output_type": "execute_result"
    }
   ],
   "source": [
    "dic"
   ]
  },
  {
   "cell_type": "code",
   "execution_count": 6,
   "id": "93e378d1-3a9f-49bd-b0c0-6f6d6a7166e2",
   "metadata": {},
   "outputs": [
    {
     "data": {
      "text/plain": [
       "dict"
      ]
     },
     "execution_count": 6,
     "metadata": {},
     "output_type": "execute_result"
    }
   ],
   "source": [
    "d=dict()\n",
    "type(d)"
   ]
  },
  {
   "cell_type": "code",
   "execution_count": 7,
   "id": "f2f31784-0ee9-4987-b0d8-97b34826c7cd",
   "metadata": {},
   "outputs": [
    {
     "data": {
      "text/plain": [
       "{}"
      ]
     },
     "execution_count": 7,
     "metadata": {},
     "output_type": "execute_result"
    }
   ],
   "source": [
    "d"
   ]
  },
  {
   "cell_type": "code",
   "execution_count": 13,
   "id": "11a6136d-c9af-4c2b-8ea6-cbdff873964f",
   "metadata": {},
   "outputs": [
    {
     "data": {
      "text/plain": [
       "dict"
      ]
     },
     "execution_count": 13,
     "metadata": {},
     "output_type": "execute_result"
    }
   ],
   "source": [
    "b={\"mobile1\":\"realme\",\"mobile2\":\"oppo\",\"mobile3\":\"apple\",\"mobile4\":\"vivo\"}\n",
    "type(d)"
   ]
  },
  {
   "cell_type": "code",
   "execution_count": 9,
   "id": "b8310d1d-045f-4261-ab3f-26120fcbc7e1",
   "metadata": {},
   "outputs": [],
   "source": [
    "b=['mobile1']"
   ]
  },
  {
   "cell_type": "code",
   "execution_count": 10,
   "id": "e5b45f2c-ba63-405b-9248-f00eead14cfa",
   "metadata": {},
   "outputs": [],
   "source": [
    "dict1 = {'key1': 456,'key2': [3,9,15], 'key3': (94,8,23), 'key4': ['item1','i tem2', 'item3']}"
   ]
  },
  {
   "cell_type": "code",
   "execution_count": 11,
   "id": "61f13d6e-c14b-45dd-8e49-5b581203d2dc",
   "metadata": {},
   "outputs": [
    {
     "data": {
      "text/plain": [
       "['item1', 'i tem2', 'item3']"
      ]
     },
     "execution_count": 11,
     "metadata": {},
     "output_type": "execute_result"
    }
   ],
   "source": [
    "dict1['key4']"
   ]
  },
  {
   "cell_type": "code",
   "execution_count": 12,
   "id": "3d0febca-26b5-44b8-a9ba-9b7700a388ca",
   "metadata": {},
   "outputs": [
    {
     "data": {
      "text/plain": [
       "dict_keys(['key1', 'key2', 'key3', 'key4'])"
      ]
     },
     "execution_count": 12,
     "metadata": {},
     "output_type": "execute_result"
    }
   ],
   "source": [
    "dict1.keys()"
   ]
  },
  {
   "cell_type": "code",
   "execution_count": 14,
   "id": "ade68ca7-3cd1-434c-8bac-033f3356bd77",
   "metadata": {},
   "outputs": [
    {
     "data": {
      "text/plain": [
       "dict_values([456, [3, 9, 15], (94, 8, 23), ['item1', 'i tem2', 'item3']])"
      ]
     },
     "execution_count": 14,
     "metadata": {},
     "output_type": "execute_result"
    }
   ],
   "source": [
    "dict1.values()"
   ]
  },
  {
   "cell_type": "code",
   "execution_count": 14,
   "id": "3641f0c0-67d3-4840-9cff-3c902780aa8f",
   "metadata": {},
   "outputs": [
    {
     "data": {
      "text/plain": [
       "dict_items([('mobile1', 'realme'), ('mobile2', 'oppo'), ('mobile3', 'apple'), ('mobile4', 'vivo')])"
      ]
     },
     "execution_count": 14,
     "metadata": {},
     "output_type": "execute_result"
    }
   ],
   "source": [
    "b.items()"
   ]
  },
  {
   "cell_type": "code",
   "execution_count": 15,
   "id": "555b3684-947c-47d4-8a4f-26d66822c731",
   "metadata": {},
   "outputs": [],
   "source": [
    "b['mobile4']='moto'"
   ]
  },
  {
   "cell_type": "code",
   "execution_count": 16,
   "id": "9f747f36-90b9-452c-a3ad-5bb2ab8dee84",
   "metadata": {},
   "outputs": [
    {
     "data": {
      "text/plain": [
       "{'mobile1': 'realme', 'mobile2': 'oppo', 'mobile3': 'apple', 'mobile4': 'moto'}"
      ]
     },
     "execution_count": 16,
     "metadata": {},
     "output_type": "execute_result"
    }
   ],
   "source": [
    "b"
   ]
  },
  {
   "cell_type": "code",
   "execution_count": 17,
   "id": "45188c9f-05d9-4097-86c6-82e2fe598ad4",
   "metadata": {},
   "outputs": [],
   "source": [
    "b['mobile1']='lava'"
   ]
  },
  {
   "cell_type": "code",
   "execution_count": 18,
   "id": "a5d9ac0a-5985-4a34-8afb-71626abfae48",
   "metadata": {},
   "outputs": [
    {
     "data": {
      "text/plain": [
       "{'mobile1': 'lava', 'mobile2': 'oppo', 'mobile3': 'apple', 'mobile4': 'moto'}"
      ]
     },
     "execution_count": 18,
     "metadata": {},
     "output_type": "execute_result"
    }
   ],
   "source": [
    "b"
   ]
  },
  {
   "cell_type": "code",
   "execution_count": 26,
   "id": "39302740-7abf-44f6-91e2-6668515fea7f",
   "metadata": {},
   "outputs": [
    {
     "ename": "NameError",
     "evalue": "name 'mobile_mode3' is not defined",
     "output_type": "error",
     "traceback": [
      "\u001b[1;31m---------------------------------------------------------------------------\u001b[0m",
      "\u001b[1;31mNameError\u001b[0m                                 Traceback (most recent call last)",
      "Cell \u001b[1;32mIn[26], line 4\u001b[0m\n\u001b[0;32m      2\u001b[0m mobile_model2\u001b[38;5;241m=\u001b[39m{\u001b[38;5;124m'\u001b[39m\u001b[38;5;124mrealme\u001b[39m\u001b[38;5;124m'\u001b[39m}\n\u001b[0;32m      3\u001b[0m mobile_model3\u001b[38;5;241m=\u001b[39m{\u001b[38;5;124m'\u001b[39m\u001b[38;5;124mvivo\u001b[39m\u001b[38;5;124m'\u001b[39m}\n\u001b[1;32m----> 4\u001b[0m mobile_type\u001b[38;5;241m=\u001b[39m{\u001b[38;5;124m'\u001b[39m\u001b[38;5;124mmobile1\u001b[39m\u001b[38;5;124m'\u001b[39m:mobile_model1,\u001b[38;5;124m'\u001b[39m\u001b[38;5;124mmobile2\u001b[39m\u001b[38;5;124m'\u001b[39m:mobile_model2,\u001b[38;5;124m'\u001b[39m\u001b[38;5;124mmobile3\u001b[39m\u001b[38;5;124m'\u001b[39m:mobile_mode3}\n",
      "\u001b[1;31mNameError\u001b[0m: name 'mobile_mode3' is not defined"
     ]
    }
   ],
   "source": [
    "mobile_model1={'oppo'}\n",
    "mobile_model2={'realme'}\n",
    "mobile_model3={'vivo'}\n",
    "mobile_type={'mobile1':mobile_model1,'mobile2':mobile_model2,'mobile3':mobile_mode3}"
   ]
  },
  {
   "cell_type": "code",
   "execution_count": 24,
   "id": "00eb1e15-ff2b-48c5-84ac-54fe564acb93",
   "metadata": {},
   "outputs": [],
   "source": [
    "car1_model={ 'Mercedes'} \n",
    "car2_model={'Audi'} \n",
    "car3_model={'Ambassador'} \n",
    "car_type={'car1':car1_model, 'car2':car2_model, 'car3': car3_model}"
   ]
  },
  {
   "cell_type": "code",
   "execution_count": 25,
   "id": "9d1f2df5-c64a-4430-8d1b-5ca9b033839b",
   "metadata": {},
   "outputs": [
    {
     "name": "stdout",
     "output_type": "stream",
     "text": [
      "{'car1': {'Mercedes'}, 'car2': {'Audi'}, 'car3': {'Ambassador'}}\n"
     ]
    }
   ],
   "source": [
    "print(car_type)"
   ]
  },
  {
   "cell_type": "code",
   "execution_count": 27,
   "id": "5b4a1303-65de-4956-8643-96614d75bfcf",
   "metadata": {},
   "outputs": [
    {
     "name": "stdout",
     "output_type": "stream",
     "text": [
      "{'Mercedes'}\n"
     ]
    }
   ],
   "source": [
    "print(car_type['car1'])"
   ]
  },
  {
   "cell_type": "code",
   "execution_count": 38,
   "id": "8a72c98a-9836-4ab3-a0b5-20f002974c3e",
   "metadata": {},
   "outputs": [],
   "source": [
    "marks={'history':45, 'Geography':54, 'Hindi':56} "
   ]
  },
  {
   "cell_type": "code",
   "execution_count": 39,
   "id": "70efc198-cf3c-4a67-8d8c-f904f8a1b482",
   "metadata": {},
   "outputs": [
    {
     "ename": "SyntaxError",
     "evalue": "cannot assign to literal (3457530314.py, line 1)",
     "output_type": "error",
     "traceback": [
      "\u001b[1;36m  Cell \u001b[1;32mIn[39], line 1\u001b[1;36m\u001b[0m\n\u001b[1;33m    marks=['english']=45\u001b[0m\n\u001b[1;37m           ^\u001b[0m\n\u001b[1;31mSyntaxError\u001b[0m\u001b[1;31m:\u001b[0m cannot assign to literal\n"
     ]
    }
   ],
   "source": [
    "marks=['english']=45\n",
    "marks "
   ]
  },
  {
   "cell_type": "code",
   "execution_count": 40,
   "id": "da5fc008-726e-42bc-ad60-c0bcac15bc20",
   "metadata": {},
   "outputs": [
    {
     "data": {
      "text/plain": [
       "{'history': 45, 'Geography': 54, 'Hindi': 56, 'english': 47}"
      ]
     },
     "execution_count": 40,
     "metadata": {},
     "output_type": "execute_result"
    }
   ],
   "source": [
    "marks['english']=47 \n",
    "marks "
   ]
  },
  {
   "cell_type": "code",
   "execution_count": 41,
   "id": "81296fe3-5444-48d1-ba66-a63dbee9d8ef",
   "metadata": {},
   "outputs": [
    {
     "data": {
      "text/plain": [
       "{'history': 45,\n",
       " 'Geography': 54,\n",
       " 'Hindi': 56,\n",
       " 'english': 47,\n",
       " 'Chemistry': 89,\n",
       " 'Physics': 98}"
      ]
     },
     "execution_count": 41,
     "metadata": {},
     "output_type": "execute_result"
    }
   ],
   "source": [
    "marks.update({'Chemistry':89, 'Physics':98}) \n",
    "marks\n"
   ]
  },
  {
   "cell_type": "code",
   "execution_count": 47,
   "id": "7282bca3-676d-4970-bb99-c85214dcaed1",
   "metadata": {},
   "outputs": [
    {
     "data": {
      "text/plain": [
       "{'history': 45,\n",
       " 'Geography': 54,\n",
       " 'english': 47,\n",
       " 'Chemistry': 89,\n",
       " 'Physics': 98,\n",
       " 'Hindi': 64}"
      ]
     },
     "execution_count": 47,
     "metadata": {},
     "output_type": "execute_result"
    }
   ],
   "source": [
    " marks [ 'Hindi']=64 \n",
    "marks \n"
   ]
  },
  {
   "cell_type": "code",
   "execution_count": 48,
   "id": "fed38705-467c-4d11-b8b4-7051027a58c2",
   "metadata": {},
   "outputs": [
    {
     "data": {
      "text/plain": [
       "{'history': 45, 'Geography': 54, 'english': 47, 'Chemistry': 89, 'Physics': 98}"
      ]
     },
     "execution_count": 48,
     "metadata": {},
     "output_type": "execute_result"
    }
   ],
   "source": [
    "del marks ['Hindi'] \n",
    "marks \n"
   ]
  },
  {
   "cell_type": "code",
   "execution_count": 49,
   "id": "01d32fc4-b467-408b-acbf-5aa78bbb10f4",
   "metadata": {},
   "outputs": [
    {
     "data": {
      "text/plain": [
       "{'key1': 456,\n",
       " 'key2': [3, 9, 15],\n",
       " 'key3': (94, 8, 23),\n",
       " 'key4': ['item1', 'i tem2', 'item3']}"
      ]
     },
     "execution_count": 49,
     "metadata": {},
     "output_type": "execute_result"
    }
   ],
   "source": [
    "dict1 "
   ]
  },
  {
   "cell_type": "code",
   "execution_count": 50,
   "id": "0c328c44-8317-40b7-bed6-1e0142935b57",
   "metadata": {},
   "outputs": [],
   "source": [
    " del dict1['key4'][1]"
   ]
  },
  {
   "cell_type": "code",
   "execution_count": 51,
   "id": "7a784e4a-a328-44f6-acb9-1927764da193",
   "metadata": {},
   "outputs": [
    {
     "data": {
      "text/plain": [
       "{'key1': 456,\n",
       " 'key2': [3, 9, 15],\n",
       " 'key3': (94, 8, 23),\n",
       " 'key4': ['item1', 'item3']}"
      ]
     },
     "execution_count": 51,
     "metadata": {},
     "output_type": "execute_result"
    }
   ],
   "source": [
    "dict1"
   ]
  },
  {
   "cell_type": "code",
   "execution_count": 52,
   "id": "39fb3c2d-a6e5-4536-9812-a5ef4204ae25",
   "metadata": {},
   "outputs": [
    {
     "data": {
      "text/plain": [
       "[3, 9, 15]"
      ]
     },
     "execution_count": 52,
     "metadata": {},
     "output_type": "execute_result"
    }
   ],
   "source": [
    " dict1.pop('key2')"
   ]
  },
  {
   "cell_type": "code",
   "execution_count": 53,
   "id": "de8a7125-b0b2-42f0-91c6-f31f594fbb12",
   "metadata": {},
   "outputs": [
    {
     "data": {
      "text/plain": [
       "{'key1': 456, 'key3': (94, 8, 23), 'key4': ['item1', 'item3']}"
      ]
     },
     "execution_count": 53,
     "metadata": {},
     "output_type": "execute_result"
    }
   ],
   "source": [
    "dict1"
   ]
  },
  {
   "cell_type": "code",
   "execution_count": 59,
   "id": "e0f51ffb-5d4a-4d3d-b88f-8a41837a3594",
   "metadata": {},
   "outputs": [],
   "source": [
    "mix_dict={1:23, 2: 'stringvalue', 'name': ['gojo', 'naruto', 'tanjiro'], 'key4': ['Person', 5, 8, 13]}"
   ]
  },
  {
   "cell_type": "code",
   "execution_count": 55,
   "id": "6acea1ed-a032-4175-a8a8-b26726a256f1",
   "metadata": {},
   "outputs": [
    {
     "data": {
      "text/plain": [
       "4"
      ]
     },
     "execution_count": 55,
     "metadata": {},
     "output_type": "execute_result"
    }
   ],
   "source": [
    "len(mix_dict)"
   ]
  },
  {
   "cell_type": "code",
   "execution_count": 60,
   "id": "c5b9ac68-6f7f-4fc2-a49e-e5e17bb70bfc",
   "metadata": {},
   "outputs": [
    {
     "data": {
      "text/plain": [
       "['Person', 5, 8, 13]"
      ]
     },
     "execution_count": 60,
     "metadata": {},
     "output_type": "execute_result"
    }
   ],
   "source": [
    "mix_dict['key4']"
   ]
  },
  {
   "cell_type": "code",
   "execution_count": 61,
   "id": "d214d280-538d-472b-81fc-6090419a8766",
   "metadata": {},
   "outputs": [
    {
     "data": {
      "text/plain": [
       "['gojo', 'naruto', 'tanjiro']"
      ]
     },
     "execution_count": 61,
     "metadata": {},
     "output_type": "execute_result"
    }
   ],
   "source": [
    " mix_dict['name']"
   ]
  },
  {
   "cell_type": "code",
   "execution_count": 62,
   "id": "445b24ed-4a5c-4520-8a39-b299d99afa6c",
   "metadata": {},
   "outputs": [
    {
     "data": {
      "text/plain": [
       "'gojo'"
      ]
     },
     "execution_count": 62,
     "metadata": {},
     "output_type": "execute_result"
    }
   ],
   "source": [
    "mix_dict['name'][0]"
   ]
  },
  {
   "cell_type": "code",
   "execution_count": null,
   "id": "9bfb51a3-d1d2-44b1-b1ac-da4061255b5c",
   "metadata": {},
   "outputs": [],
   "source": []
  }
 ],
 "metadata": {
  "kernelspec": {
   "display_name": "Python 3 (ipykernel)",
   "language": "python",
   "name": "python3"
  },
  "language_info": {
   "codemirror_mode": {
    "name": "ipython",
    "version": 3
   },
   "file_extension": ".py",
   "mimetype": "text/x-python",
   "name": "python",
   "nbconvert_exporter": "python",
   "pygments_lexer": "ipython3",
   "version": "3.11.7"
  }
 },
 "nbformat": 4,
 "nbformat_minor": 5
}
