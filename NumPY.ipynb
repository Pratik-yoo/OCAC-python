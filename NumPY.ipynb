{
 "cells": [
  {
   "cell_type": "code",
   "execution_count": 1,
   "id": "d2b34234-8d28-4934-9e18-5d44c2ea2f06",
   "metadata": {},
   "outputs": [],
   "source": [
    "import numpy as np"
   ]
  },
  {
   "cell_type": "code",
   "execution_count": 2,
   "id": "9da46737-871d-4cef-8b6c-348fc7743878",
   "metadata": {},
   "outputs": [],
   "source": [
    "a=[1,2,3,4,5,6,7]"
   ]
  },
  {
   "cell_type": "code",
   "execution_count": 3,
   "id": "5cba7276-0ed0-4ba9-944f-7afa1ca5a4eb",
   "metadata": {},
   "outputs": [
    {
     "data": {
      "text/plain": [
       "[1, 2, 3, 4, 5, 6, 7]"
      ]
     },
     "execution_count": 3,
     "metadata": {},
     "output_type": "execute_result"
    }
   ],
   "source": [
    "a"
   ]
  },
  {
   "cell_type": "code",
   "execution_count": 4,
   "id": "07ac9fd8-bc04-48e6-a26d-f02f4255e154",
   "metadata": {},
   "outputs": [
    {
     "name": "stdout",
     "output_type": "stream",
     "text": [
      "<class 'list'>\n"
     ]
    }
   ],
   "source": [
    "print(type(a))"
   ]
  },
  {
   "cell_type": "code",
   "execution_count": 5,
   "id": "072b4e19-addd-4474-bc48-e408a76b4978",
   "metadata": {},
   "outputs": [],
   "source": [
    "np_a =np.array(a)"
   ]
  },
  {
   "cell_type": "code",
   "execution_count": 6,
   "id": "f4fe7c2d-65b4-4d48-bf1d-c84f39d8aaa3",
   "metadata": {},
   "outputs": [
    {
     "name": "stdout",
     "output_type": "stream",
     "text": [
      "[1 2 3 4 5 6 7]\n"
     ]
    }
   ],
   "source": [
    "print(np_a)"
   ]
  },
  {
   "cell_type": "code",
   "execution_count": 7,
   "id": "2d943997-b1c2-43dc-8b8a-32a8ede49ef0",
   "metadata": {},
   "outputs": [
    {
     "name": "stdout",
     "output_type": "stream",
     "text": [
      "<class 'numpy.ndarray'>\n"
     ]
    }
   ],
   "source": [
    "print(type(np_a))"
   ]
  },
  {
   "cell_type": "code",
   "execution_count": 8,
   "id": "bd8af0fb-c6a9-4d72-b520-c661bfb6019d",
   "metadata": {},
   "outputs": [
    {
     "name": "stdout",
     "output_type": "stream",
     "text": [
      "662 µs ± 25.6 µs per loop (mean ± std. dev. of 7 runs, 1,000 loops each)\n"
     ]
    }
   ],
   "source": [
    "L = range(10000)\n",
    "%timeit [i**2 for i in L]"
   ]
  },
  {
   "cell_type": "code",
   "execution_count": 9,
   "id": "d7bba2f5-a57c-4b7c-a5ca-dd0ecbf2dbf9",
   "metadata": {},
   "outputs": [
    {
     "name": "stdout",
     "output_type": "stream",
     "text": [
      "64.2 µs ± 9.71 µs per loop (mean ± std. dev. of 7 runs, 10,000 loops each)\n"
     ]
    }
   ],
   "source": [
    "a = np .arange(100000)\n",
    "%timeit a**2"
   ]
  },
  {
   "cell_type": "code",
   "execution_count": 10,
   "id": "43f90e0c-6d0a-4968-baca-79fe310bd626",
   "metadata": {},
   "outputs": [
    {
     "data": {
      "text/plain": [
       "array([0, 1, 2, 3])"
      ]
     },
     "execution_count": 10,
     "metadata": {},
     "output_type": "execute_result"
    }
   ],
   "source": [
    "a = np.array([0,1,2,3])\n",
    "a"
   ]
  },
  {
   "cell_type": "code",
   "execution_count": 11,
   "id": "6bea7fcb-f4ad-4312-8f48-89c9aaa996cf",
   "metadata": {},
   "outputs": [
    {
     "data": {
      "text/plain": [
       "1"
      ]
     },
     "execution_count": 11,
     "metadata": {},
     "output_type": "execute_result"
    }
   ],
   "source": [
    "a.ndim"
   ]
  },
  {
   "cell_type": "code",
   "execution_count": 12,
   "id": "88fac96f-107e-4f3a-bd11-c93875bd6804",
   "metadata": {},
   "outputs": [
    {
     "data": {
      "text/plain": [
       "(4,)"
      ]
     },
     "execution_count": 12,
     "metadata": {},
     "output_type": "execute_result"
    }
   ],
   "source": [
    "a.shape"
   ]
  },
  {
   "cell_type": "code",
   "execution_count": 13,
   "id": "cf591226-782a-4118-ae61-cd06b11752eb",
   "metadata": {},
   "outputs": [
    {
     "data": {
      "text/plain": [
       "array([[0, 1, 2, 3],\n",
       "       [4, 5, 6, 7]])"
      ]
     },
     "execution_count": 13,
     "metadata": {},
     "output_type": "execute_result"
    }
   ],
   "source": [
    "b= np.array([[0,1,2,3],[4,5,6,7]])\n",
    "b"
   ]
  },
  {
   "cell_type": "code",
   "execution_count": 14,
   "id": "f5c14001-f93e-4eff-b5fa-0ff8f690f536",
   "metadata": {},
   "outputs": [
    {
     "data": {
      "text/plain": [
       "2"
      ]
     },
     "execution_count": 14,
     "metadata": {},
     "output_type": "execute_result"
    }
   ],
   "source": [
    "b.ndim"
   ]
  },
  {
   "cell_type": "code",
   "execution_count": 15,
   "id": "0b2eedc9-d849-499b-8790-b3493131e42d",
   "metadata": {},
   "outputs": [
    {
     "data": {
      "text/plain": [
       "(2, 4)"
      ]
     },
     "execution_count": 15,
     "metadata": {},
     "output_type": "execute_result"
    }
   ],
   "source": [
    "b.shape"
   ]
  },
  {
   "cell_type": "code",
   "execution_count": 16,
   "id": "ee87f094-a463-4ef5-8bc9-a9b1211afee7",
   "metadata": {},
   "outputs": [
    {
     "data": {
      "text/plain": [
       "array([[[0, 1, 2],\n",
       "        [4, 5, 6],\n",
       "        [7, 8, 9]]])"
      ]
     },
     "execution_count": 16,
     "metadata": {},
     "output_type": "execute_result"
    }
   ],
   "source": [
    "c=np.array([[[0,1,2],[4,5,6],[7,8,9]]])\n",
    "c"
   ]
  },
  {
   "cell_type": "code",
   "execution_count": 17,
   "id": "54f5b8de-1543-4700-9e1d-09a39b37de55",
   "metadata": {},
   "outputs": [
    {
     "data": {
      "text/plain": [
       "3"
      ]
     },
     "execution_count": 17,
     "metadata": {},
     "output_type": "execute_result"
    }
   ],
   "source": [
    "c.ndim"
   ]
  },
  {
   "cell_type": "code",
   "execution_count": 18,
   "id": "7514a796-dc80-4a2a-af0b-7da1d7036d30",
   "metadata": {},
   "outputs": [
    {
     "data": {
      "text/plain": [
       "(2, 4)"
      ]
     },
     "execution_count": 18,
     "metadata": {},
     "output_type": "execute_result"
    }
   ],
   "source": [
    "b.shape"
   ]
  },
  {
   "cell_type": "code",
   "execution_count": 19,
   "id": "25b4b67d-5680-4f95-9466-3957d9739ccb",
   "metadata": {},
   "outputs": [
    {
     "data": {
      "text/plain": [
       "[1, 2, 3]"
      ]
     },
     "execution_count": 19,
     "metadata": {},
     "output_type": "execute_result"
    }
   ],
   "source": [
    "my_list = [1,2,3]\n",
    "my_list"
   ]
  },
  {
   "cell_type": "code",
   "execution_count": 20,
   "id": "2d08fc93-b574-4122-a079-443e710c493b",
   "metadata": {},
   "outputs": [
    {
     "data": {
      "text/plain": [
       "array([1, 2, 3])"
      ]
     },
     "execution_count": 20,
     "metadata": {},
     "output_type": "execute_result"
    }
   ],
   "source": [
    "np.array(my_list)"
   ]
  },
  {
   "cell_type": "code",
   "execution_count": 21,
   "id": "c6f2efab-82f9-4d33-82d6-6867439097fb",
   "metadata": {},
   "outputs": [
    {
     "data": {
      "text/plain": [
       "[[1, 2, 3], [4, 5, 6], [7, 8, 9]]"
      ]
     },
     "execution_count": 21,
     "metadata": {},
     "output_type": "execute_result"
    }
   ],
   "source": [
    "matrix =[[1,2,3],[4,5,6],[7,8,9]]\n",
    "matrix"
   ]
  },
  {
   "cell_type": "code",
   "execution_count": 22,
   "id": "161951f5-12f3-4f0e-bd52-0461cabf213e",
   "metadata": {},
   "outputs": [
    {
     "data": {
      "text/plain": [
       "array([[1, 2, 3],\n",
       "       [4, 5, 6],\n",
       "       [7, 8, 9]])"
      ]
     },
     "execution_count": 22,
     "metadata": {},
     "output_type": "execute_result"
    }
   ],
   "source": [
    "np.array(matrix)"
   ]
  },
  {
   "cell_type": "code",
   "execution_count": 23,
   "id": "1b75c074-84af-4eee-8a21-44f3b9079158",
   "metadata": {},
   "outputs": [
    {
     "data": {
      "text/plain": [
       "(3, 3)"
      ]
     },
     "execution_count": 23,
     "metadata": {},
     "output_type": "execute_result"
    }
   ],
   "source": [
    "np.array(matrix).shape"
   ]
  },
  {
   "cell_type": "code",
   "execution_count": 24,
   "id": "cb492364-124d-46ad-846f-c473db33368e",
   "metadata": {},
   "outputs": [
    {
     "data": {
      "text/plain": [
       "array([0, 1, 2, 3, 4, 5, 6, 7, 8, 9])"
      ]
     },
     "execution_count": 24,
     "metadata": {},
     "output_type": "execute_result"
    }
   ],
   "source": [
    "a=np.arange(10)\n",
    "a"
   ]
  },
  {
   "cell_type": "code",
   "execution_count": 25,
   "id": "06f724fc-93e9-4389-92b4-56737878e614",
   "metadata": {},
   "outputs": [],
   "source": [
    "b=np.arange(1,50,6)"
   ]
  },
  {
   "cell_type": "code",
   "execution_count": 26,
   "id": "6effe414-ac8d-4f06-a542-b566c82c0641",
   "metadata": {},
   "outputs": [
    {
     "data": {
      "text/plain": [
       "array([ 1,  7, 13, 19, 25, 31, 37, 43, 49])"
      ]
     },
     "execution_count": 26,
     "metadata": {},
     "output_type": "execute_result"
    }
   ],
   "source": [
    "b"
   ]
  },
  {
   "cell_type": "code",
   "execution_count": 27,
   "id": "fcd44f6d-0e93-4a26-bb7d-e62b2af07187",
   "metadata": {},
   "outputs": [],
   "source": [
    "a= np.linspace(0,6,7)"
   ]
  },
  {
   "cell_type": "code",
   "execution_count": 28,
   "id": "4c209b1e-bef6-456b-9cbd-779fd4e2a5d8",
   "metadata": {},
   "outputs": [
    {
     "data": {
      "text/plain": [
       "array([0., 1., 2., 3., 4., 5., 6.])"
      ]
     },
     "execution_count": 28,
     "metadata": {},
     "output_type": "execute_result"
    }
   ],
   "source": [
    "a"
   ]
  },
  {
   "cell_type": "code",
   "execution_count": 29,
   "id": "727ee7fd-91ad-4165-a949-75b768273173",
   "metadata": {},
   "outputs": [
    {
     "data": {
      "text/plain": [
       "array([ 0. , 11.5, 23. , 34.5, 46. , 57.5, 69. ])"
      ]
     },
     "execution_count": 29,
     "metadata": {},
     "output_type": "execute_result"
    }
   ],
   "source": [
    "np.linspace(0,69,7)"
   ]
  },
  {
   "cell_type": "code",
   "execution_count": 30,
   "id": "39e517ef-44e9-4c0b-8c87-ae1dfbff384e",
   "metadata": {},
   "outputs": [
    {
     "data": {
      "text/plain": [
       "array([0., 0., 0.])"
      ]
     },
     "execution_count": 30,
     "metadata": {},
     "output_type": "execute_result"
    }
   ],
   "source": [
    "np.zeros(3)"
   ]
  },
  {
   "cell_type": "code",
   "execution_count": 31,
   "id": "71c279a1-816c-4ee1-83c1-eda4341c5236",
   "metadata": {},
   "outputs": [],
   "source": [
    "b =np.zeros((3,3))"
   ]
  },
  {
   "cell_type": "code",
   "execution_count": 32,
   "id": "545c13ad-6888-4961-a644-497b46208ce9",
   "metadata": {},
   "outputs": [
    {
     "data": {
      "text/plain": [
       "array([[0., 0., 0.],\n",
       "       [0., 0., 0.],\n",
       "       [0., 0., 0.]])"
      ]
     },
     "execution_count": 32,
     "metadata": {},
     "output_type": "execute_result"
    }
   ],
   "source": [
    "b"
   ]
  },
  {
   "cell_type": "code",
   "execution_count": 33,
   "id": "4c12abaf-eda6-451b-bd43-c8454d583b0a",
   "metadata": {},
   "outputs": [],
   "source": [
    "a = np.ones((7,8))"
   ]
  },
  {
   "cell_type": "code",
   "execution_count": 34,
   "id": "b2beaf40-36a2-4684-b138-7a548fa23d31",
   "metadata": {},
   "outputs": [
    {
     "data": {
      "text/plain": [
       "array([[1., 1., 1., 1., 1., 1., 1., 1.],\n",
       "       [1., 1., 1., 1., 1., 1., 1., 1.],\n",
       "       [1., 1., 1., 1., 1., 1., 1., 1.],\n",
       "       [1., 1., 1., 1., 1., 1., 1., 1.],\n",
       "       [1., 1., 1., 1., 1., 1., 1., 1.],\n",
       "       [1., 1., 1., 1., 1., 1., 1., 1.],\n",
       "       [1., 1., 1., 1., 1., 1., 1., 1.]])"
      ]
     },
     "execution_count": 34,
     "metadata": {},
     "output_type": "execute_result"
    }
   ],
   "source": [
    "a"
   ]
  },
  {
   "cell_type": "code",
   "execution_count": 35,
   "id": "4e330f27-467c-415f-99a2-bf7677337275",
   "metadata": {},
   "outputs": [],
   "source": [
    "c = np.eye(3)"
   ]
  },
  {
   "cell_type": "code",
   "execution_count": 36,
   "id": "7c79a7c7-4933-41ed-84cc-9ee18f68d321",
   "metadata": {},
   "outputs": [
    {
     "data": {
      "text/plain": [
       "array([[1., 0., 0.],\n",
       "       [0., 1., 0.],\n",
       "       [0., 0., 1.]])"
      ]
     },
     "execution_count": 36,
     "metadata": {},
     "output_type": "execute_result"
    }
   ],
   "source": [
    "c"
   ]
  },
  {
   "cell_type": "code",
   "execution_count": 37,
   "id": "ac69bdb0-66d6-488f-b093-4860643a5122",
   "metadata": {},
   "outputs": [
    {
     "data": {
      "text/plain": [
       "array([[1., 0.],\n",
       "       [0., 1.],\n",
       "       [0., 0.]])"
      ]
     },
     "execution_count": 37,
     "metadata": {},
     "output_type": "execute_result"
    }
   ],
   "source": [
    "d = np.eye(3,2)\n",
    "d"
   ]
  },
  {
   "cell_type": "code",
   "execution_count": 38,
   "id": "5a50e5bd-d495-4286-b896-c0a413c940ec",
   "metadata": {},
   "outputs": [
    {
     "data": {
      "text/plain": [
       "array([[ 7,  0,  0,  0],\n",
       "       [ 0,  8,  0,  0],\n",
       "       [ 0,  0,  9,  0],\n",
       "       [ 0,  0,  0, 10]])"
      ]
     },
     "execution_count": 38,
     "metadata": {},
     "output_type": "execute_result"
    }
   ],
   "source": [
    "a =np.diag([7,8,9,10])\n",
    "a"
   ]
  },
  {
   "cell_type": "code",
   "execution_count": 39,
   "id": "13a45d34-7671-49e7-9490-46628ed32275",
   "metadata": {},
   "outputs": [
    {
     "data": {
      "text/plain": [
       "array([ 7,  8,  9, 10])"
      ]
     },
     "execution_count": 39,
     "metadata": {},
     "output_type": "execute_result"
    }
   ],
   "source": [
    "np.diag(a)"
   ]
  },
  {
   "cell_type": "code",
   "execution_count": 40,
   "id": "ef80522a-9a49-4d10-8e38-0d757b273daf",
   "metadata": {},
   "outputs": [
    {
     "name": "stdout",
     "output_type": "stream",
     "text": [
      "[57 74 32 98 51]\n"
     ]
    }
   ],
   "source": [
    "random_array = np.random.randint(1,121,5)\n",
    "print(random_array)"
   ]
  },
  {
   "cell_type": "code",
   "execution_count": 41,
   "id": "5dfc9d09-1602-4032-98b2-a4b355b34d5e",
   "metadata": {},
   "outputs": [
    {
     "data": {
      "text/plain": [
       "array([0.14558155, 0.71535866, 0.86562098, 0.04611112])"
      ]
     },
     "execution_count": 41,
     "metadata": {},
     "output_type": "execute_result"
    }
   ],
   "source": [
    "a = np.random.rand(4)\n",
    "a"
   ]
  },
  {
   "cell_type": "code",
   "execution_count": 42,
   "id": "8b180c05-b2ad-43ce-8d53-de178c09391f",
   "metadata": {},
   "outputs": [
    {
     "data": {
      "text/plain": [
       "array([ 0.42658434, -0.94801441, -1.77975857, -0.2409426 , -1.3718658 ,\n",
       "       -1.2720464 ,  0.34488997, -0.13854647, -1.94205638,  0.53708783,\n",
       "        1.38981278, -1.01338337,  0.49159021, -0.64569598, -1.35291007,\n",
       "       -1.01303405, -0.15157142,  0.41806071, -0.5195786 ,  1.36621003,\n",
       "       -1.87281943, -0.00896297, -0.08579322, -0.45418373,  0.73858222,\n",
       "       -1.28246486, -0.62450574,  1.93176992, -0.0029173 ,  0.40183286,\n",
       "       -0.87754684,  0.54343772, -1.42342529, -1.18154085,  0.53926358,\n",
       "        0.21296333, -1.81466115,  0.77467442, -0.6720249 , -0.94764358,\n",
       "       -0.44794082, -0.24450559,  2.04867436, -1.23209751, -0.2420364 ,\n",
       "       -0.07548508,  0.93542527, -0.61255386,  0.29608093,  0.2235012 ,\n",
       "        0.56829002,  2.07683415, -0.16502621, -1.38968535, -0.04463064,\n",
       "       -0.35630723, -0.84419916,  0.35539759, -0.45175265,  0.35207865,\n",
       "       -0.33919391, -1.35165075, -0.00466806,  0.2833891 ,  0.30554705,\n",
       "        1.05232245, -0.67405056, -0.34500589, -1.08325958,  1.48931395,\n",
       "        1.81874952,  0.51686383, -2.10985031, -1.83470198, -0.99203503,\n",
       "        0.16393968,  0.3588591 ,  0.3358677 , -1.03069195,  1.24974821,\n",
       "        0.2679863 ,  1.41364299,  1.0934474 ,  1.46755083,  0.49519324,\n",
       "        1.47860417,  0.82580023,  0.70343031,  1.56479258,  0.47685969,\n",
       "        1.11823058, -0.2821842 , -1.0550658 , -1.25942853,  0.20833427,\n",
       "        2.34215259, -1.24463938, -1.57755443, -2.17221235, -1.22100224])"
      ]
     },
     "execution_count": 42,
     "metadata": {},
     "output_type": "execute_result"
    }
   ],
   "source": [
    "a=np.random.randn(100)\n",
    "a"
   ]
  },
  {
   "cell_type": "code",
   "execution_count": 43,
   "id": "31c82bbc-3100-41d7-97ce-e9294f5f5f30",
   "metadata": {},
   "outputs": [
    {
     "name": "stdout",
     "output_type": "stream",
     "text": [
      "[100   2   3]\n",
      "[100   2   3]\n"
     ]
    }
   ],
   "source": [
    "a = np.array([1,2,3])\n",
    "b = a\n",
    "b[0]=100\n",
    "print(a)\n",
    "print(b)"
   ]
  },
  {
   "cell_type": "code",
   "execution_count": 44,
   "id": "4ac2beb5-4d06-4422-a17f-7656b62aec97",
   "metadata": {},
   "outputs": [
    {
     "name": "stdout",
     "output_type": "stream",
     "text": [
      "[ 0  1  2  3  4  5  6  7  8  9 10 11 12 13 14 15 16 17 18 19 20 21 22 23\n",
      " 24]\n",
      "(25,)\n"
     ]
    }
   ],
   "source": [
    "arr = np.arange(25)\n",
    "print(arr)\n",
    "print(arr.shape)"
   ]
  },
  {
   "cell_type": "code",
   "execution_count": 45,
   "id": "1b33c7ce-4d90-42b0-8284-9880e54036df",
   "metadata": {},
   "outputs": [
    {
     "data": {
      "text/plain": [
       "array([[ 0,  1,  2,  3,  4],\n",
       "       [ 5,  6,  7,  8,  9],\n",
       "       [10, 11, 12, 13, 14],\n",
       "       [15, 16, 17, 18, 19],\n",
       "       [20, 21, 22, 23, 24]])"
      ]
     },
     "execution_count": 45,
     "metadata": {},
     "output_type": "execute_result"
    }
   ],
   "source": [
    "a1=arr.reshape(5,5)\n",
    "a1"
   ]
  },
  {
   "cell_type": "code",
   "execution_count": 46,
   "id": "d183fd88-8bcb-4165-a860-033d7427309f",
   "metadata": {},
   "outputs": [
    {
     "name": "stdout",
     "output_type": "stream",
     "text": [
      "[[1 2 3]\n",
      " [4 5 6]]\n",
      "shape of a: (3,)\n"
     ]
    }
   ],
   "source": [
    "a = np.array([[1,2,3],[4,5,6]])\n",
    "print(a)\n",
    "print(\"shape of a: {}\".format(b.shape))"
   ]
  },
  {
   "cell_type": "code",
   "execution_count": 47,
   "id": "4bc44d28-f35f-4ce0-b487-759baed07983",
   "metadata": {},
   "outputs": [
    {
     "name": "stdout",
     "output_type": "stream",
     "text": [
      "[[1 2]\n",
      " [3 4]\n",
      " [5 6]]\n",
      "shape of b:(3, 2)\n"
     ]
    }
   ],
   "source": [
    "b=a.reshape(3,2)\n",
    "print(b)\n",
    "print(\"shape of b:{}\".format(b.shape))"
   ]
  },
  {
   "cell_type": "code",
   "execution_count": 48,
   "id": "e466d96a-2250-4e02-be0d-9edb970d7b37",
   "metadata": {},
   "outputs": [
    {
     "name": "stdout",
     "output_type": "stream",
     "text": [
      "shape:(2, 3)\n",
      "[[1 2 3]\n",
      " [4 5 6]]\n"
     ]
    }
   ],
   "source": [
    "a=np.array([[1,2,3],[4,5,6]])\n",
    "print(\"shape:{}\".format(a.shape))\n",
    "print(a)"
   ]
  },
  {
   "cell_type": "code",
   "execution_count": 49,
   "id": "7b3faca2-948c-420d-884c-722d5ed0fb7e",
   "metadata": {},
   "outputs": [
    {
     "name": "stdout",
     "output_type": "stream",
     "text": [
      "[[1 4]\n",
      " [2 5]\n",
      " [3 6]]\n"
     ]
    }
   ],
   "source": [
    "c=a.T\n",
    "print(c)"
   ]
  },
  {
   "cell_type": "code",
   "execution_count": 50,
   "id": "e06b9193-0257-416a-9e72-daf70fb18d30",
   "metadata": {},
   "outputs": [
    {
     "data": {
      "text/plain": [
       "array([1, 2, 3, 4, 5, 6])"
      ]
     },
     "execution_count": 50,
     "metadata": {},
     "output_type": "execute_result"
    }
   ],
   "source": [
    "a = np.array([[1,2,3],[4,5,6]])\n",
    "a.ravel()"
   ]
  },
  {
   "cell_type": "code",
   "execution_count": 51,
   "id": "a6117726-fbee-4452-bc4c-5c11edd00854",
   "metadata": {},
   "outputs": [
    {
     "data": {
      "text/plain": [
       "array([1, 4, 2, 5, 3, 6])"
      ]
     },
     "execution_count": 51,
     "metadata": {},
     "output_type": "execute_result"
    }
   ],
   "source": [
    "c.ravel()"
   ]
  },
  {
   "cell_type": "code",
   "execution_count": 52,
   "id": "96fff068-1a6e-4e8a-bdd3-9b40081c2f40",
   "metadata": {},
   "outputs": [],
   "source": [
    "a = np.array([[5,4,6],[2,8,7]])\n",
    "b=np.sort(a,axis=1)"
   ]
  },
  {
   "cell_type": "code",
   "execution_count": 53,
   "id": "219a2356-5318-41d3-a087-ac3feed25b98",
   "metadata": {},
   "outputs": [
    {
     "data": {
      "text/plain": [
       "array([[4, 5, 6],\n",
       "       [2, 7, 8]])"
      ]
     },
     "execution_count": 53,
     "metadata": {},
     "output_type": "execute_result"
    }
   ],
   "source": [
    "b"
   ]
  },
  {
   "cell_type": "code",
   "execution_count": 54,
   "id": "81815a84-bc75-4c4b-a6ae-095abe7130f7",
   "metadata": {},
   "outputs": [
    {
     "name": "stdout",
     "output_type": "stream",
     "text": [
      "np array after addition: [4 9 8 2 6 7]\n"
     ]
    }
   ],
   "source": [
    "a= np.array([4,9,8])\n",
    "a= np.append(a,[2,6,7])\n",
    "print('np array after addition:',a)"
   ]
  },
  {
   "cell_type": "code",
   "execution_count": 55,
   "id": "562abbb6-030a-4161-b6c7-21e3038e2292",
   "metadata": {},
   "outputs": [
    {
     "name": "stdout",
     "output_type": "stream",
     "text": [
      "np array after deletion of one element: [4 9 2 6 7]\n"
     ]
    }
   ],
   "source": [
    "a= np.delete(a,2)\n",
    "print('np array after deletion of one element:',a)"
   ]
  },
  {
   "cell_type": "code",
   "execution_count": 57,
   "id": "2ab4be5a-5a19-4c56-8af9-134ab170e96e",
   "metadata": {},
   "outputs": [
    {
     "name": "stdout",
     "output_type": "stream",
     "text": [
      "[3 4 5 6 7 8 9]\n",
      "8\n"
     ]
    }
   ],
   "source": [
    "a= np.arange(3,10)\n",
    "print(a)\n",
    "print(a[5])"
   ]
  },
  {
   "cell_type": "code",
   "execution_count": 63,
   "id": "8611df10-2404-463f-8ea9-15dcbe9f0145",
   "metadata": {},
   "outputs": [
    {
     "name": "stdout",
     "output_type": "stream",
     "text": [
      "[[1 0 0]\n",
      " [0 2 0]\n",
      " [0 0 3]]\n",
      "0\n"
     ]
    }
   ],
   "source": [
    "a= np.diag(([1,2,3]))\n",
    "print(a)\n",
    "print(a[2,1])"
   ]
  },
  {
   "cell_type": "code",
   "execution_count": 65,
   "id": "f2ee7836-e863-4d78-bb86-30a952d8b36b",
   "metadata": {},
   "outputs": [
    {
     "data": {
      "text/plain": [
       "array([[1, 0, 0],\n",
       "       [0, 2, 0],\n",
       "       [0, 5, 3]])"
      ]
     },
     "execution_count": 65,
     "metadata": {},
     "output_type": "execute_result"
    }
   ],
   "source": [
    "a[2,1]=5\n",
    "a"
   ]
  },
  {
   "cell_type": "code",
   "execution_count": 67,
   "id": "02f93d4b-f150-4f49-841a-841ad0319f7c",
   "metadata": {},
   "outputs": [
    {
     "data": {
      "text/plain": [
       "array([ 4,  5,  6,  7,  8,  9, 10, 11, 12, 13, 14, 15, 16, 17])"
      ]
     },
     "execution_count": 67,
     "metadata": {},
     "output_type": "execute_result"
    }
   ],
   "source": [
    "a= np.arange(4,18)\n",
    "a"
   ]
  },
  {
   "cell_type": "code",
   "execution_count": 69,
   "id": "b8e12f9d-437f-4d19-8059-19664c6cd873",
   "metadata": {},
   "outputs": [
    {
     "data": {
      "text/plain": [
       "array([ 5,  7,  9, 11])"
      ]
     },
     "execution_count": 69,
     "metadata": {},
     "output_type": "execute_result"
    }
   ],
   "source": [
    "a[1:8:2]"
   ]
  },
  {
   "cell_type": "code",
   "execution_count": 3,
   "id": "de11eaf5-43f1-4508-814a-1e65f3f92a36",
   "metadata": {},
   "outputs": [
    {
     "data": {
      "text/plain": [
       "array([5, 6, 7, 8, 9])"
      ]
     },
     "execution_count": 3,
     "metadata": {},
     "output_type": "execute_result"
    }
   ],
   "source": [
    "a= np.arange(10)\n",
    "a[5:]"
   ]
  },
  {
   "cell_type": "code",
   "execution_count": 5,
   "id": "147cd34e-b737-4fb6-b272-4913d86f0e61",
   "metadata": {},
   "outputs": [
    {
     "data": {
      "text/plain": [
       "array([ 0,  1,  2,  3,  4, 10, 10, 10, 10, 10])"
      ]
     },
     "execution_count": 5,
     "metadata": {},
     "output_type": "execute_result"
    }
   ],
   "source": [
    "a[5:]=10\n",
    "a"
   ]
  },
  {
   "cell_type": "code",
   "execution_count": 7,
   "id": "d8666869-6394-4963-ab9d-c26b8190fcbf",
   "metadata": {},
   "outputs": [
    {
     "data": {
      "text/plain": [
       "array([0, 1, 2, 3, 4])"
      ]
     },
     "execution_count": 7,
     "metadata": {},
     "output_type": "execute_result"
    }
   ],
   "source": [
    "b = np.arange(5)\n",
    "b"
   ]
  },
  {
   "cell_type": "code",
   "execution_count": 9,
   "id": "fd72c6de-1a8b-45f7-a6a6-42f6f700b4b7",
   "metadata": {},
   "outputs": [
    {
     "data": {
      "text/plain": [
       "array([4, 3, 2, 1, 0])"
      ]
     },
     "execution_count": 9,
     "metadata": {},
     "output_type": "execute_result"
    }
   ],
   "source": [
    "b[::-1]"
   ]
  },
  {
   "cell_type": "code",
   "execution_count": 11,
   "id": "b8a830ea-013f-4f9a-a954-97590b5c84e5",
   "metadata": {},
   "outputs": [],
   "source": [
    "a[5:]=b[::-1]"
   ]
  },
  {
   "cell_type": "code",
   "execution_count": 13,
   "id": "61dccff7-a7ad-42c7-b076-c0b94524a2c8",
   "metadata": {},
   "outputs": [
    {
     "data": {
      "text/plain": [
       "array([0, 1, 2, 3, 4, 4, 3, 2, 1, 0])"
      ]
     },
     "execution_count": 13,
     "metadata": {},
     "output_type": "execute_result"
    }
   ],
   "source": [
    "a"
   ]
  },
  {
   "cell_type": "code",
   "execution_count": 15,
   "id": "ddd27e1f-cf14-4b8c-b661-9b82f5eef098",
   "metadata": {},
   "outputs": [
    {
     "data": {
      "text/plain": [
       "array([16,  3, 18, 13,  7])"
      ]
     },
     "execution_count": 15,
     "metadata": {},
     "output_type": "execute_result"
    }
   ],
   "source": [
    "a = np.random.randint(0,20,5)\n",
    "a"
   ]
  },
  {
   "cell_type": "code",
   "execution_count": 17,
   "id": "eb250af7-a722-4e33-a32e-bc03d8c80a81",
   "metadata": {},
   "outputs": [
    {
     "data": {
      "text/plain": [
       "array([16, 18])"
      ]
     },
     "execution_count": 17,
     "metadata": {},
     "output_type": "execute_result"
    }
   ],
   "source": [
    "a[a % 2 ==0]"
   ]
  },
  {
   "cell_type": "code",
   "execution_count": 19,
   "id": "8b37424b-4dd2-44c3-a454-51f9ef5d8371",
   "metadata": {},
   "outputs": [
    {
     "data": {
      "text/plain": [
       "array([-1,  3, -1, 13,  7])"
      ]
     },
     "execution_count": 19,
     "metadata": {},
     "output_type": "execute_result"
    }
   ],
   "source": [
    "a[a % 2 ==0] = -1\n",
    "a"
   ]
  },
  {
   "cell_type": "code",
   "execution_count": 21,
   "id": "e125096f-b2ef-4fa5-b598-82ee3d904756",
   "metadata": {},
   "outputs": [
    {
     "data": {
      "text/plain": [
       "array([  0,  10,  20,  30,  40,  50,  60,  70,  80,  90, 100])"
      ]
     },
     "execution_count": 21,
     "metadata": {},
     "output_type": "execute_result"
    }
   ],
   "source": [
    "a = np.arange(0,101,10)\n",
    "a"
   ]
  },
  {
   "cell_type": "code",
   "execution_count": 23,
   "id": "4ae445d2-2795-4706-86e1-0b0597a85f79",
   "metadata": {},
   "outputs": [
    {
     "data": {
      "text/plain": [
       "array([20, 30, 20, 40, 20])"
      ]
     },
     "execution_count": 23,
     "metadata": {},
     "output_type": "execute_result"
    }
   ],
   "source": [
    "a[[2,3,2,4,2]]"
   ]
  },
  {
   "cell_type": "code",
   "execution_count": 25,
   "id": "7b27f5df-b561-4bcc-905c-3c65990677b7",
   "metadata": {},
   "outputs": [
    {
     "data": {
      "text/plain": [
       "array([   0,   10,   20,   30,   40,   50,   60, -200,   80, -200,  100])"
      ]
     },
     "execution_count": 25,
     "metadata": {},
     "output_type": "execute_result"
    }
   ],
   "source": [
    "a[[9,7]]= -200\n",
    "a"
   ]
  },
  {
   "cell_type": "code",
   "execution_count": 27,
   "id": "9e727fd8-319e-4b3f-b26f-3676cdbe2a39",
   "metadata": {},
   "outputs": [
    {
     "name": "stdout",
     "output_type": "stream",
     "text": [
      "[1 2 3 4]\n",
      "[2 3 4 5]\n"
     ]
    }
   ],
   "source": [
    "a = np.array([1,2,3,4])\n",
    "print(a)\n",
    "print(a+1)"
   ]
  },
  {
   "cell_type": "code",
   "execution_count": 29,
   "id": "aeec2c7f-3ce3-4aac-83dc-6973db9383f6",
   "metadata": {},
   "outputs": [
    {
     "data": {
      "text/plain": [
       "array([ 1,  4,  9, 16])"
      ]
     },
     "execution_count": 29,
     "metadata": {},
     "output_type": "execute_result"
    }
   ],
   "source": [
    "a ** 2"
   ]
  },
  {
   "cell_type": "code",
   "execution_count": 31,
   "id": "c1658040-9dfd-4b61-aaf8-232b6059c6ec",
   "metadata": {},
   "outputs": [
    {
     "data": {
      "text/plain": [
       "array([2., 2., 2., 2.])"
      ]
     },
     "execution_count": 31,
     "metadata": {},
     "output_type": "execute_result"
    }
   ],
   "source": [
    "b = np.ones(4) + 1\n",
    "b"
   ]
  },
  {
   "cell_type": "code",
   "execution_count": 33,
   "id": "b72e1aad-0d41-48c4-b766-3f961c12f183",
   "metadata": {},
   "outputs": [
    {
     "data": {
      "text/plain": [
       "array([-1.,  0.,  1.,  2.])"
      ]
     },
     "execution_count": 33,
     "metadata": {},
     "output_type": "execute_result"
    }
   ],
   "source": [
    "a - b"
   ]
  },
  {
   "cell_type": "code",
   "execution_count": 35,
   "id": "d18c59a9-3c9c-441c-86d8-a61c53c4cfff",
   "metadata": {},
   "outputs": [
    {
     "data": {
      "text/plain": [
       "array([2., 4., 6., 8.])"
      ]
     },
     "execution_count": 35,
     "metadata": {},
     "output_type": "execute_result"
    }
   ],
   "source": [
    "a*b"
   ]
  },
  {
   "cell_type": "code",
   "execution_count": 37,
   "id": "fa7e7979-39db-4c8b-9fcd-5add11cd313b",
   "metadata": {},
   "outputs": [
    {
     "name": "stdout",
     "output_type": "stream",
     "text": [
      "[[ 4  8]\n",
      " [12 16]\n",
      " [16 24]]\n"
     ]
    }
   ],
   "source": [
    "a=np.array([[1,2],[3,4],[4,6]])\n",
    "b=np.array([[4,4],[4,4],[4,4]])\n",
    "\n",
    "print(a*b)"
   ]
  },
  {
   "cell_type": "code",
   "execution_count": 39,
   "id": "7170f66a-15d2-4bb8-9840-c1db116ffd09",
   "metadata": {},
   "outputs": [
    {
     "name": "stdout",
     "output_type": "stream",
     "text": [
      "[[ 4  8]\n",
      " [12 16]\n",
      " [16 24]]\n"
     ]
    }
   ],
   "source": [
    "print(a*b)"
   ]
  },
  {
   "cell_type": "code",
   "execution_count": 41,
   "id": "137f63d8-d0ca-40b2-9058-c062f777f553",
   "metadata": {},
   "outputs": [
    {
     "name": "stdout",
     "output_type": "stream",
     "text": [
      "[[ 1  0  0  0]\n",
      " [ 0  4  0  0]\n",
      " [ 0  0  9  0]\n",
      " [ 0  0  0 16]]\n"
     ]
    }
   ],
   "source": [
    "c=np.diag([1,2,3,4])\n",
    "print(c*c)"
   ]
  },
  {
   "cell_type": "code",
   "execution_count": 49,
   "id": "0be87bcd-7480-487b-8830-60b079055f49",
   "metadata": {},
   "outputs": [
    {
     "ename": "SyntaxError",
     "evalue": "invalid syntax. Perhaps you forgot a comma? (2038407215.py, line 3)",
     "output_type": "error",
     "traceback": [
      "\u001b[1;36m  Cell \u001b[1;32mIn[49], line 3\u001b[1;36m\u001b[0m\n\u001b[1;33m    print(\"matrix multiplication:\\n\" np.matmul(a,b))\u001b[0m\n\u001b[1;37m          ^\u001b[0m\n\u001b[1;31mSyntaxError\u001b[0m\u001b[1;31m:\u001b[0m invalid syntax. Perhaps you forgot a comma?\n"
     ]
    }
   ],
   "source": [
    "a = np.array([[1,2,1],[3,4,3],[5,6,5]])\n",
    "b = np.array([[1,2,1],[3,4,3],[5,6,5]])\n",
    "print(\"matrix multiplication:\\n\" np.matmul(a,b))"
   ]
  },
  {
   "cell_type": "code",
   "execution_count": 51,
   "id": "4a4f6fc9-657d-48af-adec-f0e2fee2e626",
   "metadata": {},
   "outputs": [
    {
     "data": {
      "text/plain": [
       "array([False,  True, False,  True])"
      ]
     },
     "execution_count": 51,
     "metadata": {},
     "output_type": "execute_result"
    }
   ],
   "source": [
    "a=np.array([1,2,3,4])\n",
    "b=np.array([5,2,2,4])\n",
    "a == b"
   ]
  },
  {
   "cell_type": "code",
   "execution_count": 53,
   "id": "7fef6e7d-9f03-4b42-b4eb-fcad935806dc",
   "metadata": {},
   "outputs": [
    {
     "data": {
      "text/plain": [
       "array([False, False,  True, False])"
      ]
     },
     "execution_count": 53,
     "metadata": {},
     "output_type": "execute_result"
    }
   ],
   "source": [
    "a > b"
   ]
  },
  {
   "cell_type": "code",
   "execution_count": 55,
   "id": "b0a7733c-c32c-4aeb-a8eb-910318083f3c",
   "metadata": {},
   "outputs": [],
   "source": [
    "a = np.array([1,2,3,4])\n",
    "b = np.array([1,2,3,4])\n",
    "c = np.array([1,2,3,4])\n"
   ]
  },
  {
   "cell_type": "code",
   "execution_count": 57,
   "id": "9074079b-351e-494e-b8ca-34058201c683",
   "metadata": {},
   "outputs": [
    {
     "data": {
      "text/plain": [
       "True"
      ]
     },
     "execution_count": 57,
     "metadata": {},
     "output_type": "execute_result"
    }
   ],
   "source": [
    "np.array_equal(a,b)"
   ]
  },
  {
   "cell_type": "code",
   "execution_count": 59,
   "id": "82928cf4-6aef-489f-adb7-23ace5dde973",
   "metadata": {},
   "outputs": [
    {
     "data": {
      "text/plain": [
       "True"
      ]
     },
     "execution_count": 59,
     "metadata": {},
     "output_type": "execute_result"
    }
   ],
   "source": [
    "np.array_equal(a,c)"
   ]
  },
  {
   "cell_type": "code",
   "execution_count": 61,
   "id": "e06d68df-65e1-4d61-ac87-4dd4d904bad7",
   "metadata": {},
   "outputs": [
    {
     "data": {
      "text/plain": [
       "array([ True,  True, False, False])"
      ]
     },
     "execution_count": 61,
     "metadata": {},
     "output_type": "execute_result"
    }
   ],
   "source": [
    "a = np.array([1,1,0,0],dtype = bool)\n",
    "b = np.array([1,1,0,0],dtype = bool)\n",
    "np.logical_or(a,b)"
   ]
  },
  {
   "cell_type": "code",
   "execution_count": 63,
   "id": "8b37fb20-704c-45ce-a497-6d80cede2558",
   "metadata": {},
   "outputs": [
    {
     "data": {
      "text/plain": [
       "array([ True,  True, False, False])"
      ]
     },
     "execution_count": 63,
     "metadata": {},
     "output_type": "execute_result"
    }
   ],
   "source": [
    "np.logical_and(a,b)"
   ]
  },
  {
   "cell_type": "code",
   "execution_count": 65,
   "id": "66599296-ff21-4af2-830b-700a3e9e3ac5",
   "metadata": {},
   "outputs": [
    {
     "data": {
      "text/plain": [
       "array([ 0.        ,  0.84147098,  0.90929743,  0.14112001, -0.7568025 ])"
      ]
     },
     "execution_count": 65,
     "metadata": {},
     "output_type": "execute_result"
    }
   ],
   "source": [
    "a=np.arange(5)\n",
    "np.sin(a)"
   ]
  },
  {
   "cell_type": "code",
   "execution_count": 67,
   "id": "8b052b30-d29c-47a4-a204-3dea38c7539a",
   "metadata": {},
   "outputs": [
    {
     "name": "stderr",
     "output_type": "stream",
     "text": [
      "C:\\Users\\Dell\\AppData\\Local\\Temp\\ipykernel_8900\\176755284.py:1: RuntimeWarning: divide by zero encountered in log\n",
      "  np.log(a)\n"
     ]
    },
    {
     "data": {
      "text/plain": [
       "array([      -inf, 0.        , 0.69314718, 1.09861229, 1.38629436])"
      ]
     },
     "execution_count": 67,
     "metadata": {},
     "output_type": "execute_result"
    }
   ],
   "source": [
    "np.log(a)"
   ]
  },
  {
   "cell_type": "code",
   "execution_count": 69,
   "id": "970f9dea-471f-46c1-93ea-4466334aa441",
   "metadata": {},
   "outputs": [
    {
     "data": {
      "text/plain": [
       "array([ 1.        ,  2.71828183,  7.3890561 , 20.08553692, 54.59815003])"
      ]
     },
     "execution_count": 69,
     "metadata": {},
     "output_type": "execute_result"
    }
   ],
   "source": [
    "np.exp(a)"
   ]
  },
  {
   "cell_type": "code",
   "execution_count": 71,
   "id": "b42bf610-8a8d-4492-9166-dbad163f9b36",
   "metadata": {},
   "outputs": [
    {
     "ename": "ValueError",
     "evalue": "operands could not be broadcast together with shapes (4,) (2,) ",
     "output_type": "error",
     "traceback": [
      "\u001b[1;31m---------------------------------------------------------------------------\u001b[0m",
      "\u001b[1;31mValueError\u001b[0m                                Traceback (most recent call last)",
      "Cell \u001b[1;32mIn[71], line 2\u001b[0m\n\u001b[0;32m      1\u001b[0m a \u001b[38;5;241m=\u001b[39m np\u001b[38;5;241m.\u001b[39marange(\u001b[38;5;241m4\u001b[39m)\n\u001b[1;32m----> 2\u001b[0m a \u001b[38;5;241m+\u001b[39m np\u001b[38;5;241m.\u001b[39marray([\u001b[38;5;241m1\u001b[39m,\u001b[38;5;241m2\u001b[39m])\n",
      "\u001b[1;31mValueError\u001b[0m: operands could not be broadcast together with shapes (4,) (2,) "
     ]
    }
   ],
   "source": [
    "a = np.arange(4)\n",
    "a + np.array([1,2])"
   ]
  },
  {
   "cell_type": "code",
   "execution_count": 73,
   "id": "5fda6df9-5735-48a4-b8af-88c45088380d",
   "metadata": {},
   "outputs": [
    {
     "data": {
      "text/plain": [
       "10"
      ]
     },
     "execution_count": 73,
     "metadata": {},
     "output_type": "execute_result"
    }
   ],
   "source": [
    "x = np.array([1,2,3,4])\n",
    "np.sum(x)"
   ]
  },
  {
   "cell_type": "code",
   "execution_count": 75,
   "id": "81e779e0-dffa-43ad-bb67-8c34c147e038",
   "metadata": {},
   "outputs": [
    {
     "data": {
      "text/plain": [
       "array([[1, 1],\n",
       "       [2, 2]])"
      ]
     },
     "execution_count": 75,
     "metadata": {},
     "output_type": "execute_result"
    }
   ],
   "source": [
    "x= np.array([[1,1],[2,2]])\n",
    "x"
   ]
  },
  {
   "cell_type": "code",
   "execution_count": 77,
   "id": "73846d43-5ddc-4b21-a274-70ae0dbb2193",
   "metadata": {},
   "outputs": [
    {
     "data": {
      "text/plain": [
       "array([3, 3])"
      ]
     },
     "execution_count": 77,
     "metadata": {},
     "output_type": "execute_result"
    }
   ],
   "source": [
    "x.sum(axis=0)"
   ]
  },
  {
   "cell_type": "code",
   "execution_count": 79,
   "id": "ddd95595-0c22-4b97-88b6-abdfde9e18b5",
   "metadata": {},
   "outputs": [
    {
     "data": {
      "text/plain": [
       "array([2, 4])"
      ]
     },
     "execution_count": 79,
     "metadata": {},
     "output_type": "execute_result"
    }
   ],
   "source": [
    "x.sum(axis=1)"
   ]
  },
  {
   "cell_type": "code",
   "execution_count": 81,
   "id": "c617f658-a467-4278-a0cd-eaeb343510e3",
   "metadata": {},
   "outputs": [
    {
     "data": {
      "text/plain": [
       "1"
      ]
     },
     "execution_count": 81,
     "metadata": {},
     "output_type": "execute_result"
    }
   ],
   "source": [
    "x = np.array([1,3,2])\n",
    "x.min()"
   ]
  },
  {
   "cell_type": "code",
   "execution_count": 83,
   "id": "aa872280-ba8d-42dc-8dcf-b732ef72654f",
   "metadata": {},
   "outputs": [
    {
     "data": {
      "text/plain": [
       "3"
      ]
     },
     "execution_count": 83,
     "metadata": {},
     "output_type": "execute_result"
    }
   ],
   "source": [
    "x.max()"
   ]
  },
  {
   "cell_type": "code",
   "execution_count": 85,
   "id": "4407db9b-dc72-49ac-aad0-dced876bc1d3",
   "metadata": {},
   "outputs": [
    {
     "data": {
      "text/plain": [
       "0"
      ]
     },
     "execution_count": 85,
     "metadata": {},
     "output_type": "execute_result"
    }
   ],
   "source": [
    "x.argmin()"
   ]
  },
  {
   "cell_type": "code",
   "execution_count": 87,
   "id": "b8a9eaf7-d846-4999-bb77-276011267ce7",
   "metadata": {},
   "outputs": [
    {
     "data": {
      "text/plain": [
       "1"
      ]
     },
     "execution_count": 87,
     "metadata": {},
     "output_type": "execute_result"
    }
   ],
   "source": [
    "x.argmax()"
   ]
  },
  {
   "cell_type": "code",
   "execution_count": 89,
   "id": "ed70b09e-b0b5-4a6d-a01d-05e3ce372ac4",
   "metadata": {},
   "outputs": [
    {
     "name": "stdout",
     "output_type": "stream",
     "text": [
      "Array is [0 1 2 3 4 5 6 7 8 9]\n",
      "min element is 0\n",
      "max element is 9\n",
      "Sum of elements in array is 45\n",
      "mean of elements in array is 4.5\n",
      "median of elements in array is 4.5\n",
      "standard deviation of elements in array is  2.8722813232690143\n"
     ]
    }
   ],
   "source": [
    "normal_array = np.arange(0,10,1)\n",
    "print('Array is', format(normal_array))\n",
    "\n",
    "\n",
    "print('min element is', np.min(normal_array))\n",
    "\n",
    "\n",
    "\n",
    "print('max element is', np.max(normal_array))\n",
    "\n",
    "\n",
    "\n",
    "print('Sum of elements in array is', np.sum(normal_array))\n",
    "\n",
    "\n",
    "\n",
    "print('mean of elements in array is', np.mean(normal_array))\n",
    "\n",
    "\n",
    "print('median of elements in array is',np.median(normal_array))\n",
    "\n",
    "\n",
    "\n",
    "print('standard deviation of elements in array is ',np.std(normal_array))"
   ]
  },
  {
   "cell_type": "code",
   "execution_count": null,
   "id": "43f66407-398d-4b97-a320-cefcfc0f46b8",
   "metadata": {},
   "outputs": [],
   "source": []
  }
 ],
 "metadata": {
  "kernelspec": {
   "display_name": "Python 3 (ipykernel)",
   "language": "python",
   "name": "python3"
  },
  "language_info": {
   "codemirror_mode": {
    "name": "ipython",
    "version": 3
   },
   "file_extension": ".py",
   "mimetype": "text/x-python",
   "name": "python",
   "nbconvert_exporter": "python",
   "pygments_lexer": "ipython3",
   "version": "3.11.7"
  }
 },
 "nbformat": 4,
 "nbformat_minor": 5
}
