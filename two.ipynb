{
 "cells": [
  {
   "cell_type": "code",
   "execution_count": 1,
   "id": "cff73607-7e2c-4a5b-91b9-720bdb4b3e19",
   "metadata": {},
   "outputs": [
    {
     "name": "stdout",
     "output_type": "stream",
     "text": [
      "1\n"
     ]
    }
   ],
   "source": [
    "print(1)"
   ]
  },
  {
   "cell_type": "raw",
   "id": "841a2c99-479a-4662-8288-83ddebd3c033",
   "metadata": {},
   "source": [
    "print (\"pratik\")"
   ]
  },
  {
   "cell_type": "code",
   "execution_count": 5,
   "id": "ebdde7d5-fb48-4597-b64d-f4c71365b956",
   "metadata": {},
   "outputs": [
    {
     "name": "stdout",
     "output_type": "stream",
     "text": [
      "pratik\n"
     ]
    }
   ],
   "source": [
    "print (\"pratik\")"
   ]
  },
  {
   "cell_type": "code",
   "execution_count": 19,
   "id": "a86432d4-e034-4ec3-a575-92bc8b342bc3",
   "metadata": {},
   "outputs": [
    {
     "name": "stdout",
     "output_type": "stream",
     "text": [
      "yo yo\n"
     ]
    }
   ],
   "source": [
    "print (\"yo yo\")"
   ]
  },
  {
   "cell_type": "code",
   "execution_count": 9,
   "id": "f59ac78d-0a2e-4b17-87ad-60987861258a",
   "metadata": {},
   "outputs": [
    {
     "name": "stdout",
     "output_type": "stream",
     "text": [
      "10\n"
     ]
    }
   ],
   "source": [
    "b=10\n",
    "print(\n",
    "    b)"
   ]
  },
  {
   "cell_type": "code",
   "execution_count": 11,
   "id": "79a5f2d7-8fce-4873-93f5-ccc3e5749dba",
   "metadata": {},
   "outputs": [
    {
     "name": "stdout",
     "output_type": "stream",
     "text": [
      "30\n"
     ]
    }
   ],
   "source": [
    "pratik=30\n",
    "print(pratik\n",
    "     )"
   ]
  },
  {
   "cell_type": "code",
   "execution_count": 13,
   "id": "9a71b9df-cdf2-48ae-8bba-092543a28305",
   "metadata": {},
   "outputs": [
    {
     "name": "stdout",
     "output_type": "stream",
     "text": [
      "pratik\n"
     ]
    }
   ],
   "source": [
    "print(\"pratik\")"
   ]
  },
  {
   "cell_type": "code",
   "execution_count": 50,
   "id": "16f73da5-1bf2-42c1-a360-6d55bf2427a0",
   "metadata": {},
   "outputs": [
    {
     "name": "stdout",
     "output_type": "stream",
     "text": [
      "aryan\n"
     ]
    }
   ],
   "source": [
    "print(\"aryan\")"
   ]
  },
  {
   "cell_type": "code",
   "execution_count": 17,
   "id": "7484b416-3f4a-4867-909d-e52871bd83c6",
   "metadata": {},
   "outputs": [
    {
     "name": "stdout",
     "output_type": "stream",
     "text": [
      "11 12 13 14\n"
     ]
    }
   ],
   "source": [
    "a=11\n",
    "b=12\n",
    "c=13\n",
    "d=14\n",
    "print(a,b,c,d)"
   ]
  },
  {
   "cell_type": "code",
   "execution_count": 21,
   "id": "87ba2bf1-7d39-45be-841c-5a0cc3c90361",
   "metadata": {},
   "outputs": [
    {
     "name": "stdout",
     "output_type": "stream",
     "text": [
      "11\n"
     ]
    },
    {
     "data": {
      "text/plain": [
       "int"
      ]
     },
     "execution_count": 21,
     "metadata": {},
     "output_type": "execute_result"
    }
   ],
   "source": [
    "a=11\n",
    "print(a)\n",
    "type(a)"
   ]
  },
  {
   "cell_type": "code",
   "execution_count": 23,
   "id": "77087dda-8871-4bc5-910e-816a0e8d8974",
   "metadata": {},
   "outputs": [
    {
     "name": "stdout",
     "output_type": "stream",
     "text": [
      "11:12:13:14\n"
     ]
    }
   ],
   "source": [
    "a=11\n",
    "b=12\n",
    "c=13\n",
    "d=14\n",
    "print(a,b,c,d,sep=\":\")"
   ]
  },
  {
   "cell_type": "code",
   "execution_count": 25,
   "id": "912531a0-8fb8-4e75-8f4d-d7d92f8072c3",
   "metadata": {},
   "outputs": [
    {
     "name": "stdout",
     "output_type": "stream",
     "text": [
      "11 12 13 14\n"
     ]
    }
   ],
   "source": [
    "a=11\n",
    "c=13\n",
    "d=14\n",
    "print(a,b,c,d)"
   ]
  },
  {
   "cell_type": "code",
   "execution_count": 27,
   "id": "e1a0713b-95f9-4b12-a25e-9b3b235cdc76",
   "metadata": {},
   "outputs": [
    {
     "name": "stdout",
     "output_type": "stream",
     "text": [
      "23\n"
     ]
    }
   ],
   "source": [
    "a=11\n",
    "a=11\n",
    "b=12\n",
    "print(a+b)"
   ]
  },
  {
   "cell_type": "code",
   "execution_count": 33,
   "id": "1a55a441-2c0b-4352-8094-8954fcd27b9e",
   "metadata": {},
   "outputs": [
    {
     "name": "stdout",
     "output_type": "stream",
     "text": [
      "23\n",
      "23\n"
     ]
    }
   ],
   "source": [
    "print(11\n",
    "    +12)\n",
    "c=a+b\n",
    "print(c)"
   ]
  },
  {
   "cell_type": "code",
   "execution_count": 35,
   "id": "c88a9cf7-770b-448e-8aa0-fcdfd423224b",
   "metadata": {},
   "outputs": [
    {
     "name": "stdout",
     "output_type": "stream",
     "text": [
      "11\n"
     ]
    },
    {
     "data": {
      "text/plain": [
       "str"
      ]
     },
     "execution_count": 35,
     "metadata": {},
     "output_type": "execute_result"
    }
   ],
   "source": [
    "a='11'\n",
    "print(a)\n",
    "type(a)"
   ]
  },
  {
   "cell_type": "markdown",
   "id": "13c021c1-cc93-4d8a-bbbf-48583ed13bb7",
   "metadata": {},
   "source": [
    "# print function in python0\n",
    "a=11\n",
    "b=12\n"
   ]
  },
  {
   "cell_type": "code",
   "execution_count": 41,
   "id": "f0a92f7c-c029-4fa6-b397-0ae50a56eb4f",
   "metadata": {},
   "outputs": [
    {
     "name": "stdout",
     "output_type": "stream",
     "text": [
      "the value of a: 11\n"
     ]
    }
   ],
   "source": [
    "a=11\n",
    "print(\"the value of a:\",a)"
   ]
  },
  {
   "cell_type": "code",
   "execution_count": 61,
   "id": "43ea9240-ac7b-4236-8e1d-4ac6b6020ddf",
   "metadata": {},
   "outputs": [
    {
     "name": "stdout",
     "output_type": "stream",
     "text": [
      "aryrn\n"
     ]
    }
   ],
   "source": [
    "print(\"aryrn\")"
   ]
  },
  {
   "cell_type": "code",
   "execution_count": 71,
   "id": "cfa8ee7f-72d5-4ae2-ae81-b7c5c9a3b4a4",
   "metadata": {},
   "outputs": [
    {
     "name": "stdout",
     "output_type": "stream",
     "text": [
      "aryan\n"
     ]
    }
   ],
   "source": [
    "last_name=\"aryan\"\n",
    "print(last_name)"
   ]
  },
  {
   "cell_type": "raw",
   "id": "0d67572f-acd5-4155-a40c-4ce0d2f0bede",
   "metadata": {},
   "source": []
  },
  {
   "cell_type": "code",
   "execution_count": 77,
   "id": "069b94e3-b3bf-487c-ad51-f53bb953278c",
   "metadata": {},
   "outputs": [],
   "source": [
    "first_name= 'pratik'\n",
    "last_name= 'aryan'"
   ]
  },
  {
   "cell_type": "code",
   "execution_count": null,
   "id": "05215d0b-ef4b-4570-bda9-369c2af5459e",
   "metadata": {},
   "outputs": [],
   "source": [
    "first_name = 'Siva' \n",
    "last_name = 'ram' \n"
   ]
  },
  {
   "cell_type": "code",
   "execution_count": 81,
   "id": "7e72787a-c598-4363-828f-ca069335eab5",
   "metadata": {},
   "outputs": [
    {
     "name": "stdout",
     "output_type": "stream",
     "text": [
      "Name aryan pratik\n"
     ]
    }
   ],
   "source": [
    " print(\"Name\", last_name, first_name)\n"
   ]
  },
  {
   "cell_type": "code",
   "execution_count": 83,
   "id": "6e1c5ec0-34f2-48be-ba7b-5e944fbab7cb",
   "metadata": {},
   "outputs": [
    {
     "name": "stdout",
     "output_type": "stream",
     "text": [
      "My first name is: pratik and last name is:  aryan\n"
     ]
    }
   ],
   "source": [
    " print(\"My first name is:\", first_name, \"and last name is: \", last_name) \n"
   ]
  },
  {
   "cell_type": "code",
   "execution_count": 89,
   "id": "c94c388b-19ea-40aa-9328-f3c130bb9a47",
   "metadata": {},
   "outputs": [
    {
     "ename": "SyntaxError",
     "evalue": "'(' was never closed (3224135726.py, line 1)",
     "output_type": "error",
     "traceback": [
      "\u001b[1;36m  Cell \u001b[1;32mIn[89], line 1\u001b[1;36m\u001b[0m\n\u001b[1;33m    print(\"My first name is: {} and last name is: {}\".format(first_name, last_name\u001b[0m\n\u001b[1;37m                                                            ^\u001b[0m\n\u001b[1;31mSyntaxError\u001b[0m\u001b[1;31m:\u001b[0m '(' was never closed\n"
     ]
    }
   ],
   "source": [
    " print(\"My first name is: {} and last name is: {}\".format(first_name, last_name \n",
    ">\n",
    "> \n"
   ]
  },
  {
   "cell_type": "code",
   "execution_count": 93,
   "id": "e9399bf5-7f15-457f-b812-f63174a2e427",
   "metadata": {},
   "outputs": [
    {
     "ename": "SyntaxError",
     "evalue": "invalid syntax. Perhaps you forgot a comma? (1678419835.py, line 2)",
     "output_type": "error",
     "traceback": [
      "\u001b[1;36m  Cell \u001b[1;32mIn[93], line 2\u001b[1;36m\u001b[0m\n\u001b[1;33m    print(\"my first name is {first}and last name is :{first}\"format (last=last_n\u001b[0m\n\u001b[1;37m          ^\u001b[0m\n\u001b[1;31mSyntaxError\u001b[0m\u001b[1;31m:\u001b[0m invalid syntax. Perhaps you forgot a comma?\n"
     ]
    }
   ],
   "source": [
    "#we can use keyword arguments to format the string \n",
    "print(\"my first name is {first}and last name is :{first}\"format (last=last_n\n",
    "                                                                 ame,first-last_name))"
   ]
  },
  {
   "cell_type": "code",
   "execution_count": 103,
   "id": "959d17cd-d64c-4346-b553-ebfa56cafcaa",
   "metadata": {},
   "outputs": [
    {
     "ename": "SyntaxError",
     "evalue": "invalid syntax. Perhaps you forgot a comma? (3272121375.py, line 1)",
     "output_type": "error",
     "traceback": [
      "\u001b[1;36m  Cell \u001b[1;32mIn[103], line 1\u001b[1;36m\u001b[0m\n\u001b[1;33m    print(\"yoo{name} {greeting} {name}\"format(name=\"prasanta\", geeting+\"good night\"))\u001b[0m\n\u001b[1;37m          ^\u001b[0m\n\u001b[1;31mSyntaxError\u001b[0m\u001b[1;31m:\u001b[0m invalid syntax. Perhaps you forgot a comma?\n"
     ]
    }
   ],
   "source": [
    "print(\"yoo {name} {greeting} {name}\"format(name=\"prasanta\", geeting+\"good night\"))\n",
    "                                        "
   ]
  },
  {
   "cell_type": "code",
   "execution_count": 109,
   "id": "354a0e45-6553-4b37-b469-44b1b4621c68",
   "metadata": {},
   "outputs": [
    {
     "name": "stdout",
     "output_type": "stream",
     "text": [
      "The story of Bill, Manfred, and Georg\n"
     ]
    }
   ],
   "source": [
    " #we can combine positional arguments with keyword arguments\n",
    "print('The story of {}, {}, and {other}'.format('Bill', 'Manfred', other= 'Georg')) \n"
   ]
  },
  {
   "cell_type": "code",
   "execution_count": 107,
   "id": "d74be615-d99f-4cff-b241-48835263e00e",
   "metadata": {},
   "outputs": [
    {
     "ename": "SyntaxError",
     "evalue": "unterminated string literal (detected at line 1) (933836079.py, line 1)",
     "output_type": "error",
     "traceback": [
      "\u001b[1;36m  Cell \u001b[1;32mIn[107], line 1\u001b[1;36m\u001b[0m\n\u001b[1;33m    print(\"Hello {name} {greeting} {name}\".format(name=\"satish\", greeting=\"Good Mo\u001b[0m\n\u001b[1;37m                                                                          ^\u001b[0m\n\u001b[1;31mSyntaxError\u001b[0m\u001b[1;31m:\u001b[0m unterminated string literal (detected at line 1)\n"
     ]
    }
   ],
   "source": [
    " print(\"Hello {name} {greeting} {name}\".format(name=\"satish\", greeting=\"Good Mo \n",
    "rning\")) \n"
   ]
  },
  {
   "cell_type": "code",
   "execution_count": 119,
   "id": "209279fc-872a-4bf5-bafc-dc2446e3828f",
   "metadata": {},
   "outputs": [
    {
     "ename": "SyntaxError",
     "evalue": "invalid syntax. Perhaps you forgot a comma? (141673584.py, line 3)",
     "output_type": "error",
     "traceback": [
      "\u001b[1;36m  Cell \u001b[1;32mIn[119], line 3\u001b[1;36m\u001b[0m\n\u001b[1;33m    print(\"my number is :{one} and my name is :{two}\"format(one-num, two-name))\u001b[0m\n\u001b[1;37m          ^\u001b[0m\n\u001b[1;31mSyntaxError\u001b[0m\u001b[1;31m:\u001b[0m invalid syntax. Perhaps you forgot a comma?\n"
     ]
    }
   ],
   "source": [
    "num=11\n",
    "name='hanuman'\n",
    "print(\"my number is :{one} and my name is :{two}\"format(one-num, two-name))\n",
    "print('my number is :{} and my name is :{}'format(num,name))\n",
    "print(\"my number is \":, num,\"and my name is :\",name)"
   ]
  },
  {
   "cell_type": "code",
   "execution_count": 127,
   "id": "0af9412c-af48-4d18-a5db-359ea2390443",
   "metadata": {},
   "outputs": [
    {
     "name": "stdout",
     "output_type": "stream",
     "text": [
      "My number is: 12 and my name is: hanuman\n",
      "My number is: 12 and my name is: hanuman\n",
      "My number is:  12 and my name is:  hanuman\n"
     ]
    }
   ],
   "source": [
    "num = 12 \n",
    "name = 'hanuman' \n",
    "print('My number is: {one} and my name is: {two}'.format(one=num, two=name))\n",
    "print('My number is: {} and my name is: {}'.format(num, name)) \n",
    "print(\"My number is: \", num, \"and my name is: \", name)"
   ]
  },
  {
   "cell_type": "code",
   "execution_count": null,
   "id": "cd13a3cc-c854-4458-a23d-813ea3ed2e2d",
   "metadata": {},
   "outputs": [],
   "source": []
  }
 ],
 "metadata": {
  "kernelspec": {
   "display_name": "Python 3 (ipykernel)",
   "language": "python",
   "name": "python3"
  },
  "language_info": {
   "codemirror_mode": {
    "name": "ipython",
    "version": 3
   },
   "file_extension": ".py",
   "mimetype": "text/x-python",
   "name": "python",
   "nbconvert_exporter": "python",
   "pygments_lexer": "ipython3",
   "version": "3.11.7"
  }
 },
 "nbformat": 4,
 "nbformat_minor": 5
}
