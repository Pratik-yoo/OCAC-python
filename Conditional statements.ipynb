{
 "cells": [
  {
   "cell_type": "code",
   "execution_count": 1,
   "id": "659a2766-0c67-405b-b1a8-bd2d5bcbd5b8",
   "metadata": {},
   "outputs": [
    {
     "name": "stdout",
     "output_type": "stream",
     "text": [
      "Hello\n",
      "pratik\n"
     ]
    }
   ],
   "source": [
    "if 1<2:\n",
    "    print('Hello')\n",
    "    print('pratik')\n",
    "    "
   ]
  },
  {
   "cell_type": "code",
   "execution_count": 2,
   "id": "8da74178-f7c0-4e7a-96a0-e4743b248e12",
   "metadata": {},
   "outputs": [
    {
     "name": "stdout",
     "output_type": "stream",
     "text": [
      "hello!\n"
     ]
    }
   ],
   "source": [
    "if 10<20:\n",
    "    print('hello!')"
   ]
  },
  {
   "cell_type": "code",
   "execution_count": 6,
   "id": "e6cd2131-10f0-4fc1-b08f-54004f22a315",
   "metadata": {},
   "outputs": [
    {
     "name": "stdout",
     "output_type": "stream",
     "text": [
      "hello!\n",
      "Pratik\n"
     ]
    }
   ],
   "source": [
    "if 10<20:\n",
    "    print('hello!')\n",
    "    \n",
    "print(\"Pratik\")"
   ]
  },
  {
   "cell_type": "code",
   "execution_count": 9,
   "id": "5672823f-466d-4eb2-907d-c296cc9f4f0f",
   "metadata": {},
   "outputs": [
    {
     "name": "stdin",
     "output_type": "stream",
     "text": [
      "enter name: pratik\n"
     ]
    },
    {
     "name": "stdout",
     "output_type": "stream",
     "text": [
      "Hello pratik good morning\n"
     ]
    }
   ],
   "source": [
    "name=input(\"enter name:\")\n",
    "if name==\"pratik\":\n",
    "    print(\"Hello pratik good morning\")"
   ]
  },
  {
   "cell_type": "code",
   "execution_count": 10,
   "id": "7defd481-8a40-46ad-8c2f-5e77ad3f7818",
   "metadata": {},
   "outputs": [
    {
     "name": "stdout",
     "output_type": "stream",
     "text": [
      "first\n"
     ]
    }
   ],
   "source": [
    "if 10<20:\n",
    "    print('first')\n",
    "else:\n",
    "    print('last')"
   ]
  },
  {
   "cell_type": "code",
   "execution_count": 11,
   "id": "74672c64-241e-4b80-94a8-6942b92bdab9",
   "metadata": {},
   "outputs": [
    {
     "name": "stdout",
     "output_type": "stream",
     "text": [
      "last\n"
     ]
    }
   ],
   "source": [
    "if 10>20:\n",
    "    print('first')\n",
    "else:\n",
    "    print('last')"
   ]
  },
  {
   "cell_type": "code",
   "execution_count": 12,
   "id": "e00e9c1e-c34b-455b-8dfb-b616ce3cc8cd",
   "metadata": {},
   "outputs": [
    {
     "name": "stdin",
     "output_type": "stream",
     "text": [
      "enter a number 6278975\n"
     ]
    },
    {
     "name": "stdout",
     "output_type": "stream",
     "text": [
      "6278975 is odd number\n"
     ]
    }
   ],
   "source": [
    "x=int(input('enter a number'))\n",
    "if(x%2==0):\n",
    "    print(x,'is even number')\n",
    "else:\n",
    "    print(x,'is odd number')\n"
   ]
  },
  {
   "cell_type": "code",
   "execution_count": 13,
   "id": "46742265-ac36-49ae-b21d-2b58a4cb3fdc",
   "metadata": {},
   "outputs": [
    {
     "name": "stdin",
     "output_type": "stream",
     "text": [
      "Enter Name: pratik\n"
     ]
    },
    {
     "name": "stdout",
     "output_type": "stream",
     "text": [
      "Hello Pratik Good Morning\n"
     ]
    }
   ],
   "source": [
    "name=input(\"Enter Name:\") \n",
    "if name==\"Pratik\" : \n",
    "    print(\"hello Pratik good morning\")\n",
    "else: \n",
    "    print(\"Hello Pratik Good Morning\")"
   ]
  },
  {
   "cell_type": "code",
   "execution_count": 16,
   "id": "f324193a-3a94-410d-b15e-21eda0a62926",
   "metadata": {},
   "outputs": [
    {
     "name": "stdout",
     "output_type": "stream",
     "text": [
      "AI\n",
      "ML\n"
     ]
    }
   ],
   "source": [
    "lst = ['one', 'two', 'three', 'four'] \n",
    "if 'two' in lst:\n",
    "    print('AI') \n",
    "if 'six' not in lst:\n",
    "    print('ML') \n"
   ]
  },
  {
   "cell_type": "code",
   "execution_count": 17,
   "id": "d21ce5f3-7521-47fc-aa91-31e9d60e48ea",
   "metadata": {},
   "outputs": [
    {
     "data": {
      "text/plain": [
       "['one', 'two', 'three', 'four']"
      ]
     },
     "execution_count": 17,
     "metadata": {},
     "output_type": "execute_result"
    }
   ],
   "source": [
    "lst"
   ]
  },
  {
   "cell_type": "code",
   "execution_count": 18,
   "id": "322b2769-16a8-420d-98cb-dbe35d8d478f",
   "metadata": {},
   "outputs": [
    {
     "name": "stdin",
     "output_type": "stream",
     "text": [
      " 2\n"
     ]
    },
    {
     "name": "stdout",
     "output_type": "stream",
     "text": [
      "2 is positive num\n"
     ]
    }
   ],
   "source": [
    "a=int(input())\n",
    "if (a>=0):\n",
    "    print(a,'is positive num')\n",
    "else:\n",
    "    print(a,'is nagitive num')"
   ]
  },
  {
   "cell_type": "code",
   "execution_count": 20,
   "id": "764b8c6a-f022-4d05-82b9-fec75ab3d4e4",
   "metadata": {},
   "outputs": [
    {
     "name": "stdout",
     "output_type": "stream",
     "text": [
      "8 is even number\n",
      "this is out of if else block\n"
     ]
    }
   ],
   "source": [
    "h=8\n",
    "if h%2==0:\n",
    "    print(h,\"is even number\")\n",
    "else: \n",
    "    print(h,\" ic odd number\")\n",
    "print(\"this is out of if else block\")"
   ]
  },
  {
   "cell_type": "code",
   "execution_count": 21,
   "id": "4678c52a-4cfe-4572-8289-73c6f856331d",
   "metadata": {},
   "outputs": [
    {
     "name": "stdout",
     "output_type": "stream",
     "text": [
      "first\n"
     ]
    }
   ],
   "source": [
    "if 2==2:\n",
    "    print('first')\n",
    "elif 3==3:\n",
    "    print('middle')"
   ]
  },
  {
   "cell_type": "code",
   "execution_count": 23,
   "id": "a3dce8a2-5c87-4dbe-9ff2-57c110485538",
   "metadata": {},
   "outputs": [
    {
     "name": "stdout",
     "output_type": "stream",
     "text": [
      "drade B\n"
     ]
    }
   ],
   "source": [
    "y = 82\n",
    "if y>90:\n",
    "    print(\"grade A\")\n",
    "elif(y>60):\n",
    "    print(\"drade B\")\n",
    "elif y>40:\n",
    "    print(\"grade C\")\n",
    "else:\n",
    "    print(\"grade F\")\n",
    "    "
   ]
  },
  {
   "cell_type": "code",
   "execution_count": 25,
   "id": "be0503d1-a04c-4f9f-8ca1-adfe4bf743ba",
   "metadata": {},
   "outputs": [
    {
     "name": "stdout",
     "output_type": "stream",
     "text": [
      "i am in elif block\n",
      "x is nagative\n"
     ]
    }
   ],
   "source": [
    "x=-70.99\n",
    "if ((x>0) or (x==-100)):\n",
    "    print(\"x is Positive value or -100\")\n",
    "    print(\"I am if loop\")\n",
    "elif (x<0):\n",
    "    print(\"i am in elif block\")\n",
    "    print(\"x is nagative\")\n",
    "else:\n",
    "    print(\"x is zero\")"
   ]
  },
  {
   "cell_type": "code",
   "execution_count": 26,
   "id": "c66c51a7-fff2-4c54-b52f-12bfe163d507",
   "metadata": {},
   "outputs": [
    {
     "name": "stdout",
     "output_type": "stream",
     "text": [
      "nagative\n",
      "i am out of if block\n"
     ]
    }
   ],
   "source": [
    "x=-80\n",
    "if x>0:\n",
    "    print(\"positive\")\n",
    "    print(\" hello\")\n",
    "elif x==0:\n",
    "    print('zero')\n",
    "else:\n",
    "    print('nagative')\n",
    "print(\"i am out of if block\")"
   ]
  },
  {
   "cell_type": "code",
   "execution_count": 27,
   "id": "9791be4b-2136-4dd8-8bfb-cc99bf316063",
   "metadata": {},
   "outputs": [
    {
     "name": "stdin",
     "output_type": "stream",
     "text": [
      "Enter Your Favourite Brand: RC\n"
     ]
    },
    {
     "name": "stdout",
     "output_type": "stream",
     "text": [
      "It is childrens brand\n"
     ]
    }
   ],
   "source": [
    "brand=input(\"Enter Your Favourite Brand:\") \n",
    "if brand==\"RC\":\n",
    "    print(\"It is childrens brand\") \n",
    "elif brand==\"KF\":\n",
    "    print(\"It is not that much kick\") \n",
    "elif brand==\"FO\":\n",
    "    print(\"Buy one get Free One\") \n",
    "elif brand==\"RC\" :\n",
    "    print(\"It is brand\") \n",
    "else : \n",
    "    print(\"Other Brands are not recommended\") \n"
   ]
  },
  {
   "cell_type": "code",
   "execution_count": 28,
   "id": "2ee3abdc-2f18-4f1a-b050-626ddad5c51e",
   "metadata": {},
   "outputs": [
    {
     "name": "stdout",
     "output_type": "stream",
     "text": [
      "All is well with the world\n"
     ]
    },
    {
     "name": "stderr",
     "output_type": "stream",
     "text": [
      "<>:1: SyntaxWarning: \"is\" with a literal. Did you mean \"==\"?\n",
      "<>:1: SyntaxWarning: \"is\" with a literal. Did you mean \"==\"?\n",
      "C:\\Users\\Dell\\AppData\\Local\\Temp\\ipykernel_1816\\167643619.py:1: SyntaxWarning: \"is\" with a literal. Did you mean \"==\"?\n",
      "  if 1 is 3:\n"
     ]
    }
   ],
   "source": [
    "if 1 is 3: \n",
    "    print(\"How did that happen?\") \n",
    "elif 1 > 3: \n",
    "    print(\"Yikes\") \n",
    "else: \n",
    "    print(\"All is well with the world\")\n"
   ]
  },
  {
   "cell_type": "code",
   "execution_count": 30,
   "id": "d9892121-471c-4d45-a8e1-a1042019032b",
   "metadata": {},
   "outputs": [
    {
     "name": "stdin",
     "output_type": "stream",
     "text": [
      "enter marks: 80\n"
     ]
    },
    {
     "name": "stdout",
     "output_type": "stream",
     "text": [
      "80 B grade\n"
     ]
    }
   ],
   "source": [
    "a=int(float(input('enter marks:'))) \n",
    "if (a>85 and a<=100):\n",
    "    print(a,' A grade') \n",
    "elif (a<=85 and a>75): \n",
    "    print(a, 'B grade') \n",
    "elif (a<=75 and a>65): \n",
    "    print(a, 'C grade') \n",
    "elif (a<=65 and a>55): \n",
    "    print(a, 'D grade')\n",
    "elif (a<=55 and a>45): \n",
    "    print(a, 'E grade') \n",
    "else: \n",
    "    print(a, 'Fail') "
   ]
  },
  {
   "cell_type": "code",
   "execution_count": 32,
   "id": "e5c66eae-fb1e-4442-a500-61c304fdbcba",
   "metadata": {},
   "outputs": [
    {
     "name": "stdin",
     "output_type": "stream",
     "text": [
      "Enter First Number: 10\n",
      "Enter Second Number: 50\n",
      "Enter Third Number: 90\n"
     ]
    },
    {
     "name": "stdout",
     "output_type": "stream",
     "text": [
      "90 is the Largest\n"
     ]
    }
   ],
   "source": [
    "n1=int(input(\"Enter First Number:\"))\n",
    "\n",
    "n2=int(input(\"Enter Second Number:\"))\n",
    "\n",
    "n3=int(input(\"Enter Third Number:\"))\n",
    "\n",
    "if n1>n2 and n1>n3:\n",
    "\n",
    "    print(n1,\"is the Largest\")\n",
    "\n",
    "elif n2>n3:\n",
    "\n",
    "    print(n2, \"is the Largest\")\n",
    "\n",
    "else:\n",
    "\n",
    "    print(n3, \"is the Largest\")"
   ]
  },
  {
   "cell_type": "code",
   "execution_count": 31,
   "id": "c4c671cd-f92a-4e27-9496-5f301b87d6f7",
   "metadata": {},
   "outputs": [
    {
     "name": "stdin",
     "output_type": "stream",
     "text": [
      "Enter First Number: 1\n",
      "Enter Second Number: 5\n"
     ]
    },
    {
     "name": "stdout",
     "output_type": "stream",
     "text": [
      "Biggest Number is: 5\n"
     ]
    }
   ],
   "source": [
    "n1=int(input(\"Enter First Number:\"))\n",
    "\n",
    "n2=int(input(\"Enter Second Number:\"))\n",
    "\n",
    "if n1>n2:\n",
    "\n",
    "    print(\"Biggest Number is:\", n1)\n",
    "\n",
    "else:\n",
    "\n",
    "    print(\"Biggest Number is:\",n2)"
   ]
  },
  {
   "cell_type": "code",
   "execution_count": 34,
   "id": "a900ba83-b12b-452c-a15f-69c1d80462d8",
   "metadata": {},
   "outputs": [
    {
     "name": "stdin",
     "output_type": "stream",
     "text": [
      "Enter first string: pratik\n",
      "Enter Second string: ritik\n"
     ]
    },
    {
     "name": "stdout",
     "output_type": "stream",
     "text": [
      "First String is less than Second String\n"
     ]
    }
   ],
   "source": [
    "s1=input(\"Enter first string:\")\n",
    "\n",
    "s2=input(\"Enter Second string:\")\n",
    "if s1==s2: \n",
    "    print(\"Both strings are equal\")\n",
    "elif s1<s2:\n",
    "    print(\"First String is less than Second String\")\n",
    "else:\n",
    "    print(\"First String isgreater than Second String\")"
   ]
  },
  {
   "cell_type": "code",
   "execution_count": 40,
   "id": "b8abe21b-c98c-4845-94f3-c99d438057d9",
   "metadata": {},
   "outputs": [
    {
     "name": "stdout",
     "output_type": "stream",
     "text": [
      "Negative number\n"
     ]
    }
   ],
   "source": [
    "num =18\n",
    "if num >=0:\n",
    "    if num == 0:\n",
    "        print(\"not\")\n",
    "    else:\n",
    "        print(\"Negative number\")\n",
    "else:\n",
    "    print(\"Positive Number\")"
   ]
  },
  {
   "cell_type": "code",
   "execution_count": 42,
   "id": "7c55224f-37b2-433e-bc2a-b825ea780f7d",
   "metadata": {},
   "outputs": [
    {
     "name": "stdin",
     "output_type": "stream",
     "text": [
      "enter your pin 754112\n"
     ]
    },
    {
     "name": "stdout",
     "output_type": "stream",
     "text": [
      "invalid pin number\n"
     ]
    }
   ],
   "source": [
    "if (int(input('enter your pin'))==1234): \n",
    "    with_draw=int(input('with draw amount:')) \n",
    "    if (with_draw<=amount): \n",
    "          print(with_draw,' successfully tranasaction complted')\n",
    "    else:\n",
    "        print (with_draw,' not sufficiant funds in your account')\n",
    "else:\n",
    "    print('invalid pin number')"
   ]
  },
  {
   "cell_type": "code",
   "execution_count": 46,
   "id": "703455c9-6b4d-45be-bb5e-88121ee63c0c",
   "metadata": {},
   "outputs": [
    {
     "name": "stdin",
     "output_type": "stream",
     "text": [
      "enter your pin 1234\n",
      "with draw amount: 500\n"
     ]
    },
    {
     "name": "stdout",
     "output_type": "stream",
     "text": [
      "500  successfully tranasaction complted\n"
     ]
    }
   ],
   "source": [
    "amount=4000000\n",
    "pin=1234\n",
    "if (int(input('enter your pin'))==1234): \n",
    "    with_draw=int(input('with draw amount:')) \n",
    "    if (with_draw<=amount): \n",
    "          print(with_draw,' successfully tranasaction complted')\n",
    "    else:\n",
    "        print (with_draw,' not sufficiant funds in your account')\n",
    "else:\n",
    "    print('invalid pin number')"
   ]
  },
  {
   "cell_type": "code",
   "execution_count": null,
   "id": "df8175a4-c03c-48b7-9537-623839879b8c",
   "metadata": {},
   "outputs": [],
   "source": []
  }
 ],
 "metadata": {
  "kernelspec": {
   "display_name": "Python 3 (ipykernel)",
   "language": "python",
   "name": "python3"
  },
  "language_info": {
   "codemirror_mode": {
    "name": "ipython",
    "version": 3
   },
   "file_extension": ".py",
   "mimetype": "text/x-python",
   "name": "python",
   "nbconvert_exporter": "python",
   "pygments_lexer": "ipython3",
   "version": "3.11.7"
  }
 },
 "nbformat": 4,
 "nbformat_minor": 5
}
