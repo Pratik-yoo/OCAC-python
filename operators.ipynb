{
 "cells": [
  {
   "cell_type": "code",
   "execution_count": 1,
   "id": "f777e3c4-25bc-4925-8fba-5ed27a51549b",
   "metadata": {},
   "outputs": [
    {
     "data": {
      "text/plain": [
       "6"
      ]
     },
     "execution_count": 1,
     "metadata": {},
     "output_type": "execute_result"
    }
   ],
   "source": [
    "4+2"
   ]
  },
  {
   "cell_type": "code",
   "execution_count": null,
   "id": "7d95155e-66e5-4cd5-ab61-c96798643ff9",
   "metadata": {},
   "outputs": [],
   "source": []
  },
  {
   "cell_type": "code",
   "execution_count": 3,
   "id": "208799f7-9282-4924-af0c-624244a952f9",
   "metadata": {},
   "outputs": [
    {
     "data": {
      "text/plain": [
       "7"
      ]
     },
     "execution_count": 3,
     "metadata": {},
     "output_type": "execute_result"
    }
   ],
   "source": [
    "9-2"
   ]
  },
  {
   "cell_type": "code",
   "execution_count": 5,
   "id": "3f0fdff8-bb45-48b2-9e1a-10851ed1584f",
   "metadata": {},
   "outputs": [
    {
     "data": {
      "text/plain": [
       "200"
      ]
     },
     "execution_count": 5,
     "metadata": {},
     "output_type": "execute_result"
    }
   ],
   "source": [
    "40*5"
   ]
  },
  {
   "cell_type": "code",
   "execution_count": 7,
   "id": "5de9e4b8-2320-4be8-9b30-bbafd2e35745",
   "metadata": {},
   "outputs": [
    {
     "data": {
      "text/plain": [
       "8.0"
      ]
     },
     "execution_count": 7,
     "metadata": {},
     "output_type": "execute_result"
    }
   ],
   "source": [
    "80/10"
   ]
  },
  {
   "cell_type": "code",
   "execution_count": 19,
   "id": "e1032918-18f5-4e4f-a33d-4886a7d6ee9f",
   "metadata": {},
   "outputs": [
    {
     "data": {
      "text/plain": [
       "7"
      ]
     },
     "execution_count": 19,
     "metadata": {},
     "output_type": "execute_result"
    }
   ],
   "source": [
    "80//11"
   ]
  },
  {
   "cell_type": "code",
   "execution_count": 2,
   "id": "bd854290-ee90-4a71-9de4-0f848da0003a",
   "metadata": {},
   "outputs": [
    {
     "name": "stdout",
     "output_type": "stream",
     "text": [
      "800\n",
      "0.5\n",
      "20\n"
     ]
    }
   ],
   "source": [
    "a=20\n",
    "b=40\n",
    "print(a*b)\n",
    "print(a/b)\n",
    "print(a%b)"
   ]
  },
  {
   "cell_type": "code",
   "execution_count": 4,
   "id": "26ebb31c-5c13-4999-b8d1-7324b3114cd4",
   "metadata": {},
   "outputs": [
    {
     "data": {
      "text/plain": [
       "20.0"
      ]
     },
     "execution_count": 4,
     "metadata": {},
     "output_type": "execute_result"
    }
   ],
   "source": [
    "a-b*a/b+a"
   ]
  },
  {
   "cell_type": "code",
   "execution_count": 21,
   "id": "e1432c53-ba6a-46af-bd91-59092fd80c9c",
   "metadata": {},
   "outputs": [
    {
     "data": {
      "text/plain": [
       "179846504264741214662028034056964934925124900000000000000000000000000000000000000000000000000"
      ]
     },
     "execution_count": 21,
     "metadata": {},
     "output_type": "execute_result"
    }
   ],
   "source": [
    "70**50"
   ]
  },
  {
   "cell_type": "code",
   "execution_count": 27,
   "id": "eac40d1d-2b3c-40e7-bd25-e5b7cbb0987b",
   "metadata": {},
   "outputs": [
    {
     "name": "stdin",
     "output_type": "stream",
     "text": [
      " 2\n"
     ]
    },
    {
     "name": "stdout",
     "output_type": "stream",
     "text": [
      "2\n"
     ]
    }
   ],
   "source": [
    "i = input()\n",
    "print(i)"
   ]
  },
  {
   "cell_type": "code",
   "execution_count": 29,
   "id": "f865f51a-443f-4dd2-99b2-213e2fe5cda3",
   "metadata": {},
   "outputs": [
    {
     "data": {
      "text/plain": [
       "True"
      ]
     },
     "execution_count": 29,
     "metadata": {},
     "output_type": "execute_result"
    }
   ],
   "source": [
    "10<20"
   ]
  },
  {
   "cell_type": "code",
   "execution_count": 31,
   "id": "6b5dc862-098b-4f13-9c55-65dd3984f961",
   "metadata": {},
   "outputs": [
    {
     "data": {
      "text/plain": [
       "False"
      ]
     },
     "execution_count": 31,
     "metadata": {},
     "output_type": "execute_result"
    }
   ],
   "source": [
    "10>20"
   ]
  },
  {
   "cell_type": "code",
   "execution_count": 33,
   "id": "587cbe1c-393a-4eaf-b47d-c868453c2205",
   "metadata": {},
   "outputs": [
    {
     "data": {
      "text/plain": [
       "False"
      ]
     },
     "execution_count": 33,
     "metadata": {},
     "output_type": "execute_result"
    }
   ],
   "source": [
    "10==20"
   ]
  },
  {
   "cell_type": "code",
   "execution_count": 35,
   "id": "aa6b61ea-3792-422d-ab97-6c838198cd32",
   "metadata": {},
   "outputs": [
    {
     "data": {
      "text/plain": [
       "True"
      ]
     },
     "execution_count": 35,
     "metadata": {},
     "output_type": "execute_result"
    }
   ],
   "source": [
    "10<=20"
   ]
  },
  {
   "cell_type": "code",
   "execution_count": 37,
   "id": "9e09e14f-b459-4c01-ac5b-7f5e72894526",
   "metadata": {},
   "outputs": [
    {
     "data": {
      "text/plain": [
       "False"
      ]
     },
     "execution_count": 37,
     "metadata": {},
     "output_type": "execute_result"
    }
   ],
   "source": [
    "10>=20"
   ]
  },
  {
   "cell_type": "code",
   "execution_count": 39,
   "id": "aa3b0d55-b010-4f7b-8fdc-d909effd043c",
   "metadata": {},
   "outputs": [
    {
     "data": {
      "text/plain": [
       "0"
      ]
     },
     "execution_count": 39,
     "metadata": {},
     "output_type": "execute_result"
    }
   ],
   "source": [
    "20%10"
   ]
  },
  {
   "cell_type": "code",
   "execution_count": 41,
   "id": "ac2838be-e8b6-4b2b-868a-cf133d80d05a",
   "metadata": {},
   "outputs": [
    {
     "data": {
      "text/plain": [
       "'0b111'"
      ]
     },
     "execution_count": 41,
     "metadata": {},
     "output_type": "execute_result"
    }
   ],
   "source": [
    "bin(7)"
   ]
  },
  {
   "cell_type": "code",
   "execution_count": 43,
   "id": "c2d9f754-8844-4456-a87e-e0b97f44da3f",
   "metadata": {},
   "outputs": [
    {
     "data": {
      "text/plain": [
       "'0b1001'"
      ]
     },
     "execution_count": 43,
     "metadata": {},
     "output_type": "execute_result"
    }
   ],
   "source": [
    "bin(9)"
   ]
  },
  {
   "cell_type": "code",
   "execution_count": 50,
   "id": "6cce7e91-073b-4efa-8f0f-8e35de560036",
   "metadata": {},
   "outputs": [
    {
     "name": "stdout",
     "output_type": "stream",
     "text": [
      "0b111 0b1001\n"
     ]
    }
   ],
   "source": [
    "a = bin(7)\n",
    "b = bin(9)\n",
    "print(a,b)"
   ]
  },
  {
   "cell_type": "code",
   "execution_count": 58,
   "id": "79ab91a3-f2e2-4967-b50a-2332a7efb2d9",
   "metadata": {},
   "outputs": [
    {
     "data": {
      "text/plain": [
       "1"
      ]
     },
     "execution_count": 58,
     "metadata": {},
     "output_type": "execute_result"
    }
   ],
   "source": [
    "a=7\n",
    "b=9\n",
    "a&b"
   ]
  },
  {
   "cell_type": "code",
   "execution_count": 64,
   "id": "132d5669-cbdc-412c-a574-71ad29c9e6e3",
   "metadata": {},
   "outputs": [
    {
     "ename": "NameError",
     "evalue": "name 'decimal' is not defined",
     "output_type": "error",
     "traceback": [
      "\u001b[1;31m---------------------------------------------------------------------------\u001b[0m",
      "\u001b[1;31mNameError\u001b[0m                                 Traceback (most recent call last)",
      "Cell \u001b[1;32mIn[64], line 1\u001b[0m\n\u001b[1;32m----> 1\u001b[0m decimal(\u001b[38;5;241m0b111\u001b[39m)\n",
      "\u001b[1;31mNameError\u001b[0m: name 'decimal' is not defined"
     ]
    }
   ],
   "source": [
    "decimal(0b111)"
   ]
  },
  {
   "cell_type": "code",
   "execution_count": 66,
   "id": "878a4ae2-2e87-4cd1-878e-7da456151686",
   "metadata": {},
   "outputs": [
    {
     "data": {
      "text/plain": [
       "15"
      ]
     },
     "execution_count": 66,
     "metadata": {},
     "output_type": "execute_result"
    }
   ],
   "source": [
    "a=7\n",
    "b=9\n",
    "a|b"
   ]
  },
  {
   "cell_type": "code",
   "execution_count": 68,
   "id": "00f612a7-143a-40fa-a3ab-87fe52324919",
   "metadata": {},
   "outputs": [
    {
     "data": {
      "text/plain": [
       "7"
      ]
     },
     "execution_count": 68,
     "metadata": {},
     "output_type": "execute_result"
    }
   ],
   "source": [
    "int(0b111)"
   ]
  },
  {
   "cell_type": "code",
   "execution_count": 76,
   "id": "65e421b7-90fa-4dc4-88c2-b2978f215311",
   "metadata": {},
   "outputs": [
    {
     "data": {
      "text/plain": [
       "True"
      ]
     },
     "execution_count": 76,
     "metadata": {},
     "output_type": "execute_result"
    }
   ],
   "source": [
    "(1>2)or(5<10)"
   ]
  },
  {
   "cell_type": "code",
   "execution_count": 78,
   "id": "5485e9f1-6680-40f3-97df-cc36b883a38c",
   "metadata": {},
   "outputs": [],
   "source": [
    "a=50"
   ]
  },
  {
   "cell_type": "code",
   "execution_count": 82,
   "id": "5b71d511-ed77-4730-b715-89483fabcacc",
   "metadata": {},
   "outputs": [
    {
     "name": "stdout",
     "output_type": "stream",
     "text": [
      "True\n"
     ]
    }
   ],
   "source": [
    "a=8\n",
    "b=8\n",
    "print(a is b)"
   ]
  },
  {
   "cell_type": "code",
   "execution_count": 84,
   "id": "9a41ca01-4a46-481f-bf9e-a999dffe8a50",
   "metadata": {},
   "outputs": [
    {
     "data": {
      "text/plain": [
       "True"
      ]
     },
     "execution_count": 84,
     "metadata": {},
     "output_type": "execute_result"
    }
   ],
   "source": [
    "a=6\n",
    "b=9\n",
    "a is not b"
   ]
  },
  {
   "cell_type": "code",
   "execution_count": 86,
   "id": "c3e5ebac-3d8c-47b8-a17c-f610691ab0c3",
   "metadata": {},
   "outputs": [
    {
     "data": {
      "text/plain": [
       "False"
      ]
     },
     "execution_count": 86,
     "metadata": {},
     "output_type": "execute_result"
    }
   ],
   "source": [
    "a is b"
   ]
  },
  {
   "cell_type": "code",
   "execution_count": 88,
   "id": "93e762b9-bbcc-4b2e-8336-9a7f63ee399d",
   "metadata": {},
   "outputs": [
    {
     "data": {
      "text/plain": [
       "False"
      ]
     },
     "execution_count": 88,
     "metadata": {},
     "output_type": "execute_result"
    }
   ],
   "source": [
    "a='pratik'\n",
    "'tk' in a"
   ]
  },
  {
   "cell_type": "code",
   "execution_count": 6,
   "id": "11880253-dd70-4fe9-a97c-ae25e059e385",
   "metadata": {},
   "outputs": [
    {
     "data": {
      "text/plain": [
       "120"
      ]
     },
     "execution_count": 6,
     "metadata": {},
     "output_type": "execute_result"
    }
   ],
   "source": [
    "(10*(5+7))"
   ]
  },
  {
   "cell_type": "code",
   "execution_count": 8,
   "id": "e69bf6fa-86da-409d-8925-9f218966915e",
   "metadata": {},
   "outputs": [
    {
     "data": {
      "text/plain": [
       "6.0"
      ]
     },
     "execution_count": 8,
     "metadata": {},
     "output_type": "execute_result"
    }
   ],
   "source": [
    "10//3*8/6+50%2**2"
   ]
  },
  {
   "cell_type": "code",
   "execution_count": 10,
   "id": "08ecb194-5e2e-4560-9c5f-be761862d9b9",
   "metadata": {},
   "outputs": [
    {
     "data": {
      "text/plain": [
       "True"
      ]
     },
     "execution_count": 10,
     "metadata": {},
     "output_type": "execute_result"
    }
   ],
   "source": [
    "55>43"
   ]
  },
  {
   "cell_type": "code",
   "execution_count": 12,
   "id": "109a8ff8-171b-4a78-86f5-05664bb12dfb",
   "metadata": {},
   "outputs": [
    {
     "data": {
      "text/plain": [
       "False"
      ]
     },
     "execution_count": 12,
     "metadata": {},
     "output_type": "execute_result"
    }
   ],
   "source": [
    "65<33"
   ]
  },
  {
   "cell_type": "code",
   "execution_count": 14,
   "id": "ae48c96a-588c-4716-bdc9-0f8dbcc9dbd4",
   "metadata": {},
   "outputs": [
    {
     "data": {
      "text/plain": [
       "False"
      ]
     },
     "execution_count": 14,
     "metadata": {},
     "output_type": "execute_result"
    }
   ],
   "source": [
    "4*3<2*3"
   ]
  },
  {
   "cell_type": "code",
   "execution_count": 16,
   "id": "34aa2e39-c99e-4b9a-9c7f-7e8038c79f55",
   "metadata": {},
   "outputs": [
    {
     "data": {
      "text/plain": [
       "True"
      ]
     },
     "execution_count": 16,
     "metadata": {},
     "output_type": "execute_result"
    }
   ],
   "source": [
    "64==64"
   ]
  },
  {
   "cell_type": "code",
   "execution_count": 18,
   "id": "8a22c6a6-45ac-48dc-b6fa-4d4ead4c747b",
   "metadata": {},
   "outputs": [
    {
     "data": {
      "text/plain": [
       "True"
      ]
     },
     "execution_count": 18,
     "metadata": {},
     "output_type": "execute_result"
    }
   ],
   "source": [
    "4!=7"
   ]
  },
  {
   "cell_type": "code",
   "execution_count": 20,
   "id": "b36e9215-3e12-4d99-9dbf-be238c40fb47",
   "metadata": {},
   "outputs": [
    {
     "data": {
      "text/plain": [
       "True"
      ]
     },
     "execution_count": 20,
     "metadata": {},
     "output_type": "execute_result"
    }
   ],
   "source": [
    "3>=3"
   ]
  },
  {
   "cell_type": "code",
   "execution_count": 22,
   "id": "a14fa1ec-0ed9-4b1d-b80d-28398fae2b16",
   "metadata": {},
   "outputs": [
    {
     "data": {
      "text/plain": [
       "False"
      ]
     },
     "execution_count": 22,
     "metadata": {},
     "output_type": "execute_result"
    }
   ],
   "source": [
    "7<=3"
   ]
  },
  {
   "cell_type": "code",
   "execution_count": 24,
   "id": "7e975cbd-fa95-4531-b3f2-25a9b59c4c67",
   "metadata": {},
   "outputs": [
    {
     "data": {
      "text/plain": [
       "True"
      ]
     },
     "execution_count": 24,
     "metadata": {},
     "output_type": "execute_result"
    }
   ],
   "source": [
    "65==65.0"
   ]
  },
  {
   "cell_type": "code",
   "execution_count": 26,
   "id": "8b95c229-937f-4ccb-8ad0-42b3880a52d0",
   "metadata": {},
   "outputs": [
    {
     "data": {
      "text/plain": [
       "False"
      ]
     },
     "execution_count": 26,
     "metadata": {},
     "output_type": "execute_result"
    }
   ],
   "source": [
    "'hi'=='HI'"
   ]
  },
  {
   "cell_type": "code",
   "execution_count": 30,
   "id": "83670c33-81fb-48f8-8d1c-02d9102c8eca",
   "metadata": {},
   "outputs": [
    {
     "data": {
      "text/plain": [
       "'0b100101100'"
      ]
     },
     "execution_count": 30,
     "metadata": {},
     "output_type": "execute_result"
    }
   ],
   "source": [
    "bin(300)"
   ]
  },
  {
   "cell_type": "code",
   "execution_count": 32,
   "id": "050caa28-f3d2-4dd6-afca-e7f4b40755cb",
   "metadata": {},
   "outputs": [
    {
     "data": {
      "text/plain": [
       "85"
      ]
     },
     "execution_count": 32,
     "metadata": {},
     "output_type": "execute_result"
    }
   ],
   "source": [
    "0b1010101"
   ]
  },
  {
   "cell_type": "code",
   "execution_count": 34,
   "id": "b8fd5d5c-3895-4a2f-b9ec-466baac24543",
   "metadata": {},
   "outputs": [
    {
     "name": "stdout",
     "output_type": "stream",
     "text": [
      "13\n"
     ]
    }
   ],
   "source": [
    "a=5\n",
    "b=9\n",
    "print(a|b)"
   ]
  },
  {
   "cell_type": "code",
   "execution_count": 36,
   "id": "232c5129-94d7-4bc7-abb4-14c1667012fa",
   "metadata": {},
   "outputs": [
    {
     "name": "stdout",
     "output_type": "stream",
     "text": [
      "1\n"
     ]
    }
   ],
   "source": [
    "print(a & b)"
   ]
  },
  {
   "cell_type": "code",
   "execution_count": 38,
   "id": "7cffd625-80f3-4050-928a-0377b4351034",
   "metadata": {},
   "outputs": [
    {
     "data": {
      "text/plain": [
       "14"
      ]
     },
     "execution_count": 38,
     "metadata": {},
     "output_type": "execute_result"
    }
   ],
   "source": [
    "6|8"
   ]
  },
  {
   "cell_type": "code",
   "execution_count": 40,
   "id": "bca41c99-3c67-44e2-9b33-ff340f1cf294",
   "metadata": {},
   "outputs": [
    {
     "data": {
      "text/plain": [
       "0"
      ]
     },
     "execution_count": 40,
     "metadata": {},
     "output_type": "execute_result"
    }
   ],
   "source": [
    "6&8"
   ]
  },
  {
   "cell_type": "code",
   "execution_count": 42,
   "id": "eef50c4d-edbe-488d-a2c0-6f782992b292",
   "metadata": {},
   "outputs": [
    {
     "data": {
      "text/plain": [
       "True"
      ]
     },
     "execution_count": 42,
     "metadata": {},
     "output_type": "execute_result"
    }
   ],
   "source": [
    "(5>6)or(6<7)"
   ]
  },
  {
   "cell_type": "code",
   "execution_count": 44,
   "id": "e79412f7-cd48-4ec9-9b30-deb7ac5a6b3b",
   "metadata": {},
   "outputs": [
    {
     "data": {
      "text/plain": [
       "False"
      ]
     },
     "execution_count": 44,
     "metadata": {},
     "output_type": "execute_result"
    }
   ],
   "source": [
    "(5>6)and(6<7)"
   ]
  },
  {
   "cell_type": "code",
   "execution_count": 48,
   "id": "1bebe696-3c6c-40b3-9ab3-d949d74b1d96",
   "metadata": {},
   "outputs": [
    {
     "data": {
      "text/plain": [
       "False"
      ]
     },
     "execution_count": 48,
     "metadata": {},
     "output_type": "execute_result"
    }
   ],
   "source": [
    "not True"
   ]
  },
  {
   "cell_type": "code",
   "execution_count": 50,
   "id": "2843cda2-b595-4d7a-9402-24b62f0d57c1",
   "metadata": {},
   "outputs": [
    {
     "data": {
      "text/plain": [
       "True"
      ]
     },
     "execution_count": 50,
     "metadata": {},
     "output_type": "execute_result"
    }
   ],
   "source": [
    "not False"
   ]
  },
  {
   "cell_type": "code",
   "execution_count": 52,
   "id": "3c161f58-2271-4fd9-bdd9-de492e5e9e26",
   "metadata": {},
   "outputs": [
    {
     "data": {
      "text/plain": [
       "True"
      ]
     },
     "execution_count": 52,
     "metadata": {},
     "output_type": "execute_result"
    }
   ],
   "source": [
    "my_str='pratik'\n",
    "my_str.isalpha()or str_example.isnum()"
   ]
  },
  {
   "cell_type": "code",
   "execution_count": 54,
   "id": "269ff3ba-f763-469c-8152-b075358df1e8",
   "metadata": {},
   "outputs": [
    {
     "data": {
      "text/plain": [
       "True"
      ]
     },
     "execution_count": 54,
     "metadata": {},
     "output_type": "execute_result"
    }
   ],
   "source": [
    "3==3 and 3==4 or 5==5"
   ]
  },
  {
   "cell_type": "code",
   "execution_count": 56,
   "id": "58eb9fd2-9966-4063-8b26-ad6d0f0df21c",
   "metadata": {},
   "outputs": [],
   "source": [
    "a=500"
   ]
  },
  {
   "cell_type": "code",
   "execution_count": 58,
   "id": "f692d3d1-6d3e-4405-8450-b8d56b0d8131",
   "metadata": {},
   "outputs": [
    {
     "data": {
      "text/plain": [
       "500"
      ]
     },
     "execution_count": 58,
     "metadata": {},
     "output_type": "execute_result"
    }
   ],
   "source": [
    "a"
   ]
  },
  {
   "cell_type": "code",
   "execution_count": 60,
   "id": "ad342e36-540a-4735-990f-ff935f14f944",
   "metadata": {},
   "outputs": [
    {
     "name": "stdout",
     "output_type": "stream",
     "text": [
      "501\n"
     ]
    }
   ],
   "source": [
    "a=a+1\n",
    "print(a)"
   ]
  },
  {
   "cell_type": "code",
   "execution_count": 62,
   "id": "27a1574a-bd32-47cb-86ce-be251beb20a0",
   "metadata": {},
   "outputs": [],
   "source": [
    "a+=1"
   ]
  },
  {
   "cell_type": "code",
   "execution_count": 64,
   "id": "7c2d9078-0360-4ef9-ad76-bfe65c4416d7",
   "metadata": {},
   "outputs": [
    {
     "data": {
      "text/plain": [
       "502"
      ]
     },
     "execution_count": 64,
     "metadata": {},
     "output_type": "execute_result"
    }
   ],
   "source": [
    "a"
   ]
  },
  {
   "cell_type": "code",
   "execution_count": 66,
   "id": "ff8b1972-652f-4651-84c3-87612ef3b0d6",
   "metadata": {},
   "outputs": [
    {
     "data": {
      "text/plain": [
       "498"
      ]
     },
     "execution_count": 66,
     "metadata": {},
     "output_type": "execute_result"
    }
   ],
   "source": [
    "a-=4\n",
    "a"
   ]
  },
  {
   "cell_type": "code",
   "execution_count": 68,
   "id": "4cac7f01-66c7-475f-af27-d957cc1ed545",
   "metadata": {},
   "outputs": [
    {
     "name": "stdout",
     "output_type": "stream",
     "text": [
      "True\n"
     ]
    }
   ],
   "source": [
    "a=9\n",
    "b=9\n",
    "print(a is b)"
   ]
  },
  {
   "cell_type": "code",
   "execution_count": 70,
   "id": "da7524c0-ca24-4bce-bf85-cae464c2766d",
   "metadata": {},
   "outputs": [
    {
     "name": "stdout",
     "output_type": "stream",
     "text": [
      "False\n"
     ]
    }
   ],
   "source": [
    "s2 = \"aditya\"\n",
    "s3 = \"Aditya\"\n",
    "print(s2 is s3)"
   ]
  },
  {
   "cell_type": "code",
   "execution_count": 72,
   "id": "8ae0d5ef-24ad-42aa-84a4-146b5f690cab",
   "metadata": {},
   "outputs": [
    {
     "data": {
      "text/plain": [
       "True"
      ]
     },
     "execution_count": 72,
     "metadata": {},
     "output_type": "execute_result"
    }
   ],
   "source": [
    "a=7\n",
    "b=9\n",
    "a is not b"
   ]
  },
  {
   "cell_type": "code",
   "execution_count": 88,
   "id": "91be23bb-7c41-4db0-9b1a-ffa6e6ff029b",
   "metadata": {},
   "outputs": [
    {
     "data": {
      "text/plain": [
       "True"
      ]
     },
     "execution_count": 88,
     "metadata": {},
     "output_type": "execute_result"
    }
   ],
   "source": [
    "b=[1,2,3,4]\n",
    "1 in b"
   ]
  },
  {
   "cell_type": "code",
   "execution_count": 84,
   "id": "11f3ea4f-cbb7-45c0-956b-0b6c4ef26a4a",
   "metadata": {},
   "outputs": [
    {
     "data": {
      "text/plain": [
       "True"
      ]
     },
     "execution_count": 84,
     "metadata": {},
     "output_type": "execute_result"
    }
   ],
   "source": [
    "a=[1,2,3,4,5,6]\n",
    "9 not in a"
   ]
  },
  {
   "cell_type": "code",
   "execution_count": null,
   "id": "86b3392d-3a46-4e7f-9212-03830c45c621",
   "metadata": {},
   "outputs": [],
   "source": []
  }
 ],
 "metadata": {
  "kernelspec": {
   "display_name": "Python 3 (ipykernel)",
   "language": "python",
   "name": "python3"
  },
  "language_info": {
   "codemirror_mode": {
    "name": "ipython",
    "version": 3
   },
   "file_extension": ".py",
   "mimetype": "text/x-python",
   "name": "python",
   "nbconvert_exporter": "python",
   "pygments_lexer": "ipython3",
   "version": "3.11.7"
  }
 },
 "nbformat": 4,
 "nbformat_minor": 5
}
