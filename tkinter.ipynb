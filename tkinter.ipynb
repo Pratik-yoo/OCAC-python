{
 "cells": [
  {
   "cell_type": "code",
   "execution_count": 2,
   "id": "40682c99-565b-4ee0-99c2-41c1b56b2a93",
   "metadata": {},
   "outputs": [],
   "source": [
    "import tkinter as tk\n",
    "from tkinter import messagebox\n",
    "\n",
    "# Create the main window\n",
    "root = tk.Tk()\n",
    "root.title(\"Simple Tkinter App\")\n",
    "\n",
    "# Function to be called when the button is clicked\n",
    "def on_button_click():\n",
    "    messagebox.showinfo(\"Information\", \"Button clicked!\")\n",
    "\n",
    "# Create a button widget\n",
    "button = tk.Button(root, text=\"Click Me!\", command=on_button_click)\n",
    "\n",
    "# Place the button in the window\n",
    "button.pack(pady=60)\n",
    "\n",
    "# Run the application|\n",
    "root.mainloop()\n"
   ]
  },
  {
   "cell_type": "code",
   "execution_count": null,
   "id": "9a653bb6-ec12-46a1-908e-74dbbaea1fb7",
   "metadata": {},
   "outputs": [],
   "source": []
  }
 ],
 "metadata": {
  "kernelspec": {
   "display_name": "Python 3 (ipykernel)",
   "language": "python",
   "name": "python3"
  },
  "language_info": {
   "codemirror_mode": {
    "name": "ipython",
    "version": 3
   },
   "file_extension": ".py",
   "mimetype": "text/x-python",
   "name": "python",
   "nbconvert_exporter": "python",
   "pygments_lexer": "ipython3",
   "version": "3.11.7"
  }
 },
 "nbformat": 4,
 "nbformat_minor": 5
}
