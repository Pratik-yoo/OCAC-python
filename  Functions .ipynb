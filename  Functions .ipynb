{
 "cells": [
  {
   "cell_type": "code",
   "execution_count": 1,
   "id": "420eb5a4-236a-4c63-8721-55e9779f9be9",
   "metadata": {},
   "outputs": [
    {
     "data": {
      "text/plain": [
       "100"
      ]
     },
     "execution_count": 1,
     "metadata": {},
     "output_type": "execute_result"
    }
   ],
   "source": [
    "num = -100\n",
    "abs(num)"
   ]
  },
  {
   "cell_type": "code",
   "execution_count": 3,
   "id": "9b076f5e-f43a-4071-9b67-b422e8bdf74b",
   "metadata": {},
   "outputs": [
    {
     "data": {
      "text/plain": [
       "(1, 2)"
      ]
     },
     "execution_count": 3,
     "metadata": {},
     "output_type": "execute_result"
    }
   ],
   "source": [
    "divmod(6,4)"
   ]
  },
  {
   "cell_type": "code",
   "execution_count": 5,
   "id": "d1469847-16bf-4d99-a534-f86c101bac94",
   "metadata": {},
   "outputs": [],
   "source": [
    "def double(num):\n",
    "    return 2 * num"
   ]
  },
  {
   "cell_type": "code",
   "execution_count": 6,
   "id": "43123d4b-8d71-46d2-af11-ec9ccd46dd80",
   "metadata": {},
   "outputs": [
    {
     "name": "stdout",
     "output_type": "stream",
     "text": [
      "None\n"
     ]
    }
   ],
   "source": [
    "print(double.__doc__)"
   ]
  },
  {
   "cell_type": "code",
   "execution_count": 7,
   "id": "8658548c-778f-46a5-993a-361c9c46c7ca",
   "metadata": {},
   "outputs": [
    {
     "data": {
      "text/plain": [
       "200"
      ]
     },
     "execution_count": 7,
     "metadata": {},
     "output_type": "execute_result"
    }
   ],
   "source": [
    "double(100)"
   ]
  },
  {
   "cell_type": "code",
   "execution_count": 8,
   "id": "106d8373-f3c9-4358-a07c-148e678f8d80",
   "metadata": {},
   "outputs": [],
   "source": [
    "def double(num):\n",
    "    return 2 *int(num)"
   ]
  },
  {
   "cell_type": "code",
   "execution_count": 9,
   "id": "c365237f-f2d0-49e9-b292-83730c0e0e41",
   "metadata": {},
   "outputs": [
    {
     "data": {
      "text/plain": [
       "20"
      ]
     },
     "execution_count": 9,
     "metadata": {},
     "output_type": "execute_result"
    }
   ],
   "source": [
    "double(10.8)"
   ]
  },
  {
   "cell_type": "code",
   "execution_count": 11,
   "id": "aafe4860-24b5-44ae-8a3a-b8f6f05c834a",
   "metadata": {},
   "outputs": [
    {
     "data": {
      "text/plain": [
       "-1"
      ]
     },
     "execution_count": 11,
     "metadata": {},
     "output_type": "execute_result"
    }
   ],
   "source": [
    "def sub(num1,num2):\n",
    "    return num1-num2\n",
    "sub(4,5)"
   ]
  },
  {
   "cell_type": "code",
   "execution_count": 12,
   "id": "c7072a0f-efd4-416b-9884-e073f1708fac",
   "metadata": {},
   "outputs": [],
   "source": [
    "def print_name(x):\n",
    "    print(\"hello\",x)"
   ]
  },
  {
   "cell_type": "code",
   "execution_count": 13,
   "id": "0aafb3fd-ff44-4893-bfe4-25b6e115c47f",
   "metadata": {},
   "outputs": [
    {
     "name": "stdout",
     "output_type": "stream",
     "text": [
      "hello pratik\n"
     ]
    }
   ],
   "source": [
    "print_name(\"pratik\")"
   ]
  },
  {
   "cell_type": "code",
   "execution_count": 14,
   "id": "028cb143-e502-4d3e-83a4-3b593a5e9243",
   "metadata": {},
   "outputs": [
    {
     "name": "stdout",
     "output_type": "stream",
     "text": [
      "hello 125\n"
     ]
    }
   ],
   "source": [
    "print_name(125)"
   ]
  },
  {
   "cell_type": "code",
   "execution_count": 16,
   "id": "7d022f3d-6b94-4139-bf82-fa45fb75c2f0",
   "metadata": {},
   "outputs": [
    {
     "data": {
      "text/plain": [
       "10"
      ]
     },
     "execution_count": 16,
     "metadata": {},
     "output_type": "execute_result"
    }
   ],
   "source": [
    "def get_sum(lst):\n",
    "    sum =0\n",
    "    for num in lst:\n",
    "        sum += num\n",
    "    return sum\n",
    "get_sum([1,2,3,4])"
   ]
  },
  {
   "cell_type": "code",
   "execution_count": 21,
   "id": "50cc6e79-e769-4ba2-85a0-a3b93abdf487",
   "metadata": {},
   "outputs": [
    {
     "ename": "NameError",
     "evalue": "name 'num_10_7' is not defined",
     "output_type": "error",
     "traceback": [
      "\u001b[1;31m---------------------------------------------------------------------------\u001b[0m",
      "\u001b[1;31mNameError\u001b[0m                                 Traceback (most recent call last)",
      "Cell \u001b[1;32mIn[21], line 6\u001b[0m\n\u001b[0;32m      3\u001b[0m         \u001b[38;5;28;01mif\u001b[39;00m num\u001b[38;5;241m%\u001b[39m\u001b[38;5;241m5\u001b[39m \u001b[38;5;241m==\u001b[39m \u001b[38;5;241m0\u001b[39m \u001b[38;5;129;01mand\u001b[39;00m num\u001b[38;5;241m%\u001b[39m\u001b[38;5;241m7\u001b[39m\u001b[38;5;241m!=\u001b[39m\u001b[38;5;241m0\u001b[39m:\n\u001b[0;32m      4\u001b[0m             \u001b[38;5;28mprint\u001b[39m(num)\n\u001b[1;32m----> 6\u001b[0m num_10_7(\u001b[38;5;241m50\u001b[39m)\n",
      "\u001b[1;31mNameError\u001b[0m: name 'num_10_7' is not defined"
     ]
    }
   ],
   "source": [
    "def num(i):\n",
    "    for num in range(1,i):\n",
    "        if num%5 == 0 and num%7!=0:\n",
    "            print(num)\n",
    "            \n",
    "num_10_7(50)"
   ]
  },
  {
   "cell_type": "code",
   "execution_count": 22,
   "id": "d00d64c7-d954-4c0d-b696-5e6c3ccd2cd0",
   "metadata": {},
   "outputs": [
    {
     "name": "stdout",
     "output_type": "stream",
     "text": [
      "12 9\n"
     ]
    }
   ],
   "source": [
    "lst=[1,2,3,4,5,6]\n",
    "\n",
    "even_sum=0\n",
    "odd_sum=0\n",
    "for i in lst:\n",
    "    if i%2==0:\n",
    "        even_sum=even_sum+i\n",
    "    else:\n",
    "        odd_sum=odd_sum+i\n",
    "\n",
    "print(even_sum,odd_sum)"
   ]
  },
  {
   "cell_type": "code",
   "execution_count": 23,
   "id": "62235f3f-5cad-4ee1-8b3b-51fc14eb72ed",
   "metadata": {},
   "outputs": [],
   "source": [
    "def f_n(l):\n",
    "    even_sum=0\n",
    "    odd_sum=0\n",
    "    for i in l:\n",
    "        if i%2==0:\n",
    "            even_sum=even_sum+i\n",
    "        else:\n",
    "            odd_sum=odd_sum+i\n",
    "\n",
    "    print(even_sum,odd_sum)"
   ]
  },
  {
   "cell_type": "code",
   "execution_count": 24,
   "id": "00538725-2eb9-494d-95a4-e1a8064821b9",
   "metadata": {},
   "outputs": [
    {
     "name": "stdout",
     "output_type": "stream",
     "text": [
      "20 25\n"
     ]
    }
   ],
   "source": [
    "f_n([1,2,3,4,5,6,7,8,9])"
   ]
  },
  {
   "cell_type": "code",
   "execution_count": 25,
   "id": "56a30181-c09b-4eb0-bb74-da24c4ee35c7",
   "metadata": {},
   "outputs": [
    {
     "name": "stdout",
     "output_type": "stream",
     "text": [
      "hello NAMITA , good morning\n"
     ]
    }
   ],
   "source": [
    "def greet(name,msg):\n",
    "    print(\"hello {} , {}\".format(name,msg))\n",
    "\n",
    "greet(\"NAMITA\",\"good morning\")"
   ]
  },
  {
   "cell_type": "code",
   "execution_count": 26,
   "id": "eb4f93ab-0c4e-4aa3-bf3b-b9a2d17d300d",
   "metadata": {},
   "outputs": [],
   "source": [
    "def even_num():\n",
    "    la=int(input('enter lower bound value:'))\n",
    "    lb=int(input('enter upper bound value:'))\n",
    "    for i in range(la,lb+1):\n",
    "        if i%2==0:\n",
    "            print(i)"
   ]
  },
  {
   "cell_type": "code",
   "execution_count": 27,
   "id": "325786f7-07b0-4d46-8428-c8cebb8d8348",
   "metadata": {},
   "outputs": [
    {
     "name": "stdin",
     "output_type": "stream",
     "text": [
      "enter lower bound value: 88\n",
      "enter upper bound value: 99\n"
     ]
    },
    {
     "name": "stdout",
     "output_type": "stream",
     "text": [
      "88\n",
      "90\n",
      "92\n",
      "94\n",
      "96\n",
      "98\n"
     ]
    }
   ],
   "source": [
    "even_num()"
   ]
  },
  {
   "cell_type": "code",
   "execution_count": 28,
   "id": "40668efc-5ab2-49b4-8c80-90c4f315a370",
   "metadata": {},
   "outputs": [
    {
     "name": "stdout",
     "output_type": "stream",
     "text": [
      "hello namita , good night\n"
     ]
    }
   ],
   "source": [
    "def greet(name,msg=\"Good Morning\"):\n",
    "    print(\"hello {} , {}\".format(name,msg))\n",
    "\n",
    "greet(\"namita\",\"good night\")"
   ]
  },
  {
   "cell_type": "code",
   "execution_count": 29,
   "id": "474d89d1-3ecb-49e2-a056-824e6c46cd92",
   "metadata": {},
   "outputs": [
    {
     "name": "stdout",
     "output_type": "stream",
     "text": [
      "hello namita , Good Morning\n"
     ]
    }
   ],
   "source": [
    "greet(\"namita\")"
   ]
  },
  {
   "cell_type": "code",
   "execution_count": 33,
   "id": "ca002e9d-3b7a-439f-b06b-718a4b1f90b3",
   "metadata": {},
   "outputs": [
    {
     "name": "stdout",
     "output_type": "stream",
     "text": [
      "hello good , good morning\n"
     ]
    }
   ],
   "source": [
    "def greet(**yo):\n",
    "    if yo:\n",
    "        print(\"hello {} , {}\".format(yo['name'],yo['msg']))\n",
    "\n",
    "greet(name=\"good\",msg=\"good morning\")"
   ]
  },
  {
   "cell_type": "code",
   "execution_count": 34,
   "id": "cac8b8c0-4064-4d62-83e5-782e12c9d102",
   "metadata": {},
   "outputs": [],
   "source": [
    "def greet(*name):\n",
    "    print(name)\n",
    "    for name in name:\n",
    "        print(\"hello, {0},\".format(name))"
   ]
  },
  {
   "cell_type": "code",
   "execution_count": 35,
   "id": "a62f823e-eb5a-4672-8060-7db540eb7dab",
   "metadata": {},
   "outputs": [
    {
     "name": "stdout",
     "output_type": "stream",
     "text": [
      "('pratik', 'simran')\n",
      "hello, pratik,\n",
      "hello, simran,\n"
     ]
    }
   ],
   "source": [
    "greet(\"pratik\",\"simran\")"
   ]
  },
  {
   "cell_type": "code",
   "execution_count": 44,
   "id": "93e2f36d-21bd-4b95-bc9b-f8c9e98e1998",
   "metadata": {},
   "outputs": [],
   "source": [
    "def factorial(num):\n",
    "    if num ==0:\n",
    "        return 1\n",
    "    else:\n",
    "        \n",
    "        return num * factorial(num-1)"
   ]
  },
  {
   "cell_type": "code",
   "execution_count": 45,
   "id": "a1e96cd6-ebe9-452e-b84f-c3af43086421",
   "metadata": {},
   "outputs": [
    {
     "name": "stdout",
     "output_type": "stream",
     "text": [
      "factrial of  5 is 120\n"
     ]
    }
   ],
   "source": [
    "num = 5\n",
    "print(\"factrial of  {} is {}\".format(num ,factrial(num)))"
   ]
  },
  {
   "cell_type": "code",
   "execution_count": 46,
   "id": "b61a0be9-2c8c-4e68-bec0-783f5b44af49",
   "metadata": {},
   "outputs": [
    {
     "name": "stdin",
     "output_type": "stream",
     "text": [
      "emter val1::  5\n",
      "enter val2 ::  8\n"
     ]
    },
    {
     "name": "stdout",
     "output_type": "stream",
     "text": [
      "\n"
     ]
    },
    {
     "name": "stdin",
     "output_type": "stream",
     "text": [
      "select an operation - 1, for addition, 2.for subtraction, 3. for multipliction,4. for devesion 1\n"
     ]
    },
    {
     "name": "stdout",
     "output_type": "stream",
     "text": [
      "sum of 5 & 8 is 13 \n"
     ]
    },
    {
     "name": "stdin",
     "output_type": "stream",
     "text": [
      "emter val1::  3\n",
      "enter val2 ::  4\n"
     ]
    },
    {
     "name": "stdout",
     "output_type": "stream",
     "text": [
      "\n"
     ]
    },
    {
     "name": "stdin",
     "output_type": "stream",
     "text": [
      "select an operation - 1, for addition, 2.for subtraction, 3. for multipliction,4. for devesion 1\n"
     ]
    },
    {
     "name": "stdout",
     "output_type": "stream",
     "text": [
      "sum of 3 & 4 is 7 \n"
     ]
    }
   ],
   "source": [
    "a=int(input(\"emter val1:: \"))\n",
    "b=int(input(\"enter val2 :: \"))\n",
    "print()\n",
    "x=int(input(\"select an operation - 1, for addition, 2.for subtraction, 3. for multipliction,4. for devesion\"))\n",
    "def add(a,b):\n",
    "    sum=a+b\n",
    "    return sum\n",
    "def sub(a,b):\n",
    "    sub=a-b\n",
    "    return sub\n",
    "def mul(a,b):\n",
    "    mul=a*b\n",
    "    return mul\n",
    "def div(a,b):\n",
    "    div=a/b\n",
    "    return div\n",
    "if(x==1):\n",
    "    print(\"sum of {} & {} is {} \".format(a,b,add(a,b)))\n",
    "if(x==2):\n",
    "    sub(a,b)\n",
    "    print(\"sub of {} & {} is {} \".format(a,b,sub(a,b)))\n",
    "if(x==3):\n",
    "    mul(a,b)\n",
    "    print(\"mul of {} & {} is {} \".format(a,b,mul(a,b)))\n",
    "if(x==4):\n",
    "    div(a,b)\n",
    "    print(\"div of {} & {} is {} \".format(a,b,div(a,b)))\n",
    "\n",
    "a=int(input(\"emter val1:: \"))\n",
    "b=int(input(\"enter val2 :: \"))\n",
    "print()\n",
    "x=int(input(\"select an operation - 1, for addition, 2.for subtraction, 3. for multipliction,4. for devesion\"))\n",
    "def add(a,b):\n",
    "    sum=a+b\n",
    "    return sum\n",
    "def sub(a,b):\n",
    "    sub=a-b\n",
    "    return sub\n",
    "def mul(a,b):\n",
    "    mul=a*b\n",
    "    return mul\n",
    "def div(a,b):\n",
    "    div=a/b\n",
    "    return div\n",
    "if(x==1):\n",
    "    print(\"sum of {} & {} is {} \".format(a,b,add(a,b)))\n",
    "if(x==2):\n",
    "    sub(a,b)\n",
    "    print(\"sub of {} & {} is {} \".format(a,b,sub(a,b)))\n",
    "if(x==3):\n",
    "    mul(a,b)\n",
    "    print(\"mul of {} & {} is {} \".format(a,b,mul(a,b)))\n",
    "if(x==4):\n",
    "    div(a,b)\n",
    "    print(\"div of {} & {} is {} \".format(a,b,div(a,b)))"
   ]
  },
  {
   "cell_type": "code",
   "execution_count": null,
   "id": "3b9e177f-8e48-48f9-90fb-fb8bfb07fb87",
   "metadata": {},
   "outputs": [],
   "source": []
  }
 ],
 "metadata": {
  "kernelspec": {
   "display_name": "Python 3 (ipykernel)",
   "language": "python",
   "name": "python3"
  },
  "language_info": {
   "codemirror_mode": {
    "name": "ipython",
    "version": 3
   },
   "file_extension": ".py",
   "mimetype": "text/x-python",
   "name": "python",
   "nbconvert_exporter": "python",
   "pygments_lexer": "ipython3",
   "version": "3.11.7"
  }
 },
 "nbformat": 4,
 "nbformat_minor": 5
}
