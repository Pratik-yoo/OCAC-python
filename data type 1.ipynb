{
 "cells": [
  {
   "cell_type": "code",
   "execution_count": 1,
   "id": "a8818e88-f245-4e15-9702-4bc7ef5452bd",
   "metadata": {},
   "outputs": [],
   "source": [
    "#sting,indexing\n",
    "a=\" i am a student\"\n"
   ]
  },
  {
   "cell_type": "code",
   "execution_count": 3,
   "id": "6578db9e-c53d-4903-818a-e2185ffcc8e9",
   "metadata": {},
   "outputs": [
    {
     "data": {
      "text/plain": [
       "'nt'"
      ]
     },
     "execution_count": 3,
     "metadata": {},
     "output_type": "execute_result"
    }
   ],
   "source": [
    "a[-2: :1]"
   ]
  },
  {
   "cell_type": "code",
   "execution_count": 5,
   "id": "a2f7ffac-9ff1-4de3-b108-7bbffbd4db02",
   "metadata": {},
   "outputs": [
    {
     "data": {
      "text/plain": [
       "'neduts a ma i '"
      ]
     },
     "execution_count": 5,
     "metadata": {},
     "output_type": "execute_result"
    }
   ],
   "source": [
    "a[-2: :-1]"
   ]
  },
  {
   "cell_type": "code",
   "execution_count": 7,
   "id": "9f193341-dc08-477c-95a3-ca221b660ce3",
   "metadata": {},
   "outputs": [
    {
     "data": {
      "text/plain": [
       "'neduts a ma '"
      ]
     },
     "execution_count": 7,
     "metadata": {},
     "output_type": "execute_result"
    }
   ],
   "source": [
    "a[-2:-14:-1]"
   ]
  },
  {
   "cell_type": "code",
   "execution_count": 9,
   "id": "5c38d9f5-39d7-4a79-accc-0a6c98e7437a",
   "metadata": {},
   "outputs": [
    {
     "data": {
      "text/plain": [
       "''"
      ]
     },
     "execution_count": 9,
     "metadata": {},
     "output_type": "execute_result"
    }
   ],
   "source": [
    "a[2:7:-1]"
   ]
  },
  {
   "cell_type": "code",
   "execution_count": 17,
   "id": "9950b1c0-56cc-4cc6-a0b2-ced99702ad9b",
   "metadata": {},
   "outputs": [
    {
     "name": "stdout",
     "output_type": "stream",
     "text": [
      "\n"
     ]
    }
   ],
   "source": [
    "print(a[2:7:-1])"
   ]
  },
  {
   "cell_type": "code",
   "execution_count": 19,
   "id": "0e72005d-87f3-43ba-aed1-93be1c40c4c8",
   "metadata": {},
   "outputs": [
    {
     "name": "stdout",
     "output_type": "stream",
     "text": [
      " am a student\n"
     ]
    }
   ],
   "source": [
    "print(a[2:50:1])"
   ]
  },
  {
   "cell_type": "code",
   "execution_count": 1,
   "id": "dd372339-e29c-43b2-851d-1850d63275d6",
   "metadata": {},
   "outputs": [],
   "source": [
    "a=20"
   ]
  },
  {
   "cell_type": "code",
   "execution_count": 3,
   "id": "ccbd70da-a138-4fcf-b0c1-7e9c6286d6a7",
   "metadata": {},
   "outputs": [
    {
     "data": {
      "text/plain": [
       "int"
      ]
     },
     "execution_count": 3,
     "metadata": {},
     "output_type": "execute_result"
    }
   ],
   "source": [
    "# to check type : use type()\n",
    "type(a)"
   ]
  },
  {
   "cell_type": "code",
   "execution_count": 5,
   "id": "0a033686-d7ba-4b35-b68c-9cb6148f342d",
   "metadata": {},
   "outputs": [
    {
     "data": {
      "text/plain": [
       "float"
      ]
     },
     "execution_count": 5,
     "metadata": {},
     "output_type": "execute_result"
    }
   ],
   "source": [
    "a=20.0\n",
    "type(a)"
   ]
  },
  {
   "cell_type": "code",
   "execution_count": 7,
   "id": "b3639b4f-7bbf-4e29-83bb-58ea2e17fe41",
   "metadata": {},
   "outputs": [
    {
     "name": "stdout",
     "output_type": "stream",
     "text": [
      "<class 'int'>\n",
      "<class 'float'>\n"
     ]
    }
   ],
   "source": [
    "a=8\n",
    "print(type(a))\n",
    "\n",
    "b=5.2\n",
    "print(type(b))"
   ]
  },
  {
   "cell_type": "code",
   "execution_count": 9,
   "id": "5de2f404-33cc-468a-b5b2-27ae98e10442",
   "metadata": {},
   "outputs": [
    {
     "data": {
      "text/plain": [
       "10.0"
      ]
     },
     "execution_count": 9,
     "metadata": {},
     "output_type": "execute_result"
    }
   ],
   "source": [
    "a=8\n",
    "b=2.0\n",
    "a+b"
   ]
  },
  {
   "cell_type": "markdown",
   "id": "b4d08f00-4cfc-42b4-9f19-62b66baf4c19",
   "metadata": {},
   "source": [
    "type casting: convert form one to anther type : int(),float(),\n",
    "str()"
   ]
  },
  {
   "cell_type": "code",
   "execution_count": 12,
   "id": "7d8f067a-5450-4cbb-bf08-b06ff8a6c550",
   "metadata": {},
   "outputs": [
    {
     "data": {
      "text/plain": [
       "2"
      ]
     },
     "execution_count": 12,
     "metadata": {},
     "output_type": "execute_result"
    }
   ],
   "source": [
    "b=2.3\n",
    "int(b)"
   ]
  },
  {
   "cell_type": "code",
   "execution_count": 14,
   "id": "50f03af6-28dd-4b48-8b2a-528380c7df7a",
   "metadata": {},
   "outputs": [
    {
     "data": {
      "text/plain": [
       "8"
      ]
     },
     "execution_count": 14,
     "metadata": {},
     "output_type": "execute_result"
    }
   ],
   "source": [
    "int(8.00002)"
   ]
  },
  {
   "cell_type": "code",
   "execution_count": 16,
   "id": "17936775-3ea3-4b95-b051-bb5e921809c2",
   "metadata": {},
   "outputs": [
    {
     "data": {
      "text/plain": [
       "'Boolean'"
      ]
     },
     "execution_count": 16,
     "metadata": {},
     "output_type": "execute_result"
    }
   ],
   "source": [
    "'Boolean'"
   ]
  },
  {
   "cell_type": "code",
   "execution_count": 20,
   "id": "703c244e-60ea-4355-bcd9-2b8056e2cd23",
   "metadata": {},
   "outputs": [
    {
     "data": {
      "text/plain": [
       "bool"
      ]
     },
     "execution_count": 20,
     "metadata": {},
     "output_type": "execute_result"
    }
   ],
   "source": [
    "a1=True\n",
    "type(a1)"
   ]
  },
  {
   "cell_type": "code",
   "execution_count": 22,
   "id": "f2a0cb29-3f19-4d44-aea7-0c4876a75926",
   "metadata": {},
   "outputs": [
    {
     "data": {
      "text/plain": [
       "bool"
      ]
     },
     "execution_count": 22,
     "metadata": {},
     "output_type": "execute_result"
    }
   ],
   "source": [
    "type(True)"
   ]
  },
  {
   "cell_type": "code",
   "execution_count": 24,
   "id": "007d23ab-e4c4-4e1c-81fd-3f308b53a720",
   "metadata": {},
   "outputs": [
    {
     "data": {
      "text/plain": [
       "bool"
      ]
     },
     "execution_count": 24,
     "metadata": {},
     "output_type": "execute_result"
    }
   ],
   "source": [
    "type(False)"
   ]
  },
  {
   "cell_type": "code",
   "execution_count": 26,
   "id": "6d2ed7ad-4d71-4aa5-bd12-15a6d2448f7e",
   "metadata": {},
   "outputs": [
    {
     "data": {
      "text/plain": [
       "2"
      ]
     },
     "execution_count": 26,
     "metadata": {},
     "output_type": "execute_result"
    }
   ],
   "source": [
    "True+True"
   ]
  },
  {
   "cell_type": "code",
   "execution_count": 28,
   "id": "f5797fb9-6807-4902-a40c-5756ff79c2ff",
   "metadata": {},
   "outputs": [
    {
     "data": {
      "text/plain": [
       "0"
      ]
     },
     "execution_count": 28,
     "metadata": {},
     "output_type": "execute_result"
    }
   ],
   "source": [
    "False+False"
   ]
  },
  {
   "cell_type": "code",
   "execution_count": 30,
   "id": "5c4d0e62-06b7-4ac0-9291-01ada30eacea",
   "metadata": {},
   "outputs": [
    {
     "data": {
      "text/plain": [
       "9.0"
      ]
     },
     "execution_count": 30,
     "metadata": {},
     "output_type": "execute_result"
    }
   ],
   "source": [
    "c=8.0\n",
    "d=True\n",
    "c+d"
   ]
  },
  {
   "cell_type": "code",
   "execution_count": 32,
   "id": "cfcfa356-cbc4-41a5-a5cc-025133c72ac4",
   "metadata": {},
   "outputs": [
    {
     "data": {
      "text/plain": [
       "'complex'"
      ]
     },
     "execution_count": 32,
     "metadata": {},
     "output_type": "execute_result"
    }
   ],
   "source": [
    "\"complex\""
   ]
  },
  {
   "cell_type": "code",
   "execution_count": 34,
   "id": "00474a94-7c83-493d-b339-d637ef4e6782",
   "metadata": {},
   "outputs": [],
   "source": [
    "x=20+10j"
   ]
  },
  {
   "cell_type": "code",
   "execution_count": 36,
   "id": "71b9eaff-ba8c-4c1d-b375-cdb896764858",
   "metadata": {},
   "outputs": [
    {
     "data": {
      "text/plain": [
       "complex"
      ]
     },
     "execution_count": 36,
     "metadata": {},
     "output_type": "execute_result"
    }
   ],
   "source": [
    "type(x)"
   ]
  },
  {
   "cell_type": "code",
   "execution_count": 38,
   "id": "eb87f3db-43d6-4d6d-8577-cb1988345286",
   "metadata": {},
   "outputs": [
    {
     "data": {
      "text/plain": [
       "20.0"
      ]
     },
     "execution_count": 38,
     "metadata": {},
     "output_type": "execute_result"
    }
   ],
   "source": [
    "x.real"
   ]
  },
  {
   "cell_type": "code",
   "execution_count": 42,
   "id": "753ba425-34d4-426d-a88a-32f6d88d9049",
   "metadata": {},
   "outputs": [
    {
     "data": {
      "text/plain": [
       "10.0"
      ]
     },
     "execution_count": 42,
     "metadata": {},
     "output_type": "execute_result"
    }
   ],
   "source": [
    "x.imag"
   ]
  },
  {
   "cell_type": "code",
   "execution_count": 44,
   "id": "3af54a16-4c14-477d-b63b-57ea383018e1",
   "metadata": {},
   "outputs": [
    {
     "name": "stdout",
     "output_type": "stream",
     "text": [
      "2.5 3.2\n"
     ]
    }
   ],
   "source": [
    "y=2.5+3.2j\n",
    "print(y.real,y.imag)"
   ]
  },
  {
   "cell_type": "code",
   "execution_count": null,
   "id": "c35a2c12-413f-46c0-93a8-61b385dacd4e",
   "metadata": {},
   "outputs": [],
   "source": []
  }
 ],
 "metadata": {
  "kernelspec": {
   "display_name": "Python 3 (ipykernel)",
   "language": "python",
   "name": "python3"
  },
  "language_info": {
   "codemirror_mode": {
    "name": "ipython",
    "version": 3
   },
   "file_extension": ".py",
   "mimetype": "text/x-python",
   "name": "python",
   "nbconvert_exporter": "python",
   "pygments_lexer": "ipython3",
   "version": "3.11.7"
  }
 },
 "nbformat": 4,
 "nbformat_minor": 5
}
